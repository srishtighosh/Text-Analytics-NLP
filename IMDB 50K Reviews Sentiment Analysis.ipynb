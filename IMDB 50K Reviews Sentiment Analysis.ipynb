{
 "cells": [
  {
   "cell_type": "code",
   "execution_count": 171,
   "metadata": {},
   "outputs": [],
   "source": [
    "import numpy as np\n",
    "import pandas as pd"
   ]
  },
  {
   "cell_type": "code",
   "execution_count": 172,
   "metadata": {},
   "outputs": [],
   "source": [
    "#to view the full text or review provided by the user\n",
    "#pd.set_option('display.max_colwidth', -1) "
   ]
  },
  {
   "cell_type": "code",
   "execution_count": 173,
   "metadata": {},
   "outputs": [
    {
     "data": {
      "text/html": [
       "<div>\n",
       "<style scoped>\n",
       "    .dataframe tbody tr th:only-of-type {\n",
       "        vertical-align: middle;\n",
       "    }\n",
       "\n",
       "    .dataframe tbody tr th {\n",
       "        vertical-align: top;\n",
       "    }\n",
       "\n",
       "    .dataframe thead th {\n",
       "        text-align: right;\n",
       "    }\n",
       "</style>\n",
       "<table border=\"1\" class=\"dataframe\">\n",
       "  <thead>\n",
       "    <tr style=\"text-align: right;\">\n",
       "      <th></th>\n",
       "      <th>text</th>\n",
       "      <th>sentiment</th>\n",
       "    </tr>\n",
       "  </thead>\n",
       "  <tbody>\n",
       "    <tr>\n",
       "      <td>0</td>\n",
       "      <td>Now, I won't deny that when I purchased this o...</td>\n",
       "      <td>neg</td>\n",
       "    </tr>\n",
       "    <tr>\n",
       "      <td>1</td>\n",
       "      <td>The saddest thing about this \"tribute\" is that...</td>\n",
       "      <td>neg</td>\n",
       "    </tr>\n",
       "    <tr>\n",
       "      <td>2</td>\n",
       "      <td>Last night I decided to watch the prequel or s...</td>\n",
       "      <td>neg</td>\n",
       "    </tr>\n",
       "    <tr>\n",
       "      <td>3</td>\n",
       "      <td>I have to admit that i liked the first half of...</td>\n",
       "      <td>neg</td>\n",
       "    </tr>\n",
       "    <tr>\n",
       "      <td>4</td>\n",
       "      <td>I was not impressed about this film especially...</td>\n",
       "      <td>neg</td>\n",
       "    </tr>\n",
       "  </tbody>\n",
       "</table>\n",
       "</div>"
      ],
      "text/plain": [
       "                                                text sentiment\n",
       "0  Now, I won't deny that when I purchased this o...       neg\n",
       "1  The saddest thing about this \"tribute\" is that...       neg\n",
       "2  Last night I decided to watch the prequel or s...       neg\n",
       "3  I have to admit that i liked the first half of...       neg\n",
       "4  I was not impressed about this film especially...       neg"
      ]
     },
     "execution_count": 173,
     "metadata": {},
     "output_type": "execute_result"
    }
   ],
   "source": [
    "##Reading the train data\n",
    "train_data=pd.read_csv('train.csv')\n",
    "train_data.head()"
   ]
  },
  {
   "cell_type": "code",
   "execution_count": 174,
   "metadata": {},
   "outputs": [
    {
     "data": {
      "text/html": [
       "<div>\n",
       "<style scoped>\n",
       "    .dataframe tbody tr th:only-of-type {\n",
       "        vertical-align: middle;\n",
       "    }\n",
       "\n",
       "    .dataframe tbody tr th {\n",
       "        vertical-align: top;\n",
       "    }\n",
       "\n",
       "    .dataframe thead th {\n",
       "        text-align: right;\n",
       "    }\n",
       "</style>\n",
       "<table border=\"1\" class=\"dataframe\">\n",
       "  <thead>\n",
       "    <tr style=\"text-align: right;\">\n",
       "      <th></th>\n",
       "      <th>text</th>\n",
       "      <th>sentiment</th>\n",
       "    </tr>\n",
       "  </thead>\n",
       "  <tbody>\n",
       "    <tr>\n",
       "      <td>0</td>\n",
       "      <td>My daughter liked it but I was aghast, that a ...</td>\n",
       "      <td>neg</td>\n",
       "    </tr>\n",
       "    <tr>\n",
       "      <td>1</td>\n",
       "      <td>I... No words. No words can describe this. I w...</td>\n",
       "      <td>neg</td>\n",
       "    </tr>\n",
       "    <tr>\n",
       "      <td>2</td>\n",
       "      <td>this film is basically a poor take on the old ...</td>\n",
       "      <td>neg</td>\n",
       "    </tr>\n",
       "    <tr>\n",
       "      <td>3</td>\n",
       "      <td>This is a terrible movie, and I'm not even sur...</td>\n",
       "      <td>neg</td>\n",
       "    </tr>\n",
       "    <tr>\n",
       "      <td>4</td>\n",
       "      <td>First of all this movie is a piece of reality ...</td>\n",
       "      <td>pos</td>\n",
       "    </tr>\n",
       "  </tbody>\n",
       "</table>\n",
       "</div>"
      ],
      "text/plain": [
       "                                                text sentiment\n",
       "0  My daughter liked it but I was aghast, that a ...       neg\n",
       "1  I... No words. No words can describe this. I w...       neg\n",
       "2  this film is basically a poor take on the old ...       neg\n",
       "3  This is a terrible movie, and I'm not even sur...       neg\n",
       "4  First of all this movie is a piece of reality ...       pos"
      ]
     },
     "execution_count": 174,
     "metadata": {},
     "output_type": "execute_result"
    }
   ],
   "source": [
    "##Reading the test_data:\n",
    "test_data=pd.read_csv('test.csv')\n",
    "test_data.head()"
   ]
  },
  {
   "cell_type": "code",
   "execution_count": 175,
   "metadata": {},
   "outputs": [
    {
     "data": {
      "text/plain": [
       "(25000, 2)"
      ]
     },
     "execution_count": 175,
     "metadata": {},
     "output_type": "execute_result"
    }
   ],
   "source": [
    "#Checking the train data size:\n",
    "train_data.shape"
   ]
  },
  {
   "cell_type": "code",
   "execution_count": 176,
   "metadata": {},
   "outputs": [
    {
     "data": {
      "text/plain": [
       "(25000, 2)"
      ]
     },
     "execution_count": 176,
     "metadata": {},
     "output_type": "execute_result"
    }
   ],
   "source": [
    "#Checking the test data size:\n",
    "test_data.shape"
   ]
  },
  {
   "cell_type": "code",
   "execution_count": 177,
   "metadata": {},
   "outputs": [
    {
     "data": {
      "text/html": [
       "<div>\n",
       "<style scoped>\n",
       "    .dataframe tbody tr th:only-of-type {\n",
       "        vertical-align: middle;\n",
       "    }\n",
       "\n",
       "    .dataframe tbody tr th {\n",
       "        vertical-align: top;\n",
       "    }\n",
       "\n",
       "    .dataframe thead th {\n",
       "        text-align: right;\n",
       "    }\n",
       "</style>\n",
       "<table border=\"1\" class=\"dataframe\">\n",
       "  <thead>\n",
       "    <tr style=\"text-align: right;\">\n",
       "      <th></th>\n",
       "      <th>text</th>\n",
       "      <th>sentiment</th>\n",
       "    </tr>\n",
       "  </thead>\n",
       "  <tbody>\n",
       "    <tr>\n",
       "      <td>1752</td>\n",
       "      <td>Do we really need any more narcissistic garbag...</td>\n",
       "      <td>neg</td>\n",
       "    </tr>\n",
       "    <tr>\n",
       "      <td>3002</td>\n",
       "      <td>Bette Midler is again Divine! Raunchily humoro...</td>\n",
       "      <td>pos</td>\n",
       "    </tr>\n",
       "    <tr>\n",
       "      <td>3987</td>\n",
       "      <td>Wow! So much fun! Probably a bit much for norm...</td>\n",
       "      <td>pos</td>\n",
       "    </tr>\n",
       "    <tr>\n",
       "      <td>5378</td>\n",
       "      <td>in this movie, joe pesci slams dunks a basketb...</td>\n",
       "      <td>neg</td>\n",
       "    </tr>\n",
       "    <tr>\n",
       "      <td>6078</td>\n",
       "      <td>.......Playing Kaddiddlehopper, Col San Fernan...</td>\n",
       "      <td>pos</td>\n",
       "    </tr>\n",
       "  </tbody>\n",
       "</table>\n",
       "</div>"
      ],
      "text/plain": [
       "                                                   text sentiment\n",
       "1752  Do we really need any more narcissistic garbag...       neg\n",
       "3002  Bette Midler is again Divine! Raunchily humoro...       pos\n",
       "3987  Wow! So much fun! Probably a bit much for norm...       pos\n",
       "5378  in this movie, joe pesci slams dunks a basketb...       neg\n",
       "6078  .......Playing Kaddiddlehopper, Col San Fernan...       pos"
      ]
     },
     "execution_count": 177,
     "metadata": {},
     "output_type": "execute_result"
    }
   ],
   "source": [
    "#Check for duplicate rows in train_data\n",
    "train_data[train_data.duplicated(['text'])].head()"
   ]
  },
  {
   "cell_type": "code",
   "execution_count": 178,
   "metadata": {},
   "outputs": [
    {
     "data": {
      "text/plain": [
       "96"
      ]
     },
     "execution_count": 178,
     "metadata": {},
     "output_type": "execute_result"
    }
   ],
   "source": [
    "#Count of duplicate rows of text or reviews in the train_data \n",
    "train_data[train_data.duplicated(['text'])]['text'].count()"
   ]
  },
  {
   "cell_type": "code",
   "execution_count": 179,
   "metadata": {},
   "outputs": [
    {
     "data": {
      "text/plain": [
       "(24904, 2)"
      ]
     },
     "execution_count": 179,
     "metadata": {},
     "output_type": "execute_result"
    }
   ],
   "source": [
    "##Dropping the duplicates and checking their size:\n",
    "train_data_wo_dup=train_data.drop_duplicates(['text'])\n",
    "train_data_wo_dup.shape"
   ]
  },
  {
   "cell_type": "code",
   "execution_count": 180,
   "metadata": {},
   "outputs": [
    {
     "data": {
      "text/html": [
       "<div>\n",
       "<style scoped>\n",
       "    .dataframe tbody tr th:only-of-type {\n",
       "        vertical-align: middle;\n",
       "    }\n",
       "\n",
       "    .dataframe tbody tr th {\n",
       "        vertical-align: top;\n",
       "    }\n",
       "\n",
       "    .dataframe thead th {\n",
       "        text-align: right;\n",
       "    }\n",
       "</style>\n",
       "<table border=\"1\" class=\"dataframe\">\n",
       "  <thead>\n",
       "    <tr style=\"text-align: right;\">\n",
       "      <th></th>\n",
       "      <th>text</th>\n",
       "      <th>sentiment</th>\n",
       "    </tr>\n",
       "  </thead>\n",
       "  <tbody>\n",
       "    <tr>\n",
       "      <td>329</td>\n",
       "      <td>Ed Wood rides again. The fact that this movie ...</td>\n",
       "      <td>neg</td>\n",
       "    </tr>\n",
       "    <tr>\n",
       "      <td>978</td>\n",
       "      <td>This series is formulaic and boring. The episo...</td>\n",
       "      <td>neg</td>\n",
       "    </tr>\n",
       "    <tr>\n",
       "      <td>2407</td>\n",
       "      <td>This movie looked like it was rushed to releas...</td>\n",
       "      <td>neg</td>\n",
       "    </tr>\n",
       "    <tr>\n",
       "      <td>2475</td>\n",
       "      <td>when I first heard about this movie, I noticed...</td>\n",
       "      <td>pos</td>\n",
       "    </tr>\n",
       "    <tr>\n",
       "      <td>2704</td>\n",
       "      <td>These writers are trying to re-create the char...</td>\n",
       "      <td>neg</td>\n",
       "    </tr>\n",
       "  </tbody>\n",
       "</table>\n",
       "</div>"
      ],
      "text/plain": [
       "                                                   text sentiment\n",
       "329   Ed Wood rides again. The fact that this movie ...       neg\n",
       "978   This series is formulaic and boring. The episo...       neg\n",
       "2407  This movie looked like it was rushed to releas...       neg\n",
       "2475  when I first heard about this movie, I noticed...       pos\n",
       "2704  These writers are trying to re-create the char...       neg"
      ]
     },
     "execution_count": 180,
     "metadata": {},
     "output_type": "execute_result"
    }
   ],
   "source": [
    "#Check for duplicate rows in test_data:\n",
    "test_data[test_data.duplicated(['text'])].head()"
   ]
  },
  {
   "cell_type": "code",
   "execution_count": 181,
   "metadata": {},
   "outputs": [
    {
     "data": {
      "text/plain": [
       "199"
      ]
     },
     "execution_count": 181,
     "metadata": {},
     "output_type": "execute_result"
    }
   ],
   "source": [
    "#Count of duplicate rows of text or reviews in the test_data: \n",
    "test_data[test_data.duplicated(['text'])]['text'].count()"
   ]
  },
  {
   "cell_type": "code",
   "execution_count": 182,
   "metadata": {},
   "outputs": [
    {
     "data": {
      "text/plain": [
       "(24801, 2)"
      ]
     },
     "execution_count": 182,
     "metadata": {},
     "output_type": "execute_result"
    }
   ],
   "source": [
    "##Dropping the duplicates and checking their size:\n",
    "test_data_wo_dup=test_data.drop_duplicates(['text'])\n",
    "test_data_wo_dup.shape"
   ]
  },
  {
   "cell_type": "code",
   "execution_count": 183,
   "metadata": {},
   "outputs": [],
   "source": [
    "##Now merging the the two datasets altogether to get the bigger version of dataset:"
   ]
  },
  {
   "cell_type": "code",
   "execution_count": 184,
   "metadata": {},
   "outputs": [
    {
     "data": {
      "text/html": [
       "<div>\n",
       "<style scoped>\n",
       "    .dataframe tbody tr th:only-of-type {\n",
       "        vertical-align: middle;\n",
       "    }\n",
       "\n",
       "    .dataframe tbody tr th {\n",
       "        vertical-align: top;\n",
       "    }\n",
       "\n",
       "    .dataframe thead th {\n",
       "        text-align: right;\n",
       "    }\n",
       "</style>\n",
       "<table border=\"1\" class=\"dataframe\">\n",
       "  <thead>\n",
       "    <tr style=\"text-align: right;\">\n",
       "      <th></th>\n",
       "      <th>text</th>\n",
       "      <th>sentiment</th>\n",
       "    </tr>\n",
       "  </thead>\n",
       "  <tbody>\n",
       "    <tr>\n",
       "      <td>0</td>\n",
       "      <td>Now, I won't deny that when I purchased this o...</td>\n",
       "      <td>neg</td>\n",
       "    </tr>\n",
       "    <tr>\n",
       "      <td>1</td>\n",
       "      <td>The saddest thing about this \"tribute\" is that...</td>\n",
       "      <td>neg</td>\n",
       "    </tr>\n",
       "    <tr>\n",
       "      <td>2</td>\n",
       "      <td>Last night I decided to watch the prequel or s...</td>\n",
       "      <td>neg</td>\n",
       "    </tr>\n",
       "    <tr>\n",
       "      <td>3</td>\n",
       "      <td>I have to admit that i liked the first half of...</td>\n",
       "      <td>neg</td>\n",
       "    </tr>\n",
       "    <tr>\n",
       "      <td>4</td>\n",
       "      <td>I was not impressed about this film especially...</td>\n",
       "      <td>neg</td>\n",
       "    </tr>\n",
       "  </tbody>\n",
       "</table>\n",
       "</div>"
      ],
      "text/plain": [
       "                                                text sentiment\n",
       "0  Now, I won't deny that when I purchased this o...       neg\n",
       "1  The saddest thing about this \"tribute\" is that...       neg\n",
       "2  Last night I decided to watch the prequel or s...       neg\n",
       "3  I have to admit that i liked the first half of...       neg\n",
       "4  I was not impressed about this film especially...       neg"
      ]
     },
     "execution_count": 184,
     "metadata": {},
     "output_type": "execute_result"
    }
   ],
   "source": [
    "merged_data=pd.concat([train_data_wo_dup,test_data_wo_dup],ignore_index=True)\n",
    "merged_data.head()"
   ]
  },
  {
   "cell_type": "code",
   "execution_count": 185,
   "metadata": {},
   "outputs": [
    {
     "data": {
      "text/plain": [
       "(49705, 2)"
      ]
     },
     "execution_count": 185,
     "metadata": {},
     "output_type": "execute_result"
    }
   ],
   "source": [
    "##Check the merged dataset size:\n",
    "merged_data.shape"
   ]
  },
  {
   "cell_type": "code",
   "execution_count": 186,
   "metadata": {},
   "outputs": [
    {
     "data": {
      "text/plain": [
       "text         0\n",
       "sentiment    0\n",
       "dtype: int64"
      ]
     },
     "execution_count": 186,
     "metadata": {},
     "output_type": "execute_result"
    }
   ],
   "source": [
    "##To check if there is any null data in the dataset:\n",
    "merged_data.isnull().sum()"
   ]
  },
  {
   "cell_type": "code",
   "execution_count": 187,
   "metadata": {},
   "outputs": [
    {
     "data": {
      "text/html": [
       "<div>\n",
       "<style scoped>\n",
       "    .dataframe tbody tr th:only-of-type {\n",
       "        vertical-align: middle;\n",
       "    }\n",
       "\n",
       "    .dataframe tbody tr th {\n",
       "        vertical-align: top;\n",
       "    }\n",
       "\n",
       "    .dataframe thead th {\n",
       "        text-align: right;\n",
       "    }\n",
       "</style>\n",
       "<table border=\"1\" class=\"dataframe\">\n",
       "  <thead>\n",
       "    <tr style=\"text-align: right;\">\n",
       "      <th></th>\n",
       "      <th>text</th>\n",
       "      <th>sentiment</th>\n",
       "    </tr>\n",
       "  </thead>\n",
       "  <tbody>\n",
       "    <tr>\n",
       "      <td>25240</td>\n",
       "      <td>When my own child is begging me to leave the o...</td>\n",
       "      <td>neg</td>\n",
       "    </tr>\n",
       "    <tr>\n",
       "      <td>25357</td>\n",
       "      <td>A somewhat typical bit of filmmaking from this...</td>\n",
       "      <td>pos</td>\n",
       "    </tr>\n",
       "    <tr>\n",
       "      <td>25403</td>\n",
       "      <td>***SPOILERS*** ***SPOILERS*** Well, seeing as ...</td>\n",
       "      <td>pos</td>\n",
       "    </tr>\n",
       "    <tr>\n",
       "      <td>25638</td>\n",
       "      <td>I am partly a fan of Miyazaki's work. I say \"p...</td>\n",
       "      <td>neg</td>\n",
       "    </tr>\n",
       "    <tr>\n",
       "      <td>25817</td>\n",
       "      <td>This movie has made me upset! When I think of ...</td>\n",
       "      <td>neg</td>\n",
       "    </tr>\n",
       "  </tbody>\n",
       "</table>\n",
       "</div>"
      ],
      "text/plain": [
       "                                                    text sentiment\n",
       "25240  When my own child is begging me to leave the o...       neg\n",
       "25357  A somewhat typical bit of filmmaking from this...       pos\n",
       "25403  ***SPOILERS*** ***SPOILERS*** Well, seeing as ...       pos\n",
       "25638  I am partly a fan of Miyazaki's work. I say \"p...       neg\n",
       "25817  This movie has made me upset! When I think of ...       neg"
      ]
     },
     "execution_count": 187,
     "metadata": {},
     "output_type": "execute_result"
    }
   ],
   "source": [
    "##To check for duplicate data after two datasets have been combined:\n",
    "merged_data[merged_data.duplicated(['text'])].head()"
   ]
  },
  {
   "cell_type": "code",
   "execution_count": 188,
   "metadata": {},
   "outputs": [
    {
     "data": {
      "text/plain": [
       "123"
      ]
     },
     "execution_count": 188,
     "metadata": {},
     "output_type": "execute_result"
    }
   ],
   "source": [
    "##To check for the count of duplicate data after two datasets have been combined:\n",
    "merged_data[merged_data.duplicated(['text'])]['text'].count()"
   ]
  },
  {
   "cell_type": "code",
   "execution_count": 189,
   "metadata": {},
   "outputs": [
    {
     "data": {
      "text/plain": [
       "(49582, 2)"
      ]
     },
     "execution_count": 189,
     "metadata": {},
     "output_type": "execute_result"
    }
   ],
   "source": [
    "##Dropping the duplicates and checking their size:\n",
    "merged_data_wo_dup=merged_data.drop_duplicates(['text'])\n",
    "merged_data_wo_dup.shape"
   ]
  },
  {
   "cell_type": "raw",
   "metadata": {},
   "source": [
    "So the final merged data without any null and duplicate values are 49582 in all total."
   ]
  },
  {
   "cell_type": "code",
   "execution_count": 191,
   "metadata": {},
   "outputs": [
    {
     "data": {
      "text/html": [
       "<div>\n",
       "<style scoped>\n",
       "    .dataframe tbody tr th:only-of-type {\n",
       "        vertical-align: middle;\n",
       "    }\n",
       "\n",
       "    .dataframe tbody tr th {\n",
       "        vertical-align: top;\n",
       "    }\n",
       "\n",
       "    .dataframe thead th {\n",
       "        text-align: right;\n",
       "    }\n",
       "</style>\n",
       "<table border=\"1\" class=\"dataframe\">\n",
       "  <thead>\n",
       "    <tr style=\"text-align: right;\">\n",
       "      <th></th>\n",
       "      <th>text</th>\n",
       "      <th>sentiment</th>\n",
       "    </tr>\n",
       "  </thead>\n",
       "  <tbody>\n",
       "    <tr>\n",
       "      <td>0</td>\n",
       "      <td>Now, I won't deny that when I purchased this o...</td>\n",
       "      <td>neg</td>\n",
       "    </tr>\n",
       "    <tr>\n",
       "      <td>1</td>\n",
       "      <td>The saddest thing about this \"tribute\" is that...</td>\n",
       "      <td>neg</td>\n",
       "    </tr>\n",
       "    <tr>\n",
       "      <td>2</td>\n",
       "      <td>Last night I decided to watch the prequel or s...</td>\n",
       "      <td>neg</td>\n",
       "    </tr>\n",
       "    <tr>\n",
       "      <td>3</td>\n",
       "      <td>I have to admit that i liked the first half of...</td>\n",
       "      <td>neg</td>\n",
       "    </tr>\n",
       "    <tr>\n",
       "      <td>4</td>\n",
       "      <td>I was not impressed about this film especially...</td>\n",
       "      <td>neg</td>\n",
       "    </tr>\n",
       "  </tbody>\n",
       "</table>\n",
       "</div>"
      ],
      "text/plain": [
       "                                                text sentiment\n",
       "0  Now, I won't deny that when I purchased this o...       neg\n",
       "1  The saddest thing about this \"tribute\" is that...       neg\n",
       "2  Last night I decided to watch the prequel or s...       neg\n",
       "3  I have to admit that i liked the first half of...       neg\n",
       "4  I was not impressed about this film especially...       neg"
      ]
     },
     "execution_count": 191,
     "metadata": {},
     "output_type": "execute_result"
    }
   ],
   "source": [
    "final_data=merged_data_wo_dup\n",
    "final_data.head()"
   ]
  },
  {
   "cell_type": "code",
   "execution_count": 192,
   "metadata": {},
   "outputs": [
    {
     "data": {
      "text/plain": [
       "(49582, 2)"
      ]
     },
     "execution_count": 192,
     "metadata": {},
     "output_type": "execute_result"
    }
   ],
   "source": [
    "#checking the final dataset's shape: \n",
    "final_data.shape"
   ]
  },
  {
   "cell_type": "code",
   "execution_count": 193,
   "metadata": {},
   "outputs": [
    {
     "data": {
      "text/plain": [
       "text         0\n",
       "sentiment    0\n",
       "dtype: int64"
      ]
     },
     "execution_count": 193,
     "metadata": {},
     "output_type": "execute_result"
    }
   ],
   "source": [
    "final_data.isnull().sum()"
   ]
  },
  {
   "cell_type": "code",
   "execution_count": 194,
   "metadata": {},
   "outputs": [
    {
     "data": {
      "text/plain": [
       "24884"
      ]
     },
     "execution_count": 194,
     "metadata": {},
     "output_type": "execute_result"
    }
   ],
   "source": [
    "#total positive reviews present\n",
    "final_data[final_data['sentiment']=='pos']['sentiment'].count()"
   ]
  },
  {
   "cell_type": "code",
   "execution_count": 195,
   "metadata": {},
   "outputs": [
    {
     "data": {
      "text/plain": [
       "24698"
      ]
     },
     "execution_count": 195,
     "metadata": {},
     "output_type": "execute_result"
    }
   ],
   "source": [
    "#total negative reviews present\n",
    "final_data[final_data['sentiment']=='neg']['sentiment'].count()"
   ]
  },
  {
   "cell_type": "code",
   "execution_count": 196,
   "metadata": {},
   "outputs": [
    {
     "data": {
      "text/html": [
       "<div>\n",
       "<style scoped>\n",
       "    .dataframe tbody tr th:only-of-type {\n",
       "        vertical-align: middle;\n",
       "    }\n",
       "\n",
       "    .dataframe tbody tr th {\n",
       "        vertical-align: top;\n",
       "    }\n",
       "\n",
       "    .dataframe thead th {\n",
       "        text-align: right;\n",
       "    }\n",
       "</style>\n",
       "<table border=\"1\" class=\"dataframe\">\n",
       "  <thead>\n",
       "    <tr style=\"text-align: right;\">\n",
       "      <th></th>\n",
       "      <th>text</th>\n",
       "      <th>sentiment</th>\n",
       "    </tr>\n",
       "  </thead>\n",
       "  <tbody>\n",
       "    <tr>\n",
       "      <td>count</td>\n",
       "      <td>49582</td>\n",
       "      <td>49582</td>\n",
       "    </tr>\n",
       "    <tr>\n",
       "      <td>unique</td>\n",
       "      <td>49582</td>\n",
       "      <td>2</td>\n",
       "    </tr>\n",
       "    <tr>\n",
       "      <td>top</td>\n",
       "      <td>holy Sh*t this was god awful. i sat in the the...</td>\n",
       "      <td>pos</td>\n",
       "    </tr>\n",
       "    <tr>\n",
       "      <td>freq</td>\n",
       "      <td>1</td>\n",
       "      <td>24884</td>\n",
       "    </tr>\n",
       "  </tbody>\n",
       "</table>\n",
       "</div>"
      ],
      "text/plain": [
       "                                                     text sentiment\n",
       "count                                               49582     49582\n",
       "unique                                              49582         2\n",
       "top     holy Sh*t this was god awful. i sat in the the...       pos\n",
       "freq                                                    1     24884"
      ]
     },
     "execution_count": 196,
     "metadata": {},
     "output_type": "execute_result"
    }
   ],
   "source": [
    "final_data.describe()"
   ]
  },
  {
   "cell_type": "markdown",
   "metadata": {},
   "source": [
    "#### Insights:\n",
    "- If the rating given by the customer is <=4 out of 10, then the sentiment is negative(neg).\n",
    "- If the rating given by the customer is >= 7 out of 10, then the sentiment is positive(pos).\n",
    "- And the neutral ratings are not included."
   ]
  },
  {
   "cell_type": "markdown",
   "metadata": {},
   "source": [
    "##### Deriving the sentiment score based on sentiment already provided, i.e., sentiment as \"neg\" will be scored as 0 and sentiment as \"pos\" will be scored as 1."
   ]
  },
  {
   "cell_type": "code",
   "execution_count": 197,
   "metadata": {},
   "outputs": [
    {
     "name": "stderr",
     "output_type": "stream",
     "text": [
      "C:\\Users\\Srishti\\AppData\\Local\\Continuum\\anaconda3\\lib\\site-packages\\ipykernel_launcher.py:2: SettingWithCopyWarning: \n",
      "A value is trying to be set on a copy of a slice from a DataFrame.\n",
      "Try using .loc[row_indexer,col_indexer] = value instead\n",
      "\n",
      "See the caveats in the documentation: http://pandas.pydata.org/pandas-docs/stable/user_guide/indexing.html#returning-a-view-versus-a-copy\n",
      "  \n"
     ]
    },
    {
     "data": {
      "text/html": [
       "<div>\n",
       "<style scoped>\n",
       "    .dataframe tbody tr th:only-of-type {\n",
       "        vertical-align: middle;\n",
       "    }\n",
       "\n",
       "    .dataframe tbody tr th {\n",
       "        vertical-align: top;\n",
       "    }\n",
       "\n",
       "    .dataframe thead th {\n",
       "        text-align: right;\n",
       "    }\n",
       "</style>\n",
       "<table border=\"1\" class=\"dataframe\">\n",
       "  <thead>\n",
       "    <tr style=\"text-align: right;\">\n",
       "      <th></th>\n",
       "      <th>text</th>\n",
       "      <th>sentiment</th>\n",
       "      <th>sentiment_score</th>\n",
       "    </tr>\n",
       "  </thead>\n",
       "  <tbody>\n",
       "    <tr>\n",
       "      <td>0</td>\n",
       "      <td>Now, I won't deny that when I purchased this o...</td>\n",
       "      <td>neg</td>\n",
       "      <td>0</td>\n",
       "    </tr>\n",
       "    <tr>\n",
       "      <td>1</td>\n",
       "      <td>The saddest thing about this \"tribute\" is that...</td>\n",
       "      <td>neg</td>\n",
       "      <td>0</td>\n",
       "    </tr>\n",
       "    <tr>\n",
       "      <td>2</td>\n",
       "      <td>Last night I decided to watch the prequel or s...</td>\n",
       "      <td>neg</td>\n",
       "      <td>0</td>\n",
       "    </tr>\n",
       "    <tr>\n",
       "      <td>3</td>\n",
       "      <td>I have to admit that i liked the first half of...</td>\n",
       "      <td>neg</td>\n",
       "      <td>0</td>\n",
       "    </tr>\n",
       "    <tr>\n",
       "      <td>4</td>\n",
       "      <td>I was not impressed about this film especially...</td>\n",
       "      <td>neg</td>\n",
       "      <td>0</td>\n",
       "    </tr>\n",
       "  </tbody>\n",
       "</table>\n",
       "</div>"
      ],
      "text/plain": [
       "                                                text sentiment  \\\n",
       "0  Now, I won't deny that when I purchased this o...       neg   \n",
       "1  The saddest thing about this \"tribute\" is that...       neg   \n",
       "2  Last night I decided to watch the prequel or s...       neg   \n",
       "3  I have to admit that i liked the first half of...       neg   \n",
       "4  I was not impressed about this film especially...       neg   \n",
       "\n",
       "   sentiment_score  \n",
       "0                0  \n",
       "1                0  \n",
       "2                0  \n",
       "3                0  \n",
       "4                0  "
      ]
     },
     "execution_count": 197,
     "metadata": {},
     "output_type": "execute_result"
    }
   ],
   "source": [
    "##deriving sentiment_score column from sentiment column:\n",
    "final_data['sentiment_score']=final_data['sentiment'].apply(lambda x:1 if x=='pos' else 0)\n",
    "final_data.head()"
   ]
  },
  {
   "cell_type": "code",
   "execution_count": 198,
   "metadata": {},
   "outputs": [
    {
     "data": {
      "text/plain": [
       "24698"
      ]
     },
     "execution_count": 198,
     "metadata": {},
     "output_type": "execute_result"
    }
   ],
   "source": [
    "#Checking if the actual count of neg reviews have been changed to 0 sentiment_score\n",
    "final_data[final_data['sentiment_score']==0]['sentiment_score'].count()"
   ]
  },
  {
   "cell_type": "code",
   "execution_count": 199,
   "metadata": {},
   "outputs": [
    {
     "data": {
      "text/plain": [
       "24884"
      ]
     },
     "execution_count": 199,
     "metadata": {},
     "output_type": "execute_result"
    }
   ],
   "source": [
    "#Checking if the actual count of pos reviews have been changed to 1 sentiment_score\n",
    "final_data[final_data['sentiment_score']==1]['sentiment_score'].count()"
   ]
  },
  {
   "cell_type": "markdown",
   "metadata": {},
   "source": [
    "#### So the sentiment_scores have been applied successfully according to the reviews."
   ]
  },
  {
   "cell_type": "code",
   "execution_count": 200,
   "metadata": {},
   "outputs": [
    {
     "data": {
      "text/plain": [
       "1    24884\n",
       "0    24698\n",
       "Name: sentiment_score, dtype: int64"
      ]
     },
     "execution_count": 200,
     "metadata": {},
     "output_type": "execute_result"
    }
   ],
   "source": [
    "final_data.sentiment_score.value_counts()"
   ]
  },
  {
   "cell_type": "code",
   "execution_count": 201,
   "metadata": {},
   "outputs": [
    {
     "data": {
      "text/html": [
       "<div>\n",
       "<style scoped>\n",
       "    .dataframe tbody tr th:only-of-type {\n",
       "        vertical-align: middle;\n",
       "    }\n",
       "\n",
       "    .dataframe tbody tr th {\n",
       "        vertical-align: top;\n",
       "    }\n",
       "\n",
       "    .dataframe thead th {\n",
       "        text-align: right;\n",
       "    }\n",
       "</style>\n",
       "<table border=\"1\" class=\"dataframe\">\n",
       "  <thead>\n",
       "    <tr style=\"text-align: right;\">\n",
       "      <th></th>\n",
       "      <th>sentiment_score</th>\n",
       "    </tr>\n",
       "  </thead>\n",
       "  <tbody>\n",
       "    <tr>\n",
       "      <td>count</td>\n",
       "      <td>49582.000000</td>\n",
       "    </tr>\n",
       "    <tr>\n",
       "      <td>mean</td>\n",
       "      <td>0.501876</td>\n",
       "    </tr>\n",
       "    <tr>\n",
       "      <td>std</td>\n",
       "      <td>0.500002</td>\n",
       "    </tr>\n",
       "    <tr>\n",
       "      <td>min</td>\n",
       "      <td>0.000000</td>\n",
       "    </tr>\n",
       "    <tr>\n",
       "      <td>25%</td>\n",
       "      <td>0.000000</td>\n",
       "    </tr>\n",
       "    <tr>\n",
       "      <td>50%</td>\n",
       "      <td>1.000000</td>\n",
       "    </tr>\n",
       "    <tr>\n",
       "      <td>75%</td>\n",
       "      <td>1.000000</td>\n",
       "    </tr>\n",
       "    <tr>\n",
       "      <td>max</td>\n",
       "      <td>1.000000</td>\n",
       "    </tr>\n",
       "  </tbody>\n",
       "</table>\n",
       "</div>"
      ],
      "text/plain": [
       "       sentiment_score\n",
       "count     49582.000000\n",
       "mean          0.501876\n",
       "std           0.500002\n",
       "min           0.000000\n",
       "25%           0.000000\n",
       "50%           1.000000\n",
       "75%           1.000000\n",
       "max           1.000000"
      ]
     },
     "execution_count": 201,
     "metadata": {},
     "output_type": "execute_result"
    }
   ],
   "source": [
    "final_data.describe()"
   ]
  },
  {
   "cell_type": "markdown",
   "metadata": {},
   "source": [
    "### Word Cloud Before Data Cleaning:"
   ]
  },
  {
   "cell_type": "code",
   "execution_count": 202,
   "metadata": {},
   "outputs": [],
   "source": [
    "from nltk.tokenize import wordpunct_tokenize\n",
    "from wordcloud import WordCloud\n",
    "import matplotlib.pyplot as plt\n",
    "%matplotlib inline"
   ]
  },
  {
   "cell_type": "code",
   "execution_count": 203,
   "metadata": {},
   "outputs": [],
   "source": [
    "reviews_combined=\" \".join(final_data.text.values)"
   ]
  },
  {
   "cell_type": "code",
   "execution_count": 204,
   "metadata": {},
   "outputs": [
    {
     "data": {
      "text/plain": [
       "\"Now, I won't deny that when I purchased this off eBay, I had high expectations. This was an incredib\""
      ]
     },
     "execution_count": 204,
     "metadata": {},
     "output_type": "execute_result"
    }
   ],
   "source": [
    "reviews_combined[:100]"
   ]
  },
  {
   "cell_type": "code",
   "execution_count": 205,
   "metadata": {},
   "outputs": [],
   "source": [
    "word_cloud=WordCloud(max_words=50).generate(reviews_combined)"
   ]
  },
  {
   "cell_type": "code",
   "execution_count": 206,
   "metadata": {},
   "outputs": [
    {
     "data": {
      "image/png": "[encoded data removed]",
      "text/plain": [
       "<Figure size 432x288 with 1 Axes>"
      ]
     },
     "metadata": {
      "needs_background": "light"
     },
     "output_type": "display_data"
    }
   ],
   "source": [
    "#wordcloud using the axis and tigh_layout function also:\n",
    "plt.imshow(word_cloud)\n",
    "plt.axis(\"off\") \n",
    "plt.tight_layout(pad = 0) \n",
    "plt.show()"
   ]
  },
  {
   "cell_type": "code",
   "execution_count": 207,
   "metadata": {},
   "outputs": [],
   "source": [
    "word_cloud1=WordCloud(width=800,height=800,background_color='white',\n",
    "                     max_words=50).generate_from_text(reviews_combined)"
   ]
  },
  {
   "cell_type": "code",
   "execution_count": 208,
   "metadata": {},
   "outputs": [
    {
     "data": {
      "image/png": "[encoded data removed]",
      "text/plain": [
       "<Figure size 432x288 with 1 Axes>"
      ]
     },
     "metadata": {
      "needs_background": "light"
     },
     "output_type": "display_data"
    }
   ],
   "source": [
    "plt.imshow(word_cloud1)\n",
    "plt.axis(\"off\") \n",
    "plt.tight_layout(pad = 0) \n",
    "plt.show()"
   ]
  },
  {
   "cell_type": "markdown",
   "metadata": {},
   "source": [
    "#### Storing all the words as lower case:"
   ]
  },
  {
   "cell_type": "code",
   "execution_count": null,
   "metadata": {},
   "outputs": [],
   "source": [
    "all_terms=wordpunct_tokenize(reviews_combined.lower())\n",
    "all_terms"
   ]
  },
  {
   "cell_type": "markdown",
   "metadata": {},
   "source": [
    "###### Checking for the top 25 words before removing any stopwords or other words:"
   ]
  },
  {
   "cell_type": "code",
   "execution_count": 210,
   "metadata": {},
   "outputs": [
    {
     "data": {
      "text/plain": [
       "FreqDist({'the': 662910, ',': 515097, '.': 456701, 'and': 322091, 'a': 320717, 'of': 287338, 'to': 266120, \"'\": 255216, 'is': 209631, 'br': 200425, ...})"
      ]
     },
     "execution_count": 210,
     "metadata": {},
     "output_type": "execute_result"
    }
   ],
   "source": [
    "from nltk.probability import FreqDist\n",
    "fdist=FreqDist(all_terms)\n",
    "fdist"
   ]
  },
  {
   "cell_type": "code",
   "execution_count": 211,
   "metadata": {},
   "outputs": [
    {
     "data": {
      "image/png": "[encoded data removed]",
      "text/plain": [
       "<Figure size 432x288 with 1 Axes>"
      ]
     },
     "metadata": {
      "needs_background": "light"
     },
     "output_type": "display_data"
    }
   ],
   "source": [
    "fdist.plot(25,cumulative=False)\n",
    "plt.show()"
   ]
  },
  {
   "cell_type": "markdown",
   "metadata": {},
   "source": [
    "#### Finding the highest 25 counts words from the word frequency:"
   ]
  },
  {
   "cell_type": "code",
   "execution_count": 212,
   "metadata": {},
   "outputs": [
    {
     "data": {
      "text/plain": [
       "[('the', 662910),\n",
       " (',', 515097),\n",
       " ('.', 456701),\n",
       " ('and', 322091),\n",
       " ('a', 320717),\n",
       " ('of', 287338),\n",
       " ('to', 266120),\n",
       " (\"'\", 255216),\n",
       " ('is', 209631),\n",
       " ('br', 200425),\n",
       " ('it', 189437),\n",
       " ('in', 185416),\n",
       " ('i', 174140),\n",
       " ('this', 149810),\n",
       " ('that', 142815),\n",
       " ('s', 124159),\n",
       " ('-', 108276),\n",
       " ('/><', 100211),\n",
       " ('\"', 99830),\n",
       " ('/>', 96478),\n",
       " ('was', 94816),\n",
       " ('as', 91076),\n",
       " ('movie', 87276),\n",
       " ('for', 86821),\n",
       " ('with', 86717)]"
      ]
     },
     "execution_count": 212,
     "metadata": {},
     "output_type": "execute_result"
    }
   ],
   "source": [
    "from collections import Counter\n",
    "\n",
    "top_25_words_count=[]\n",
    "top_25_words=[]\n",
    "key = Counter(fdist) \n",
    "  \n",
    "# Finding 25 highest values \n",
    "highest = key.most_common(25)  \n",
    "  \n",
    "for i in highest: \n",
    "    top_25_words_count.append((i[0],i[1]))\n",
    "    top_25_words.append(i[0])\n",
    "top_25_words_count"
   ]
  },
  {
   "cell_type": "code",
   "execution_count": 213,
   "metadata": {},
   "outputs": [
    {
     "name": "stdout",
     "output_type": "stream",
     "text": [
      "['the', ',', '.', 'and', 'a', 'of', 'to', \"'\", 'is', 'br', 'it', 'in', 'i', 'this', 'that', 's', '-', '/><', '\"', '/>', 'was', 'as', 'movie', 'for', 'with']\n"
     ]
    }
   ],
   "source": [
    "print(top_25_words)"
   ]
  },
  {
   "cell_type": "markdown",
   "metadata": {},
   "source": [
    "## Data Cleaning:"
   ]
  },
  {
   "cell_type": "markdown",
   "metadata": {},
   "source": [
    "##### Removing the stopwords:"
   ]
  },
  {
   "cell_type": "code",
   "execution_count": 214,
   "metadata": {},
   "outputs": [
    {
     "name": "stdout",
     "output_type": "stream",
     "text": [
      "['i', 'me', 'my', 'myself', 'we', 'our', 'ours', 'ourselves', 'you', \"you're\", \"you've\", \"you'll\", \"you'd\", 'your', 'yours', 'yourself', 'yourselves', 'he', 'him', 'his', 'himself', 'she', \"she's\", 'her', 'hers', 'herself', 'it', \"it's\", 'its', 'itself', 'they', 'them', 'their', 'theirs', 'themselves', 'what', 'which', 'who', 'whom', 'this', 'that', \"that'll\", 'these', 'those', 'am', 'is', 'are', 'was', 'were', 'be', 'been', 'being', 'have', 'has', 'had', 'having', 'do', 'does', 'did', 'doing', 'a', 'an', 'the', 'and', 'but', 'if', 'or', 'because', 'as', 'until', 'while', 'of', 'at', 'by', 'for', 'with', 'about', 'against', 'between', 'into', 'through', 'during', 'before', 'after', 'above', 'below', 'to', 'from', 'up', 'down', 'in', 'out', 'on', 'off', 'over', 'under', 'again', 'further', 'then', 'once', 'here', 'there', 'when', 'where', 'why', 'how', 'all', 'any', 'both', 'each', 'few', 'more', 'most', 'other', 'some', 'such', 'no', 'nor', 'not', 'only', 'own', 'same', 'so', 'than', 'too', 'very', 's', 't', 'can', 'will', 'just', 'don', \"don't\", 'should', \"should've\", 'now', 'd', 'll', 'm', 'o', 're', 've', 'y', 'ain', 'aren', \"aren't\", 'couldn', \"couldn't\", 'didn', \"didn't\", 'doesn', \"doesn't\", 'hadn', \"hadn't\", 'hasn', \"hasn't\", 'haven', \"haven't\", 'isn', \"isn't\", 'ma', 'mightn', \"mightn't\", 'mustn', \"mustn't\", 'needn', \"needn't\", 'shan', \"shan't\", 'shouldn', \"shouldn't\", 'wasn', \"wasn't\", 'weren', \"weren't\", 'won', \"won't\", 'wouldn', \"wouldn't\"]\n",
      "!\"#$%&'()*+,-./:;<=>?@[\\]^_`{|}~\n"
     ]
    }
   ],
   "source": [
    "from string import punctuation\n",
    "from nltk.corpus import stopwords\n",
    "stop_nltk=stopwords.words(\"english\")\n",
    "print(stop_nltk)\n",
    "print(punctuation)"
   ]
  },
  {
   "cell_type": "code",
   "execution_count": 215,
   "metadata": {
    "scrolled": true
   },
   "outputs": [
    {
     "name": "stdout",
     "output_type": "stream",
     "text": [
      "['i', 'me', 'my', 'myself', 'we', 'our', 'ours', 'ourselves', 'you', \"you're\", \"you've\", \"you'll\", \"you'd\", 'your', 'yours', 'yourself', 'yourselves', 'he', 'him', 'his', 'himself', 'she', \"she's\", 'her', 'hers', 'herself', 'it', \"it's\", 'its', 'itself', 'they', 'them', 'their', 'theirs', 'themselves', 'what', 'which', 'who', 'whom', 'this', 'that', \"that'll\", 'these', 'those', 'am', 'is', 'are', 'was', 'were', 'be', 'been', 'being', 'have', 'has', 'had', 'having', 'do', 'does', 'did', 'doing', 'a', 'an', 'the', 'and', 'but', 'if', 'or', 'because', 'as', 'until', 'while', 'of', 'at', 'by', 'for', 'with', 'about', 'against', 'between', 'into', 'through', 'during', 'before', 'after', 'above', 'below', 'to', 'from', 'up', 'down', 'in', 'out', 'on', 'off', 'over', 'under', 'again', 'further', 'then', 'once', 'here', 'there', 'when', 'where', 'why', 'how', 'all', 'any', 'both', 'each', 'few', 'more', 'most', 'other', 'some', 'such', 'no', 'nor', 'not', 'only', 'own', 'same', 'so', 'than', 'too', 'very', 's', 't', 'can', 'will', 'just', 'don', \"don't\", 'should', \"should've\", 'now', 'd', 'll', 'm', 'o', 're', 've', 'y', 'ain', 'aren', \"aren't\", 'couldn', \"couldn't\", 'didn', \"didn't\", 'doesn', \"doesn't\", 'hadn', \"hadn't\", 'hasn', \"hasn't\", 'haven', \"haven't\", 'isn', \"isn't\", 'ma', 'mightn', \"mightn't\", 'mustn', \"mustn't\", 'needn', \"needn't\", 'shan', \"shan't\", 'shouldn', \"shouldn't\", 'wasn', \"wasn't\", 'weren', \"weren't\", 'won', \"won't\", 'wouldn', \"wouldn't\", '..', '...', '!!', \"''\", '``', '!!!', \"n't\", \"'re'\", \"'ve'\", '<br />', 'br', '/><', 'would', '.....', '....', '!,\"', '!).', '!!<', '......', '!!!!!\"', '!!!!!!!!!!!']\n"
     ]
    }
   ],
   "source": [
    "stop_updated=stop_nltk+[\"..\",\"...\",\"!!\",\"''\",\"``\",\"!!!\",\"n't\",\"'re'\",\"'ve'\",\"<br />\",\"br\",\"/><\",\"would\",\".....\",'....','!,\"',\n",
    "                       \"!).\",\"!!<\",\"......\",'!!!!!\"',\"!!!!!!!!!!!\"]\n",
    "#stop_updated1=list(set(stop_updated)-{'no', 'nor', 'not'})\n",
    "print(stop_updated)"
   ]
  },
  {
   "cell_type": "code",
   "execution_count": 216,
   "metadata": {},
   "outputs": [],
   "source": [
    "reviews_updated=[word for word in all_terms if word not in stop_updated and word not in list(punctuation)\n",
    "                 and len(word)>2]"
   ]
  },
  {
   "cell_type": "markdown",
   "metadata": {},
   "source": [
    "### Stemming:"
   ]
  },
  {
   "cell_type": "code",
   "execution_count": 218,
   "metadata": {},
   "outputs": [],
   "source": [
    "from nltk.stem import SnowballStemmer, PorterStemmer\n",
    "stemmer_p=PorterStemmer()\n",
    "stemmer_s=SnowballStemmer('english')"
   ]
  },
  {
   "cell_type": "code",
   "execution_count": 219,
   "metadata": {},
   "outputs": [
    {
     "name": "stdout",
     "output_type": "stream",
     "text": [
      "72880 71953\n"
     ]
    }
   ],
   "source": [
    "stem_p_words=[stemmer_p.stem(word) for word in reviews_updated]\n",
    "stem_s_words=[stemmer_s.stem(word) for word in reviews_updated]\n",
    "print(len(set(stem_p_words)),len(set(stem_s_words)))"
   ]
  },
  {
   "cell_type": "markdown",
   "metadata": {},
   "source": [
    "### Lemmatization:"
   ]
  },
  {
   "cell_type": "code",
   "execution_count": 220,
   "metadata": {},
   "outputs": [],
   "source": [
    "from nltk.stem import WordNetLemmatizer\n",
    "lemm=WordNetLemmatizer()"
   ]
  },
  {
   "cell_type": "code",
   "execution_count": 221,
   "metadata": {},
   "outputs": [
    {
     "name": "stdout",
     "output_type": "stream",
     "text": [
      "93580\n"
     ]
    }
   ],
   "source": [
    "lemm_words=[lemm.lemmatize(word) for word in reviews_updated]\n",
    "print(len(set(lemm_words)))"
   ]
  },
  {
   "cell_type": "code",
   "execution_count": 222,
   "metadata": {},
   "outputs": [
    {
     "name": "stdout",
     "output_type": "stream",
     "text": [
      "The count of words using snowball stemming is:  71953\n",
      "The count of words using lemmatization is:  93580\n"
     ]
    }
   ],
   "source": [
    "print(\"The count of words using snowball stemming is: \",len(set(stem_s_words)))\n",
    "print(\"The count of words using lemmatization is: \",len(set(lemm_words)))"
   ]
  },
  {
   "cell_type": "markdown",
   "metadata": {},
   "source": [
    "##### Cleaning Text:"
   ]
  },
  {
   "cell_type": "raw",
   "metadata": {},
   "source": [
    "##Remove punctuations:\n",
    "\n",
    "import string\n",
    "def strip_punctuation(text):\n",
    "    return text.replace(\"'\",' ').translate(str.maketrans('', '', string.punctuation))"
   ]
  },
  {
   "cell_type": "raw",
   "metadata": {},
   "source": [
    "final_data['clean_review']=final_data.text.apply(strip_punctuation)\n",
    "final_data.head()"
   ]
  },
  {
   "cell_type": "code",
   "execution_count": 223,
   "metadata": {},
   "outputs": [],
   "source": [
    "##Combine all the steps and create a udf\n",
    "##takes one review as input and returns a cleaned review as a string\n",
    "\n",
    "def clean_txt(text):\n",
    "    \n",
    "    tokens=wordpunct_tokenize(text.lower())\n",
    "    lemma=[lemm.lemmatize(word) for word in tokens if word not in stop_updated and word not in list(punctuation)\n",
    "           and len(word)>2]\n",
    "    result=\" \".join(lemma)\n",
    "    return result"
   ]
  },
  {
   "cell_type": "code",
   "execution_count": 224,
   "metadata": {},
   "outputs": [
    {
     "name": "stderr",
     "output_type": "stream",
     "text": [
      "C:\\Users\\Srishti\\AppData\\Local\\Continuum\\anaconda3\\lib\\site-packages\\ipykernel_launcher.py:1: SettingWithCopyWarning: \n",
      "A value is trying to be set on a copy of a slice from a DataFrame.\n",
      "Try using .loc[row_indexer,col_indexer] = value instead\n",
      "\n",
      "See the caveats in the documentation: http://pandas.pydata.org/pandas-docs/stable/user_guide/indexing.html#returning-a-view-versus-a-copy\n",
      "  \"\"\"Entry point for launching an IPython kernel.\n"
     ]
    }
   ],
   "source": [
    "final_data['clean_review1']=final_data.text.apply(clean_txt)"
   ]
  },
  {
   "cell_type": "code",
   "execution_count": 225,
   "metadata": {},
   "outputs": [
    {
     "data": {
      "text/html": [
       "<div>\n",
       "<style scoped>\n",
       "    .dataframe tbody tr th:only-of-type {\n",
       "        vertical-align: middle;\n",
       "    }\n",
       "\n",
       "    .dataframe tbody tr th {\n",
       "        vertical-align: top;\n",
       "    }\n",
       "\n",
       "    .dataframe thead th {\n",
       "        text-align: right;\n",
       "    }\n",
       "</style>\n",
       "<table border=\"1\" class=\"dataframe\">\n",
       "  <thead>\n",
       "    <tr style=\"text-align: right;\">\n",
       "      <th></th>\n",
       "      <th>text</th>\n",
       "      <th>sentiment</th>\n",
       "      <th>sentiment_score</th>\n",
       "      <th>clean_review1</th>\n",
       "    </tr>\n",
       "  </thead>\n",
       "  <tbody>\n",
       "    <tr>\n",
       "      <td>0</td>\n",
       "      <td>Now, I won't deny that when I purchased this o...</td>\n",
       "      <td>neg</td>\n",
       "      <td>0</td>\n",
       "      <td>deny purchased ebay high expectation incredibl...</td>\n",
       "    </tr>\n",
       "    <tr>\n",
       "      <td>1</td>\n",
       "      <td>The saddest thing about this \"tribute\" is that...</td>\n",
       "      <td>neg</td>\n",
       "      <td>0</td>\n",
       "      <td>saddest thing tribute almost singer including ...</td>\n",
       "    </tr>\n",
       "    <tr>\n",
       "      <td>2</td>\n",
       "      <td>Last night I decided to watch the prequel or s...</td>\n",
       "      <td>neg</td>\n",
       "      <td>0</td>\n",
       "      <td>last night decided watch prequel shall say cal...</td>\n",
       "    </tr>\n",
       "    <tr>\n",
       "      <td>3</td>\n",
       "      <td>I have to admit that i liked the first half of...</td>\n",
       "      <td>neg</td>\n",
       "      <td>0</td>\n",
       "      <td>admit liked first half sleeper looked good act...</td>\n",
       "    </tr>\n",
       "    <tr>\n",
       "      <td>4</td>\n",
       "      <td>I was not impressed about this film especially...</td>\n",
       "      <td>neg</td>\n",
       "      <td>0</td>\n",
       "      <td>impressed film especially fact went cinema fam...</td>\n",
       "    </tr>\n",
       "  </tbody>\n",
       "</table>\n",
       "</div>"
      ],
      "text/plain": [
       "                                                text sentiment  \\\n",
       "0  Now, I won't deny that when I purchased this o...       neg   \n",
       "1  The saddest thing about this \"tribute\" is that...       neg   \n",
       "2  Last night I decided to watch the prequel or s...       neg   \n",
       "3  I have to admit that i liked the first half of...       neg   \n",
       "4  I was not impressed about this film especially...       neg   \n",
       "\n",
       "   sentiment_score                                      clean_review1  \n",
       "0                0  deny purchased ebay high expectation incredibl...  \n",
       "1                0  saddest thing tribute almost singer including ...  \n",
       "2                0  last night decided watch prequel shall say cal...  \n",
       "3                0  admit liked first half sleeper looked good act...  \n",
       "4                0  impressed film especially fact went cinema fam...  "
      ]
     },
     "execution_count": 225,
     "metadata": {},
     "output_type": "execute_result"
    }
   ],
   "source": [
    "final_data.head()"
   ]
  },
  {
   "cell_type": "markdown",
   "metadata": {},
   "source": [
    "### Word Cloud After Data Cleaning:"
   ]
  },
  {
   "cell_type": "code",
   "execution_count": 226,
   "metadata": {},
   "outputs": [],
   "source": [
    "#### clean_review1 is the finally cleaned data which can be used in further processing\n",
    "\n",
    "reviews_combined1=\" \".join(final_data.clean_review1.values)"
   ]
  },
  {
   "cell_type": "code",
   "execution_count": 227,
   "metadata": {},
   "outputs": [
    {
     "data": {
      "text/plain": [
       "'deny purchased ebay high expectation incredible print work master comedy enjoy however soon disappoi'"
      ]
     },
     "execution_count": 227,
     "metadata": {},
     "output_type": "execute_result"
    }
   ],
   "source": [
    "reviews_combined1[:100]"
   ]
  },
  {
   "cell_type": "code",
   "execution_count": 228,
   "metadata": {},
   "outputs": [],
   "source": [
    "word_cloud_after_clean=WordCloud(max_words=50).generate(reviews_combined1)"
   ]
  },
  {
   "cell_type": "code",
   "execution_count": 229,
   "metadata": {},
   "outputs": [
    {
     "data": {
      "image/png": "[encoded data removed]",
      "text/plain": [
       "<Figure size 432x288 with 1 Axes>"
      ]
     },
     "metadata": {
      "needs_background": "light"
     },
     "output_type": "display_data"
    }
   ],
   "source": [
    "#wordcloud using the axis and tigh_layout function also:\n",
    "plt.imshow(word_cloud_after_clean)\n",
    "plt.axis(\"off\") \n",
    "plt.tight_layout(pad = 0) \n",
    "plt.show()"
   ]
  },
  {
   "cell_type": "markdown",
   "metadata": {},
   "source": [
    "#### Storing all the words after cleaning data:"
   ]
  },
  {
   "cell_type": "code",
   "execution_count": null,
   "metadata": {},
   "outputs": [],
   "source": [
    "all_terms_clean=wordpunct_tokenize(reviews_combined1.lower())"
   ]
  },
  {
   "cell_type": "markdown",
   "metadata": {},
   "source": [
    "###### Checking for the top 25 words after removing all stopwords or other words:"
   ]
  },
  {
   "cell_type": "code",
   "execution_count": 231,
   "metadata": {},
   "outputs": [
    {
     "data": {
      "text/plain": [
       "FreqDist({'movie': 102500, 'film': 92815, 'one': 55037, 'like': 40788, 'time': 31207, 'good': 29662, 'character': 28126, 'story': 25110, 'even': 24669, 'get': 24464, ...})"
      ]
     },
     "execution_count": 231,
     "metadata": {},
     "output_type": "execute_result"
    }
   ],
   "source": [
    "fdist1=FreqDist(all_terms_clean)\n",
    "fdist1"
   ]
  },
  {
   "cell_type": "code",
   "execution_count": 232,
   "metadata": {},
   "outputs": [
    {
     "data": {
      "image/png": "[encoded data removed]",
      "text/plain": [
       "<Figure size 432x288 with 1 Axes>"
      ]
     },
     "metadata": {
      "needs_background": "light"
     },
     "output_type": "display_data"
    }
   ],
   "source": [
    "fdist1.plot(25,cumulative=False)\n",
    "plt.show()"
   ]
  },
  {
   "cell_type": "markdown",
   "metadata": {},
   "source": [
    "#### Finding the highest 25 counts words from the word frequency:"
   ]
  },
  {
   "cell_type": "code",
   "execution_count": 233,
   "metadata": {},
   "outputs": [
    {
     "data": {
      "text/plain": [
       "[('movie', 102500),\n",
       " ('film', 92815),\n",
       " ('one', 55037),\n",
       " ('like', 40788),\n",
       " ('time', 31207),\n",
       " ('good', 29662),\n",
       " ('character', 28126),\n",
       " ('story', 25110),\n",
       " ('even', 24669),\n",
       " ('get', 24464),\n",
       " ('make', 24048),\n",
       " ('see', 23863),\n",
       " ('really', 22923),\n",
       " ('scene', 21298),\n",
       " ('well', 21283),\n",
       " ('much', 19151),\n",
       " ('bad', 18293),\n",
       " ('people', 18201),\n",
       " ('great', 18099),\n",
       " ('also', 17851),\n",
       " ('first', 17437),\n",
       " ('show', 17146),\n",
       " ('way', 17091),\n",
       " ('thing', 16364),\n",
       " ('made', 16004)]"
      ]
     },
     "execution_count": 233,
     "metadata": {},
     "output_type": "execute_result"
    }
   ],
   "source": [
    "from collections import Counter\n",
    "\n",
    "top_25_words_clean_count=[]\n",
    "top_25_words_clean=[]\n",
    "key1 = Counter(fdist1) \n",
    "  \n",
    "# Finding 25 highest values \n",
    "highest_count = key1.most_common(25)  \n",
    "  \n",
    "for i in highest_count: \n",
    "    top_25_words_clean_count.append((i[0],i[1]))\n",
    "    top_25_words_clean.append(i[0])\n",
    "top_25_words_clean_count"
   ]
  },
  {
   "cell_type": "code",
   "execution_count": 234,
   "metadata": {},
   "outputs": [
    {
     "name": "stdout",
     "output_type": "stream",
     "text": [
      "['movie', 'film', 'one', 'like', 'time', 'good', 'character', 'story', 'even', 'get', 'make', 'see', 'really', 'scene', 'well', 'much', 'bad', 'people', 'great', 'also', 'first', 'show', 'way', 'thing', 'made']\n"
     ]
    }
   ],
   "source": [
    "print(top_25_words_clean)"
   ]
  },
  {
   "cell_type": "markdown",
   "metadata": {},
   "source": [
    "#### Creating list of positive, negative and neutral words."
   ]
  },
  {
   "cell_type": "code",
   "execution_count": null,
   "metadata": {},
   "outputs": [],
   "source": [
    "from nltk.sentiment.vader import SentimentIntensityAnalyzer\n",
    "\n",
    "sid = SentimentIntensityAnalyzer()\n",
    "pos_word_list=[]\n",
    "neu_word_list=[]\n",
    "neg_word_list=[]\n",
    "\n",
    "for word in all_terms_clean:\n",
    "    if (sid.polarity_scores(word)['compound']) >=0. 5:\n",
    "        pos_word_list.append(word)\n",
    "    elif (sid.polarity_scores(word)['compound']) <= -0.5:\n",
    "        neg_word_list.append(word)\n",
    "    else:\n",
    "        neu_word_list.append(word)"
   ]
  },
  {
   "cell_type": "markdown",
   "metadata": {},
   "source": [
    "#### Creating positive, negative and neutral words dataframe as per their count."
   ]
  },
  {
   "cell_type": "code",
   "execution_count": 237,
   "metadata": {},
   "outputs": [],
   "source": [
    "list_words_count_pos={}\n",
    "list_words_count_neg={}\n",
    "list_words_count_neu={}\n",
    "\n",
    "for i in pos_word_list:\n",
    "    list_words_count_pos[i]=list_words_count_pos.get(i,0)+1\n",
    "pos_series=pd.Series(list_words_count_pos)\n",
    "\n",
    "for i in neg_word_list:\n",
    "    list_words_count_neg[i]=list_words_count_neg.get(i,0)+1\n",
    "neg_series=pd.Series(list_words_count_neg)\n",
    "\n",
    "for i in neu_word_list:\n",
    "    list_words_count_neu[i]=list_words_count_neu.get(i,0)+1\n",
    "neu_series=pd.Series(list_words_count_neu)\n",
    "\n",
    "pos_words_df1=pd.DataFrame(pos_series).reset_index()\n",
    "pos_words_df=pos_words_df1.rename(columns={'index':'Words',0:'Count'})\n",
    "\n",
    "neg_words_df1=pd.DataFrame(neg_series).reset_index()\n",
    "neg_words_df=neg_words_df1.rename(columns={'index':'Words',0:'Count'})\n",
    "\n",
    "neu_words_df1=pd.DataFrame(neu_series).reset_index()\n",
    "neu_words_df=neu_words_df1.rename(columns={'index':'Words',0:'Count'})"
   ]
  },
  {
   "cell_type": "markdown",
   "metadata": {},
   "source": [
    "### Plot top 25 positive words highly used."
   ]
  },
  {
   "cell_type": "code",
   "execution_count": 238,
   "metadata": {},
   "outputs": [
    {
     "data": {
      "text/html": [
       "<div>\n",
       "<style scoped>\n",
       "    .dataframe tbody tr th:only-of-type {\n",
       "        vertical-align: middle;\n",
       "    }\n",
       "\n",
       "    .dataframe tbody tr th {\n",
       "        vertical-align: top;\n",
       "    }\n",
       "\n",
       "    .dataframe thead th {\n",
       "        text-align: right;\n",
       "    }\n",
       "</style>\n",
       "<table border=\"1\" class=\"dataframe\">\n",
       "  <thead>\n",
       "    <tr style=\"text-align: right;\">\n",
       "      <th></th>\n",
       "      <th>Words</th>\n",
       "      <th>Count</th>\n",
       "    </tr>\n",
       "  </thead>\n",
       "  <tbody>\n",
       "    <tr>\n",
       "      <td>0</td>\n",
       "      <td>enjoyed</td>\n",
       "      <td>2394</td>\n",
       "    </tr>\n",
       "    <tr>\n",
       "      <td>1</td>\n",
       "      <td>greatest</td>\n",
       "      <td>1502</td>\n",
       "    </tr>\n",
       "    <tr>\n",
       "      <td>2</td>\n",
       "      <td>talented</td>\n",
       "      <td>1131</td>\n",
       "    </tr>\n",
       "    <tr>\n",
       "      <td>3</td>\n",
       "      <td>love</td>\n",
       "      <td>13724</td>\n",
       "    </tr>\n",
       "    <tr>\n",
       "      <td>4</td>\n",
       "      <td>amazing</td>\n",
       "      <td>2508</td>\n",
       "    </tr>\n",
       "  </tbody>\n",
       "</table>\n",
       "</div>"
      ],
      "text/plain": [
       "      Words  Count\n",
       "0   enjoyed   2394\n",
       "1  greatest   1502\n",
       "2  talented   1131\n",
       "3      love  13724\n",
       "4   amazing   2508"
      ]
     },
     "execution_count": 238,
     "metadata": {},
     "output_type": "execute_result"
    }
   ],
   "source": [
    "pos_words_df.head()"
   ]
  },
  {
   "cell_type": "code",
   "execution_count": 239,
   "metadata": {},
   "outputs": [],
   "source": [
    "top_25_pos_words=pos_words_df.sort_values(by='Count',ascending=False).head(25)"
   ]
  },
  {
   "cell_type": "code",
   "execution_count": 240,
   "metadata": {},
   "outputs": [
    {
     "data": {
      "image/png": "[encoded data removed]",
      "text/plain": [
       "<Figure size 720x432 with 1 Axes>"
      ]
     },
     "metadata": {
      "needs_background": "light"
     },
     "output_type": "display_data"
    }
   ],
   "source": [
    "top_25_pos_words.plot(kind='bar',x='Words',y='Count',figsize=(10,6))\n",
    "plt.ylabel('Count')\n",
    "plt.xlabel('Positive Words')\n",
    "plt.title('Top 25 positive words')\n",
    "plt.show()"
   ]
  },
  {
   "cell_type": "markdown",
   "metadata": {},
   "source": [
    "### Plot top 25 negative words highly used."
   ]
  },
  {
   "cell_type": "code",
   "execution_count": 241,
   "metadata": {},
   "outputs": [
    {
     "data": {
      "text/html": [
       "<div>\n",
       "<style scoped>\n",
       "    .dataframe tbody tr th:only-of-type {\n",
       "        vertical-align: middle;\n",
       "    }\n",
       "\n",
       "    .dataframe tbody tr th {\n",
       "        vertical-align: top;\n",
       "    }\n",
       "\n",
       "    .dataframe thead th {\n",
       "        text-align: right;\n",
       "    }\n",
       "</style>\n",
       "<table border=\"1\" class=\"dataframe\">\n",
       "  <thead>\n",
       "    <tr style=\"text-align: right;\">\n",
       "      <th></th>\n",
       "      <th>Words</th>\n",
       "      <th>Count</th>\n",
       "    </tr>\n",
       "  </thead>\n",
       "  <tbody>\n",
       "    <tr>\n",
       "      <td>0</td>\n",
       "      <td>saddest</td>\n",
       "      <td>71</td>\n",
       "    </tr>\n",
       "    <tr>\n",
       "      <td>1</td>\n",
       "      <td>pathetic</td>\n",
       "      <td>976</td>\n",
       "    </tr>\n",
       "    <tr>\n",
       "      <td>2</td>\n",
       "      <td>pain</td>\n",
       "      <td>851</td>\n",
       "    </tr>\n",
       "    <tr>\n",
       "      <td>3</td>\n",
       "      <td>horrendous</td>\n",
       "      <td>251</td>\n",
       "    </tr>\n",
       "    <tr>\n",
       "      <td>4</td>\n",
       "      <td>bad</td>\n",
       "      <td>18293</td>\n",
       "    </tr>\n",
       "  </tbody>\n",
       "</table>\n",
       "</div>"
      ],
      "text/plain": [
       "        Words  Count\n",
       "0     saddest     71\n",
       "1    pathetic    976\n",
       "2        pain    851\n",
       "3  horrendous    251\n",
       "4         bad  18293"
      ]
     },
     "execution_count": 241,
     "metadata": {},
     "output_type": "execute_result"
    }
   ],
   "source": [
    "neg_words_df.head()"
   ]
  },
  {
   "cell_type": "code",
   "execution_count": 242,
   "metadata": {},
   "outputs": [],
   "source": [
    "top_25_neg_words=neg_words_df.sort_values(by='Count',ascending=False).head(25)"
   ]
  },
  {
   "cell_type": "code",
   "execution_count": 243,
   "metadata": {},
   "outputs": [
    {
     "data": {
      "image/png": "[encoded data removed]",
      "text/plain": [
       "<Figure size 720x432 with 1 Axes>"
      ]
     },
     "metadata": {
      "needs_background": "light"
     },
     "output_type": "display_data"
    }
   ],
   "source": [
    "top_25_neg_words.plot(kind='bar',x='Words',y='Count',figsize=(10,6))\n",
    "plt.ylabel('Count')\n",
    "plt.xlabel('Negative Words')\n",
    "plt.title('Top 25 negative words')\n",
    "plt.show()"
   ]
  },
  {
   "cell_type": "markdown",
   "metadata": {},
   "source": [
    "### Plot top 25 neutral words highly used."
   ]
  },
  {
   "cell_type": "code",
   "execution_count": 244,
   "metadata": {},
   "outputs": [
    {
     "data": {
      "text/html": [
       "<div>\n",
       "<style scoped>\n",
       "    .dataframe tbody tr th:only-of-type {\n",
       "        vertical-align: middle;\n",
       "    }\n",
       "\n",
       "    .dataframe tbody tr th {\n",
       "        vertical-align: top;\n",
       "    }\n",
       "\n",
       "    .dataframe thead th {\n",
       "        text-align: right;\n",
       "    }\n",
       "</style>\n",
       "<table border=\"1\" class=\"dataframe\">\n",
       "  <thead>\n",
       "    <tr style=\"text-align: right;\">\n",
       "      <th></th>\n",
       "      <th>Words</th>\n",
       "      <th>Count</th>\n",
       "    </tr>\n",
       "  </thead>\n",
       "  <tbody>\n",
       "    <tr>\n",
       "      <td>0</td>\n",
       "      <td>deny</td>\n",
       "      <td>112</td>\n",
       "    </tr>\n",
       "    <tr>\n",
       "      <td>1</td>\n",
       "      <td>purchased</td>\n",
       "      <td>169</td>\n",
       "    </tr>\n",
       "    <tr>\n",
       "      <td>2</td>\n",
       "      <td>ebay</td>\n",
       "      <td>85</td>\n",
       "    </tr>\n",
       "    <tr>\n",
       "      <td>3</td>\n",
       "      <td>high</td>\n",
       "      <td>4345</td>\n",
       "    </tr>\n",
       "    <tr>\n",
       "      <td>4</td>\n",
       "      <td>expectation</td>\n",
       "      <td>886</td>\n",
       "    </tr>\n",
       "  </tbody>\n",
       "</table>\n",
       "</div>"
      ],
      "text/plain": [
       "         Words  Count\n",
       "0         deny    112\n",
       "1    purchased    169\n",
       "2         ebay     85\n",
       "3         high   4345\n",
       "4  expectation    886"
      ]
     },
     "execution_count": 244,
     "metadata": {},
     "output_type": "execute_result"
    }
   ],
   "source": [
    "neu_words_df.head()"
   ]
  },
  {
   "cell_type": "code",
   "execution_count": 245,
   "metadata": {},
   "outputs": [],
   "source": [
    "top_25_neu_words=neu_words_df.sort_values(by='Count',ascending=False).head(25)"
   ]
  },
  {
   "cell_type": "code",
   "execution_count": 246,
   "metadata": {},
   "outputs": [
    {
     "data": {
      "image/png": "[encoded data removed]",
      "text/plain": [
       "<Figure size 720x432 with 1 Axes>"
      ]
     },
     "metadata": {
      "needs_background": "light"
     },
     "output_type": "display_data"
    }
   ],
   "source": [
    "top_25_neu_words.plot(kind='bar',x='Words',y='Count',figsize=(10,6))\n",
    "plt.ylabel('Count')\n",
    "plt.xlabel('Neutral Words')\n",
    "plt.title('Top 25 neutral words')\n",
    "plt.show()"
   ]
  },
  {
   "cell_type": "code",
   "execution_count": 249,
   "metadata": {},
   "outputs": [
    {
     "name": "stdout",
     "output_type": "stream",
     "text": [
      "Count of positive words after cleaning but may contain duplicates 154398\n",
      "Count of negative words after cleaning but may contain duplicates 137107\n",
      "Count of neutral words after cleaning but may contain duplicates 5519317\n"
     ]
    }
   ],
   "source": [
    "print(\"Count of positive words after cleaning but may contain duplicates\",len(pos_word_list))\n",
    "print(\"Count of negative words after cleaning but may contain duplicates\",len(neg_word_list))\n",
    "print(\"Count of neutral words after cleaning but may contain duplicates\",len(neu_word_list))"
   ]
  },
  {
   "cell_type": "code",
   "execution_count": 250,
   "metadata": {},
   "outputs": [
    {
     "data": {
      "text/html": [
       "<div>\n",
       "<style scoped>\n",
       "    .dataframe tbody tr th:only-of-type {\n",
       "        vertical-align: middle;\n",
       "    }\n",
       "\n",
       "    .dataframe tbody tr th {\n",
       "        vertical-align: top;\n",
       "    }\n",
       "\n",
       "    .dataframe thead th {\n",
       "        text-align: right;\n",
       "    }\n",
       "</style>\n",
       "<table border=\"1\" class=\"dataframe\">\n",
       "  <thead>\n",
       "    <tr style=\"text-align: right;\">\n",
       "      <th></th>\n",
       "      <th>sentiment_score</th>\n",
       "    </tr>\n",
       "  </thead>\n",
       "  <tbody>\n",
       "    <tr>\n",
       "      <td>count</td>\n",
       "      <td>49582.000000</td>\n",
       "    </tr>\n",
       "    <tr>\n",
       "      <td>mean</td>\n",
       "      <td>0.501876</td>\n",
       "    </tr>\n",
       "    <tr>\n",
       "      <td>std</td>\n",
       "      <td>0.500002</td>\n",
       "    </tr>\n",
       "    <tr>\n",
       "      <td>min</td>\n",
       "      <td>0.000000</td>\n",
       "    </tr>\n",
       "    <tr>\n",
       "      <td>25%</td>\n",
       "      <td>0.000000</td>\n",
       "    </tr>\n",
       "    <tr>\n",
       "      <td>50%</td>\n",
       "      <td>1.000000</td>\n",
       "    </tr>\n",
       "    <tr>\n",
       "      <td>75%</td>\n",
       "      <td>1.000000</td>\n",
       "    </tr>\n",
       "    <tr>\n",
       "      <td>max</td>\n",
       "      <td>1.000000</td>\n",
       "    </tr>\n",
       "  </tbody>\n",
       "</table>\n",
       "</div>"
      ],
      "text/plain": [
       "       sentiment_score\n",
       "count     49582.000000\n",
       "mean          0.501876\n",
       "std           0.500002\n",
       "min           0.000000\n",
       "25%           0.000000\n",
       "50%           1.000000\n",
       "75%           1.000000\n",
       "max           1.000000"
      ]
     },
     "execution_count": 250,
     "metadata": {},
     "output_type": "execute_result"
    }
   ],
   "source": [
    "final_data.describe()"
   ]
  },
  {
   "cell_type": "markdown",
   "metadata": {},
   "source": [
    "#### EDA"
   ]
  },
  {
   "cell_type": "code",
   "execution_count": 61,
   "metadata": {},
   "outputs": [
    {
     "name": "stdout",
     "output_type": "stream",
     "text": [
      "Average word length of reviews in train is 234.\n",
      "Average word length of reviews in test is 229.\n"
     ]
    }
   ],
   "source": [
    "print('Average word length of reviews in train is {0:.0f}.'.format(np.mean(train_data_wo_dup['text'].\\\n",
    "                                                                           apply(lambda x: len(x.split())))))\n",
    "print('Average word length of reviews in test is {0:.0f}.'.format(np.mean(test_data_wo_dup['text'].\\\n",
    "                                                                          apply(lambda x: len(x.split())))))"
   ]
  },
  {
   "cell_type": "code",
   "execution_count": 62,
   "metadata": {},
   "outputs": [
    {
     "name": "stdout",
     "output_type": "stream",
     "text": [
      "Average word length of reviews in train is 234.\n",
      "Average word length of reviews in test is 229.\n"
     ]
    }
   ],
   "source": [
    "print('Average word length of reviews in train is {0:.0f}.'.format(np.mean(train_data['text'].\\\n",
    "                                                                           apply(lambda x: len(x.split())))))\n",
    "print('Average word length of reviews in test is {0:.0f}.'.format(np.mean(test_data['text'].\\\n",
    "                                                                          apply(lambda x: len(x.split())))))"
   ]
  },
  {
   "cell_type": "code",
   "execution_count": 63,
   "metadata": {},
   "outputs": [
    {
     "name": "stdout",
     "output_type": "stream",
     "text": [
      "Average word length of reviews in final before cleaning is 231.\n"
     ]
    }
   ],
   "source": [
    "print('Average word length of reviews in final before cleaning is {0:.0f}.'.format(np.mean(final_data['text'].\\\n",
    "                                                                            apply(lambda x: len(x.split())))))"
   ]
  },
  {
   "cell_type": "code",
   "execution_count": 64,
   "metadata": {},
   "outputs": [
    {
     "name": "stdout",
     "output_type": "stream",
     "text": [
      "Average word length of reviews in final after cleaning is 117.\n"
     ]
    }
   ],
   "source": [
    "print('Average word length of reviews in final after cleaning is {0:.0f}.'.format(np.mean(final_data['clean_review1'].\\\n",
    "                                                                                          apply(lambda x: len(x.split())))))"
   ]
  },
  {
   "cell_type": "raw",
   "metadata": {},
   "source": [
    "#!pip install mplcursors\n",
    "it helps to get the points on a graph while hovering"
   ]
  },
  {
   "cell_type": "code",
   "execution_count": 65,
   "metadata": {},
   "outputs": [
    {
     "data": {
      "text/html": [
       "<div>\n",
       "<style scoped>\n",
       "    .dataframe tbody tr th:only-of-type {\n",
       "        vertical-align: middle;\n",
       "    }\n",
       "\n",
       "    .dataframe tbody tr th {\n",
       "        vertical-align: top;\n",
       "    }\n",
       "\n",
       "    .dataframe thead th {\n",
       "        text-align: right;\n",
       "    }\n",
       "</style>\n",
       "<table border=\"1\" class=\"dataframe\">\n",
       "  <thead>\n",
       "    <tr style=\"text-align: right;\">\n",
       "      <th></th>\n",
       "      <th>text</th>\n",
       "      <th>sentiment</th>\n",
       "      <th>sentiment_score</th>\n",
       "      <th>clean_review1</th>\n",
       "    </tr>\n",
       "  </thead>\n",
       "  <tbody>\n",
       "    <tr>\n",
       "      <td>0</td>\n",
       "      <td>Now, I won't deny that when I purchased this o...</td>\n",
       "      <td>neg</td>\n",
       "      <td>0</td>\n",
       "      <td>deny purchased ebay high expectation incredibl...</td>\n",
       "    </tr>\n",
       "    <tr>\n",
       "      <td>1</td>\n",
       "      <td>The saddest thing about this \"tribute\" is that...</td>\n",
       "      <td>neg</td>\n",
       "      <td>0</td>\n",
       "      <td>saddest thing tribute almost singer including ...</td>\n",
       "    </tr>\n",
       "    <tr>\n",
       "      <td>2</td>\n",
       "      <td>Last night I decided to watch the prequel or s...</td>\n",
       "      <td>neg</td>\n",
       "      <td>0</td>\n",
       "      <td>last night decided watch prequel shall say cal...</td>\n",
       "    </tr>\n",
       "    <tr>\n",
       "      <td>3</td>\n",
       "      <td>I have to admit that i liked the first half of...</td>\n",
       "      <td>neg</td>\n",
       "      <td>0</td>\n",
       "      <td>admit liked first half sleeper looked good act...</td>\n",
       "    </tr>\n",
       "    <tr>\n",
       "      <td>4</td>\n",
       "      <td>I was not impressed about this film especially...</td>\n",
       "      <td>neg</td>\n",
       "      <td>0</td>\n",
       "      <td>impressed film especially fact went cinema fam...</td>\n",
       "    </tr>\n",
       "  </tbody>\n",
       "</table>\n",
       "</div>"
      ],
      "text/plain": [
       "                                                text sentiment  \\\n",
       "0  Now, I won't deny that when I purchased this o...       neg   \n",
       "1  The saddest thing about this \"tribute\" is that...       neg   \n",
       "2  Last night I decided to watch the prequel or s...       neg   \n",
       "3  I have to admit that i liked the first half of...       neg   \n",
       "4  I was not impressed about this film especially...       neg   \n",
       "\n",
       "   sentiment_score                                      clean_review1  \n",
       "0                0  deny purchased ebay high expectation incredibl...  \n",
       "1                0  saddest thing tribute almost singer including ...  \n",
       "2                0  last night decided watch prequel shall say cal...  \n",
       "3                0  admit liked first half sleeper looked good act...  \n",
       "4                0  impressed film especially fact went cinema fam...  "
      ]
     },
     "execution_count": 65,
     "metadata": {},
     "output_type": "execute_result"
    }
   ],
   "source": [
    "final_data.head()"
   ]
  },
  {
   "cell_type": "markdown",
   "metadata": {},
   "source": [
    "### N-Gram Analysis:"
   ]
  },
  {
   "cell_type": "markdown",
   "metadata": {},
   "source": [
    "#### Unigram:"
   ]
  },
  {
   "cell_type": "markdown",
   "metadata": {},
   "source": [
    "##### Plot a unigram bar graph on the top words 25 words"
   ]
  },
  {
   "cell_type": "code",
   "execution_count": 66,
   "metadata": {},
   "outputs": [],
   "source": [
    "from sklearn.feature_extraction.text import CountVectorizer\n",
    "count_vectorizer_ug=CountVectorizer(ngram_range=(1,1),max_features=150)"
   ]
  },
  {
   "cell_type": "code",
   "execution_count": 67,
   "metadata": {},
   "outputs": [
    {
     "data": {
      "text/plain": [
       "<49582x150 sparse matrix of type '<class 'numpy.int64'>'\n",
       "\twith 1219307 stored elements in Compressed Sparse Row format>"
      ]
     },
     "execution_count": 67,
     "metadata": {},
     "output_type": "execute_result"
    }
   ],
   "source": [
    "X_ug=count_vectorizer_ug.fit_transform(final_data['clean_review1'])\n",
    "X_ug"
   ]
  },
  {
   "cell_type": "code",
   "execution_count": 68,
   "metadata": {},
   "outputs": [
    {
     "data": {
      "text/html": [
       "<div>\n",
       "<style scoped>\n",
       "    .dataframe tbody tr th:only-of-type {\n",
       "        vertical-align: middle;\n",
       "    }\n",
       "\n",
       "    .dataframe tbody tr th {\n",
       "        vertical-align: top;\n",
       "    }\n",
       "\n",
       "    .dataframe thead th {\n",
       "        text-align: right;\n",
       "    }\n",
       "</style>\n",
       "<table border=\"1\" class=\"dataframe\">\n",
       "  <thead>\n",
       "    <tr style=\"text-align: right;\">\n",
       "      <th></th>\n",
       "      <th>acting</th>\n",
       "      <th>action</th>\n",
       "      <th>actor</th>\n",
       "      <th>actually</th>\n",
       "      <th>almost</th>\n",
       "      <th>also</th>\n",
       "      <th>always</th>\n",
       "      <th>american</th>\n",
       "      <th>another</th>\n",
       "      <th>anyone</th>\n",
       "      <th>...</th>\n",
       "      <th>well</th>\n",
       "      <th>whole</th>\n",
       "      <th>without</th>\n",
       "      <th>woman</th>\n",
       "      <th>work</th>\n",
       "      <th>world</th>\n",
       "      <th>worst</th>\n",
       "      <th>year</th>\n",
       "      <th>yet</th>\n",
       "      <th>young</th>\n",
       "    </tr>\n",
       "  </thead>\n",
       "  <tbody>\n",
       "    <tr>\n",
       "      <td>0</td>\n",
       "      <td>0</td>\n",
       "      <td>0</td>\n",
       "      <td>0</td>\n",
       "      <td>0</td>\n",
       "      <td>0</td>\n",
       "      <td>0</td>\n",
       "      <td>0</td>\n",
       "      <td>0</td>\n",
       "      <td>0</td>\n",
       "      <td>0</td>\n",
       "      <td>...</td>\n",
       "      <td>0</td>\n",
       "      <td>0</td>\n",
       "      <td>0</td>\n",
       "      <td>0</td>\n",
       "      <td>1</td>\n",
       "      <td>0</td>\n",
       "      <td>0</td>\n",
       "      <td>0</td>\n",
       "      <td>0</td>\n",
       "      <td>0</td>\n",
       "    </tr>\n",
       "    <tr>\n",
       "      <td>1</td>\n",
       "      <td>0</td>\n",
       "      <td>0</td>\n",
       "      <td>0</td>\n",
       "      <td>0</td>\n",
       "      <td>2</td>\n",
       "      <td>0</td>\n",
       "      <td>0</td>\n",
       "      <td>0</td>\n",
       "      <td>0</td>\n",
       "      <td>0</td>\n",
       "      <td>...</td>\n",
       "      <td>0</td>\n",
       "      <td>1</td>\n",
       "      <td>0</td>\n",
       "      <td>0</td>\n",
       "      <td>0</td>\n",
       "      <td>0</td>\n",
       "      <td>0</td>\n",
       "      <td>0</td>\n",
       "      <td>0</td>\n",
       "      <td>0</td>\n",
       "    </tr>\n",
       "    <tr>\n",
       "      <td>2</td>\n",
       "      <td>0</td>\n",
       "      <td>0</td>\n",
       "      <td>0</td>\n",
       "      <td>0</td>\n",
       "      <td>0</td>\n",
       "      <td>0</td>\n",
       "      <td>0</td>\n",
       "      <td>0</td>\n",
       "      <td>0</td>\n",
       "      <td>0</td>\n",
       "      <td>...</td>\n",
       "      <td>1</td>\n",
       "      <td>0</td>\n",
       "      <td>0</td>\n",
       "      <td>0</td>\n",
       "      <td>0</td>\n",
       "      <td>0</td>\n",
       "      <td>0</td>\n",
       "      <td>0</td>\n",
       "      <td>0</td>\n",
       "      <td>3</td>\n",
       "    </tr>\n",
       "    <tr>\n",
       "      <td>3</td>\n",
       "      <td>1</td>\n",
       "      <td>0</td>\n",
       "      <td>0</td>\n",
       "      <td>0</td>\n",
       "      <td>0</td>\n",
       "      <td>0</td>\n",
       "      <td>0</td>\n",
       "      <td>0</td>\n",
       "      <td>0</td>\n",
       "      <td>1</td>\n",
       "      <td>...</td>\n",
       "      <td>0</td>\n",
       "      <td>0</td>\n",
       "      <td>0</td>\n",
       "      <td>0</td>\n",
       "      <td>0</td>\n",
       "      <td>0</td>\n",
       "      <td>0</td>\n",
       "      <td>0</td>\n",
       "      <td>0</td>\n",
       "      <td>0</td>\n",
       "    </tr>\n",
       "    <tr>\n",
       "      <td>4</td>\n",
       "      <td>0</td>\n",
       "      <td>0</td>\n",
       "      <td>0</td>\n",
       "      <td>0</td>\n",
       "      <td>0</td>\n",
       "      <td>0</td>\n",
       "      <td>0</td>\n",
       "      <td>0</td>\n",
       "      <td>0</td>\n",
       "      <td>0</td>\n",
       "      <td>...</td>\n",
       "      <td>0</td>\n",
       "      <td>0</td>\n",
       "      <td>0</td>\n",
       "      <td>2</td>\n",
       "      <td>0</td>\n",
       "      <td>0</td>\n",
       "      <td>0</td>\n",
       "      <td>0</td>\n",
       "      <td>0</td>\n",
       "      <td>0</td>\n",
       "    </tr>\n",
       "  </tbody>\n",
       "</table>\n",
       "<p>5 rows × 150 columns</p>\n",
       "</div>"
      ],
      "text/plain": [
       "   acting  action  actor  actually  almost  also  always  american  another  \\\n",
       "0       0       0      0         0       0     0       0         0        0   \n",
       "1       0       0      0         0       2     0       0         0        0   \n",
       "2       0       0      0         0       0     0       0         0        0   \n",
       "3       1       0      0         0       0     0       0         0        0   \n",
       "4       0       0      0         0       0     0       0         0        0   \n",
       "\n",
       "   anyone  ...  well  whole  without  woman  work  world  worst  year  yet  \\\n",
       "0       0  ...     0      0        0      0     1      0      0     0    0   \n",
       "1       0  ...     0      1        0      0     0      0      0     0    0   \n",
       "2       0  ...     1      0        0      0     0      0      0     0    0   \n",
       "3       1  ...     0      0        0      0     0      0      0     0    0   \n",
       "4       0  ...     0      0        0      2     0      0      0     0    0   \n",
       "\n",
       "   young  \n",
       "0      0  \n",
       "1      0  \n",
       "2      3  \n",
       "3      0  \n",
       "4      0  \n",
       "\n",
       "[5 rows x 150 columns]"
      ]
     },
     "execution_count": 68,
     "metadata": {},
     "output_type": "execute_result"
    }
   ],
   "source": [
    "DTM_ug=pd.DataFrame(X_ug.toarray(),columns=count_vectorizer_ug.get_feature_names())\n",
    "DTM_ug.head()"
   ]
  },
  {
   "cell_type": "code",
   "execution_count": 69,
   "metadata": {},
   "outputs": [
    {
     "data": {
      "text/plain": [
       "movie        102500\n",
       "film          92815\n",
       "one           55037\n",
       "like          40788\n",
       "time          31207\n",
       "good          29662\n",
       "character     28126\n",
       "story         25110\n",
       "even          24669\n",
       "get           24464\n",
       "make          24048\n",
       "see           23863\n",
       "really        22923\n",
       "scene         21298\n",
       "well          21283\n",
       "much          19151\n",
       "bad           18293\n",
       "people        18201\n",
       "great         18099\n",
       "also          17851\n",
       "first         17437\n",
       "show          17146\n",
       "way           17091\n",
       "thing         16364\n",
       "made          16004\n",
       "dtype: int64"
      ]
     },
     "execution_count": 69,
     "metadata": {},
     "output_type": "execute_result"
    }
   ],
   "source": [
    "top25_uni=DTM_ug.sum().sort_values(ascending=False).head(25)\n",
    "top25_uni"
   ]
  },
  {
   "cell_type": "code",
   "execution_count": 164,
   "metadata": {},
   "outputs": [
    {
     "data": {
      "image/png": "[encoded data removed]",
      "text/plain": [
       "<Figure size 720x432 with 1 Axes>"
      ]
     },
     "metadata": {
      "needs_background": "light"
     },
     "output_type": "display_data"
    }
   ],
   "source": [
    "top25_uni.plot(kind='bar',figsize=(10,6))\n",
    "plt.ylabel('Count')\n",
    "plt.xlabel('Unigrams')\n",
    "plt.title('Top 25 unigrams')\n",
    "plt.show()"
   ]
  },
  {
   "cell_type": "raw",
   "metadata": {},
   "source": [
    "By seeing this top 25 unigrams, we can see that the top 25 words with highest frequency we got after cleaning the reviews are the same. And therefore, there are no mismatch between the top 25 highest frequency words and top 25 unigrams."
   ]
  },
  {
   "cell_type": "markdown",
   "metadata": {},
   "source": [
    "#### Bigram:"
   ]
  },
  {
   "cell_type": "markdown",
   "metadata": {},
   "source": [
    "##### Plot a bigram bar graph on the top words 25 words"
   ]
  },
  {
   "cell_type": "code",
   "execution_count": 71,
   "metadata": {},
   "outputs": [],
   "source": [
    "count_vectorizer_bg=CountVectorizer(ngram_range=(2,2),max_features=150)"
   ]
  },
  {
   "cell_type": "code",
   "execution_count": 72,
   "metadata": {},
   "outputs": [
    {
     "data": {
      "text/plain": [
       "<49582x150 sparse matrix of type '<class 'numpy.int64'>'\n",
       "\twith 126748 stored elements in Compressed Sparse Row format>"
      ]
     },
     "execution_count": 72,
     "metadata": {},
     "output_type": "execute_result"
    }
   ],
   "source": [
    "X_bg=count_vectorizer_bg.fit_transform(final_data['clean_review1'])\n",
    "X_bg"
   ]
  },
  {
   "cell_type": "code",
   "execution_count": 73,
   "metadata": {},
   "outputs": [
    {
     "data": {
      "text/html": [
       "<div>\n",
       "<style scoped>\n",
       "    .dataframe tbody tr th:only-of-type {\n",
       "        vertical-align: middle;\n",
       "    }\n",
       "\n",
       "    .dataframe tbody tr th {\n",
       "        vertical-align: top;\n",
       "    }\n",
       "\n",
       "    .dataframe thead th {\n",
       "        text-align: right;\n",
       "    }\n",
       "</style>\n",
       "<table border=\"1\" class=\"dataframe\">\n",
       "  <thead>\n",
       "    <tr style=\"text-align: right;\">\n",
       "      <th></th>\n",
       "      <th>action movie</th>\n",
       "      <th>bad acting</th>\n",
       "      <th>bad film</th>\n",
       "      <th>bad guy</th>\n",
       "      <th>bad movie</th>\n",
       "      <th>best film</th>\n",
       "      <th>best movie</th>\n",
       "      <th>black white</th>\n",
       "      <th>camera work</th>\n",
       "      <th>character development</th>\n",
       "      <th>...</th>\n",
       "      <th>world war</th>\n",
       "      <th>worst film</th>\n",
       "      <th>worst movie</th>\n",
       "      <th>worth watching</th>\n",
       "      <th>writer director</th>\n",
       "      <th>year ago</th>\n",
       "      <th>year later</th>\n",
       "      <th>year old</th>\n",
       "      <th>young man</th>\n",
       "      <th>young woman</th>\n",
       "    </tr>\n",
       "  </thead>\n",
       "  <tbody>\n",
       "    <tr>\n",
       "      <td>0</td>\n",
       "      <td>0</td>\n",
       "      <td>0</td>\n",
       "      <td>0</td>\n",
       "      <td>0</td>\n",
       "      <td>0</td>\n",
       "      <td>0</td>\n",
       "      <td>0</td>\n",
       "      <td>0</td>\n",
       "      <td>0</td>\n",
       "      <td>0</td>\n",
       "      <td>...</td>\n",
       "      <td>0</td>\n",
       "      <td>0</td>\n",
       "      <td>0</td>\n",
       "      <td>0</td>\n",
       "      <td>0</td>\n",
       "      <td>0</td>\n",
       "      <td>0</td>\n",
       "      <td>0</td>\n",
       "      <td>0</td>\n",
       "      <td>0</td>\n",
       "    </tr>\n",
       "    <tr>\n",
       "      <td>1</td>\n",
       "      <td>0</td>\n",
       "      <td>0</td>\n",
       "      <td>0</td>\n",
       "      <td>0</td>\n",
       "      <td>0</td>\n",
       "      <td>0</td>\n",
       "      <td>0</td>\n",
       "      <td>0</td>\n",
       "      <td>0</td>\n",
       "      <td>0</td>\n",
       "      <td>...</td>\n",
       "      <td>0</td>\n",
       "      <td>0</td>\n",
       "      <td>0</td>\n",
       "      <td>0</td>\n",
       "      <td>0</td>\n",
       "      <td>0</td>\n",
       "      <td>0</td>\n",
       "      <td>0</td>\n",
       "      <td>0</td>\n",
       "      <td>0</td>\n",
       "    </tr>\n",
       "    <tr>\n",
       "      <td>2</td>\n",
       "      <td>0</td>\n",
       "      <td>0</td>\n",
       "      <td>0</td>\n",
       "      <td>0</td>\n",
       "      <td>0</td>\n",
       "      <td>0</td>\n",
       "      <td>0</td>\n",
       "      <td>0</td>\n",
       "      <td>0</td>\n",
       "      <td>0</td>\n",
       "      <td>...</td>\n",
       "      <td>0</td>\n",
       "      <td>0</td>\n",
       "      <td>0</td>\n",
       "      <td>0</td>\n",
       "      <td>0</td>\n",
       "      <td>0</td>\n",
       "      <td>0</td>\n",
       "      <td>0</td>\n",
       "      <td>0</td>\n",
       "      <td>0</td>\n",
       "    </tr>\n",
       "    <tr>\n",
       "      <td>3</td>\n",
       "      <td>0</td>\n",
       "      <td>0</td>\n",
       "      <td>0</td>\n",
       "      <td>0</td>\n",
       "      <td>0</td>\n",
       "      <td>0</td>\n",
       "      <td>0</td>\n",
       "      <td>0</td>\n",
       "      <td>0</td>\n",
       "      <td>0</td>\n",
       "      <td>...</td>\n",
       "      <td>0</td>\n",
       "      <td>0</td>\n",
       "      <td>0</td>\n",
       "      <td>0</td>\n",
       "      <td>0</td>\n",
       "      <td>0</td>\n",
       "      <td>0</td>\n",
       "      <td>0</td>\n",
       "      <td>0</td>\n",
       "      <td>0</td>\n",
       "    </tr>\n",
       "    <tr>\n",
       "      <td>4</td>\n",
       "      <td>0</td>\n",
       "      <td>0</td>\n",
       "      <td>0</td>\n",
       "      <td>0</td>\n",
       "      <td>0</td>\n",
       "      <td>0</td>\n",
       "      <td>0</td>\n",
       "      <td>0</td>\n",
       "      <td>0</td>\n",
       "      <td>0</td>\n",
       "      <td>...</td>\n",
       "      <td>0</td>\n",
       "      <td>0</td>\n",
       "      <td>0</td>\n",
       "      <td>0</td>\n",
       "      <td>0</td>\n",
       "      <td>0</td>\n",
       "      <td>0</td>\n",
       "      <td>0</td>\n",
       "      <td>0</td>\n",
       "      <td>0</td>\n",
       "    </tr>\n",
       "  </tbody>\n",
       "</table>\n",
       "<p>5 rows × 150 columns</p>\n",
       "</div>"
      ],
      "text/plain": [
       "   action movie  bad acting  bad film  bad guy  bad movie  best film  \\\n",
       "0             0           0         0        0          0          0   \n",
       "1             0           0         0        0          0          0   \n",
       "2             0           0         0        0          0          0   \n",
       "3             0           0         0        0          0          0   \n",
       "4             0           0         0        0          0          0   \n",
       "\n",
       "   best movie  black white  camera work  character development  ...  \\\n",
       "0           0            0            0                      0  ...   \n",
       "1           0            0            0                      0  ...   \n",
       "2           0            0            0                      0  ...   \n",
       "3           0            0            0                      0  ...   \n",
       "4           0            0            0                      0  ...   \n",
       "\n",
       "   world war  worst film  worst movie  worth watching  writer director  \\\n",
       "0          0           0            0               0                0   \n",
       "1          0           0            0               0                0   \n",
       "2          0           0            0               0                0   \n",
       "3          0           0            0               0                0   \n",
       "4          0           0            0               0                0   \n",
       "\n",
       "   year ago  year later  year old  young man  young woman  \n",
       "0         0           0         0          0            0  \n",
       "1         0           0         0          0            0  \n",
       "2         0           0         0          0            0  \n",
       "3         0           0         0          0            0  \n",
       "4         0           0         0          0            0  \n",
       "\n",
       "[5 rows x 150 columns]"
      ]
     },
     "execution_count": 73,
     "metadata": {},
     "output_type": "execute_result"
    }
   ],
   "source": [
    "DTM_bg=pd.DataFrame(X_bg.toarray(),columns=count_vectorizer_bg.get_feature_names())\n",
    "DTM_bg.head()"
   ]
  },
  {
   "cell_type": "code",
   "execution_count": 74,
   "metadata": {},
   "outputs": [
    {
     "data": {
      "text/plain": [
       "look like         2896\n",
       "ever seen         2696\n",
       "year old          2357\n",
       "special effect    2312\n",
       "even though       1980\n",
       "movie ever        1976\n",
       "one best          1912\n",
       "main character    1904\n",
       "movie like        1854\n",
       "low budget        1833\n",
       "good movie        1642\n",
       "horror movie      1617\n",
       "see movie         1583\n",
       "waste time        1513\n",
       "much better       1484\n",
       "horror film       1454\n",
       "bad movie         1446\n",
       "watch movie       1430\n",
       "first time        1422\n",
       "movie one         1363\n",
       "make movie        1341\n",
       "film like         1331\n",
       "new york          1307\n",
       "year ago          1292\n",
       "bad guy           1260\n",
       "dtype: int64"
      ]
     },
     "execution_count": 74,
     "metadata": {},
     "output_type": "execute_result"
    }
   ],
   "source": [
    "top25_bi=DTM_bg.sum().sort_values(ascending=False).head(25)\n",
    "top25_bi"
   ]
  },
  {
   "cell_type": "code",
   "execution_count": 166,
   "metadata": {},
   "outputs": [
    {
     "data": {
      "image/png": "[encoded data removed]",
      "text/plain": [
       "<Figure size 720x432 with 1 Axes>"
      ]
     },
     "metadata": {
      "needs_background": "light"
     },
     "output_type": "display_data"
    }
   ],
   "source": [
    "top25_bi.plot(kind='bar',figsize=(10,6))\n",
    "plt.ylabel('Count')\n",
    "plt.xlabel('Bigrams')\n",
    "plt.title('Top 25 bigrams')\n",
    "plt.show()"
   ]
  },
  {
   "cell_type": "raw",
   "metadata": {},
   "source": [
    "Here we can see that some of the unigrams or the top 25 frequency words we got are there in the bigrams along with another word associated with them, which helps in getting a hint or the relevance of the associated word with the term or feature."
   ]
  },
  {
   "cell_type": "raw",
   "metadata": {},
   "source": [
    "Find the top 5 relavent reviews which has the words top 25 bigrams:"
   ]
  },
  {
   "cell_type": "code",
   "execution_count": 76,
   "metadata": {},
   "outputs": [],
   "source": [
    "from sklearn.feature_extraction.text import TfidfVectorizer\n",
    "# create a bigram count vectorizer object\n",
    "bigram_tfidf_vectorizer = TfidfVectorizer(ngram_range=(2,2),max_features=2000)\n",
    "\n",
    "X_bigram = bigram_tfidf_vectorizer.fit_transform(final_data['clean_review1'])\n",
    "\n",
    "# Creating a DTM\n",
    "DTM_bigram = pd.DataFrame(X_bigram.toarray(), \n",
    "                          columns=bigram_tfidf_vectorizer.get_feature_names())"
   ]
  },
  {
   "cell_type": "code",
   "execution_count": 77,
   "metadata": {},
   "outputs": [
    {
     "data": {
      "text/plain": [
       "33702    1.0\n",
       "7526     1.0\n",
       "3173     1.0\n",
       "31847    1.0\n",
       "16511    1.0\n",
       "Name: special effect, dtype: float64"
      ]
     },
     "execution_count": 77,
     "metadata": {},
     "output_type": "execute_result"
    }
   ],
   "source": [
    "DTM_bigram['special effect'].sort_values(ascending=False).head(5)"
   ]
  },
  {
   "cell_type": "markdown",
   "metadata": {},
   "source": [
    "#### Trigram:"
   ]
  },
  {
   "cell_type": "markdown",
   "metadata": {},
   "source": [
    "##### Plot a trigram bar graph on the top words 25 words"
   ]
  },
  {
   "cell_type": "code",
   "execution_count": 78,
   "metadata": {},
   "outputs": [],
   "source": [
    "count_vectorizer_tg=CountVectorizer(ngram_range=(3,3),max_features=150)"
   ]
  },
  {
   "cell_type": "code",
   "execution_count": 79,
   "metadata": {},
   "outputs": [
    {
     "data": {
      "text/plain": [
       "<49582x150 sparse matrix of type '<class 'numpy.int64'>'\n",
       "\twith 15464 stored elements in Compressed Sparse Row format>"
      ]
     },
     "execution_count": 79,
     "metadata": {},
     "output_type": "execute_result"
    }
   ],
   "source": [
    "X_tg=count_vectorizer_tg.fit_transform(final_data['clean_review1'])\n",
    "X_tg"
   ]
  },
  {
   "cell_type": "code",
   "execution_count": 80,
   "metadata": {},
   "outputs": [
    {
     "data": {
      "text/html": [
       "<div>\n",
       "<style scoped>\n",
       "    .dataframe tbody tr th:only-of-type {\n",
       "        vertical-align: middle;\n",
       "    }\n",
       "\n",
       "    .dataframe tbody tr th {\n",
       "        vertical-align: top;\n",
       "    }\n",
       "\n",
       "    .dataframe thead th {\n",
       "        text-align: right;\n",
       "    }\n",
       "</style>\n",
       "<table border=\"1\" class=\"dataframe\">\n",
       "  <thead>\n",
       "    <tr style=\"text-align: right;\">\n",
       "      <th></th>\n",
       "      <th>actually pretty good</th>\n",
       "      <th>bad acting bad</th>\n",
       "      <th>bad bad bad</th>\n",
       "      <th>based true story</th>\n",
       "      <th>best film ever</th>\n",
       "      <th>best movie ever</th>\n",
       "      <th>best movie seen</th>\n",
       "      <th>best part movie</th>\n",
       "      <th>best thing movie</th>\n",
       "      <th>black white film</th>\n",
       "      <th>...</th>\n",
       "      <th>worst film ever</th>\n",
       "      <th>worst film seen</th>\n",
       "      <th>worst movie ever</th>\n",
       "      <th>worst movie seen</th>\n",
       "      <th>worst movie time</th>\n",
       "      <th>year old boy</th>\n",
       "      <th>year old daughter</th>\n",
       "      <th>year old girl</th>\n",
       "      <th>year old son</th>\n",
       "      <th>year old virgin</th>\n",
       "    </tr>\n",
       "  </thead>\n",
       "  <tbody>\n",
       "    <tr>\n",
       "      <td>0</td>\n",
       "      <td>0</td>\n",
       "      <td>0</td>\n",
       "      <td>0</td>\n",
       "      <td>0</td>\n",
       "      <td>0</td>\n",
       "      <td>0</td>\n",
       "      <td>0</td>\n",
       "      <td>0</td>\n",
       "      <td>0</td>\n",
       "      <td>0</td>\n",
       "      <td>...</td>\n",
       "      <td>0</td>\n",
       "      <td>0</td>\n",
       "      <td>0</td>\n",
       "      <td>0</td>\n",
       "      <td>0</td>\n",
       "      <td>0</td>\n",
       "      <td>0</td>\n",
       "      <td>0</td>\n",
       "      <td>0</td>\n",
       "      <td>0</td>\n",
       "    </tr>\n",
       "    <tr>\n",
       "      <td>1</td>\n",
       "      <td>0</td>\n",
       "      <td>0</td>\n",
       "      <td>0</td>\n",
       "      <td>0</td>\n",
       "      <td>0</td>\n",
       "      <td>0</td>\n",
       "      <td>0</td>\n",
       "      <td>0</td>\n",
       "      <td>0</td>\n",
       "      <td>0</td>\n",
       "      <td>...</td>\n",
       "      <td>0</td>\n",
       "      <td>0</td>\n",
       "      <td>0</td>\n",
       "      <td>0</td>\n",
       "      <td>0</td>\n",
       "      <td>0</td>\n",
       "      <td>0</td>\n",
       "      <td>0</td>\n",
       "      <td>0</td>\n",
       "      <td>0</td>\n",
       "    </tr>\n",
       "    <tr>\n",
       "      <td>2</td>\n",
       "      <td>0</td>\n",
       "      <td>0</td>\n",
       "      <td>0</td>\n",
       "      <td>0</td>\n",
       "      <td>0</td>\n",
       "      <td>0</td>\n",
       "      <td>0</td>\n",
       "      <td>0</td>\n",
       "      <td>0</td>\n",
       "      <td>0</td>\n",
       "      <td>...</td>\n",
       "      <td>0</td>\n",
       "      <td>0</td>\n",
       "      <td>0</td>\n",
       "      <td>0</td>\n",
       "      <td>0</td>\n",
       "      <td>0</td>\n",
       "      <td>0</td>\n",
       "      <td>0</td>\n",
       "      <td>0</td>\n",
       "      <td>0</td>\n",
       "    </tr>\n",
       "    <tr>\n",
       "      <td>3</td>\n",
       "      <td>0</td>\n",
       "      <td>0</td>\n",
       "      <td>0</td>\n",
       "      <td>0</td>\n",
       "      <td>0</td>\n",
       "      <td>0</td>\n",
       "      <td>0</td>\n",
       "      <td>0</td>\n",
       "      <td>0</td>\n",
       "      <td>0</td>\n",
       "      <td>...</td>\n",
       "      <td>0</td>\n",
       "      <td>0</td>\n",
       "      <td>0</td>\n",
       "      <td>0</td>\n",
       "      <td>0</td>\n",
       "      <td>0</td>\n",
       "      <td>0</td>\n",
       "      <td>0</td>\n",
       "      <td>0</td>\n",
       "      <td>0</td>\n",
       "    </tr>\n",
       "    <tr>\n",
       "      <td>4</td>\n",
       "      <td>0</td>\n",
       "      <td>0</td>\n",
       "      <td>0</td>\n",
       "      <td>0</td>\n",
       "      <td>0</td>\n",
       "      <td>0</td>\n",
       "      <td>0</td>\n",
       "      <td>0</td>\n",
       "      <td>0</td>\n",
       "      <td>0</td>\n",
       "      <td>...</td>\n",
       "      <td>0</td>\n",
       "      <td>0</td>\n",
       "      <td>0</td>\n",
       "      <td>0</td>\n",
       "      <td>0</td>\n",
       "      <td>0</td>\n",
       "      <td>0</td>\n",
       "      <td>0</td>\n",
       "      <td>0</td>\n",
       "      <td>0</td>\n",
       "    </tr>\n",
       "  </tbody>\n",
       "</table>\n",
       "<p>5 rows × 150 columns</p>\n",
       "</div>"
      ],
      "text/plain": [
       "   actually pretty good  bad acting bad  bad bad bad  based true story  \\\n",
       "0                     0               0            0                 0   \n",
       "1                     0               0            0                 0   \n",
       "2                     0               0            0                 0   \n",
       "3                     0               0            0                 0   \n",
       "4                     0               0            0                 0   \n",
       "\n",
       "   best film ever  best movie ever  best movie seen  best part movie  \\\n",
       "0               0                0                0                0   \n",
       "1               0                0                0                0   \n",
       "2               0                0                0                0   \n",
       "3               0                0                0                0   \n",
       "4               0                0                0                0   \n",
       "\n",
       "   best thing movie  black white film  ...  worst film ever  worst film seen  \\\n",
       "0                 0                 0  ...                0                0   \n",
       "1                 0                 0  ...                0                0   \n",
       "2                 0                 0  ...                0                0   \n",
       "3                 0                 0  ...                0                0   \n",
       "4                 0                 0  ...                0                0   \n",
       "\n",
       "   worst movie ever  worst movie seen  worst movie time  year old boy  \\\n",
       "0                 0                 0                 0             0   \n",
       "1                 0                 0                 0             0   \n",
       "2                 0                 0                 0             0   \n",
       "3                 0                 0                 0             0   \n",
       "4                 0                 0                 0             0   \n",
       "\n",
       "   year old daughter  year old girl  year old son  year old virgin  \n",
       "0                  0              0             0                0  \n",
       "1                  0              0             0                0  \n",
       "2                  0              0             0                0  \n",
       "3                  0              0             0                0  \n",
       "4                  0              0             0                0  \n",
       "\n",
       "[5 rows x 150 columns]"
      ]
     },
     "execution_count": 80,
     "metadata": {},
     "output_type": "execute_result"
    }
   ],
   "source": [
    "DTM_tg=pd.DataFrame(X_tg.toarray(),columns=count_vectorizer_tg.get_feature_names())\n",
    "DTM_tg.head()"
   ]
  },
  {
   "cell_type": "code",
   "execution_count": 81,
   "metadata": {},
   "outputs": [
    {
     "data": {
      "text/plain": [
       "movie ever seen        902\n",
       "worst movie ever       749\n",
       "film ever seen         446\n",
       "movie ever made        380\n",
       "worst film ever        351\n",
       "one worst movie        329\n",
       "film ever made         322\n",
       "new york city          276\n",
       "low budget movie       189\n",
       "one worst film         182\n",
       "based true story       182\n",
       "low budget film        181\n",
       "waste time money       181\n",
       "one best movie         176\n",
       "seen long time         170\n",
       "one best film          170\n",
       "best movie ever        153\n",
       "first time saw         149\n",
       "low budget horror      140\n",
       "two main character     138\n",
       "bad acting bad         136\n",
       "complete waste time    125\n",
       "good thing movie       120\n",
       "year old boy           119\n",
       "make look like         117\n",
       "dtype: int64"
      ]
     },
     "execution_count": 81,
     "metadata": {},
     "output_type": "execute_result"
    }
   ],
   "source": [
    "top25_tri=DTM_tg.sum().sort_values(ascending=False).head(25)\n",
    "top25_tri"
   ]
  },
  {
   "cell_type": "code",
   "execution_count": 251,
   "metadata": {},
   "outputs": [
    {
     "data": {
      "image/png": "[encoded data removed]",
      "text/plain": [
       "<Figure size 720x432 with 1 Axes>"
      ]
     },
     "metadata": {
      "needs_background": "light"
     },
     "output_type": "display_data"
    }
   ],
   "source": [
    "top25_tri.plot(kind='bar',figsize=(10,6))\n",
    "plt.ylabel('Count')\n",
    "plt.xlabel('Trigrams')\n",
    "plt.title('Top 25 Trigrams')\n",
    "plt.show()"
   ]
  },
  {
   "cell_type": "raw",
   "metadata": {},
   "source": [
    "Here in this case,we can see 3 words are associated with each other and they are helping in getting a better idea like how the reviewers have given their rating on depending upon what features attracted them in both positive and negative manner."
   ]
  },
  {
   "cell_type": "markdown",
   "metadata": {},
   "source": [
    "### Sentiment Score:"
   ]
  },
  {
   "cell_type": "markdown",
   "metadata": {},
   "source": [
    "#### Sentiment Prediction Strategy 1: Sentiment Score by using AFINN-111.txt file"
   ]
  },
  {
   "cell_type": "code",
   "execution_count": 252,
   "metadata": {},
   "outputs": [
    {
     "data": {
      "text/html": [
       "<div>\n",
       "<style scoped>\n",
       "    .dataframe tbody tr th:only-of-type {\n",
       "        vertical-align: middle;\n",
       "    }\n",
       "\n",
       "    .dataframe tbody tr th {\n",
       "        vertical-align: top;\n",
       "    }\n",
       "\n",
       "    .dataframe thead th {\n",
       "        text-align: right;\n",
       "    }\n",
       "</style>\n",
       "<table border=\"1\" class=\"dataframe\">\n",
       "  <thead>\n",
       "    <tr style=\"text-align: right;\">\n",
       "      <th></th>\n",
       "      <th>0</th>\n",
       "      <th>1</th>\n",
       "    </tr>\n",
       "  </thead>\n",
       "  <tbody>\n",
       "    <tr>\n",
       "      <td>0</td>\n",
       "      <td>abandon</td>\n",
       "      <td>-2</td>\n",
       "    </tr>\n",
       "    <tr>\n",
       "      <td>1</td>\n",
       "      <td>abandoned</td>\n",
       "      <td>-2</td>\n",
       "    </tr>\n",
       "    <tr>\n",
       "      <td>2</td>\n",
       "      <td>abandons</td>\n",
       "      <td>-2</td>\n",
       "    </tr>\n",
       "    <tr>\n",
       "      <td>3</td>\n",
       "      <td>abducted</td>\n",
       "      <td>-2</td>\n",
       "    </tr>\n",
       "    <tr>\n",
       "      <td>4</td>\n",
       "      <td>abduction</td>\n",
       "      <td>-2</td>\n",
       "    </tr>\n",
       "  </tbody>\n",
       "</table>\n",
       "</div>"
      ],
      "text/plain": [
       "           0  1\n",
       "0    abandon -2\n",
       "1  abandoned -2\n",
       "2   abandons -2\n",
       "3   abducted -2\n",
       "4  abduction -2"
      ]
     },
     "execution_count": 252,
     "metadata": {},
     "output_type": "execute_result"
    }
   ],
   "source": [
    "afinn = pd.read_csv(\"C:/Users/Srishti/Desktop/Data Science/Unstructured Data/Text Analytics/AFINN-111.txt\", sep=\"\\t\",header=None)\n",
    "afinn.head()"
   ]
  },
  {
   "cell_type": "code",
   "execution_count": 253,
   "metadata": {},
   "outputs": [
    {
     "data": {
      "text/html": [
       "<div>\n",
       "<style scoped>\n",
       "    .dataframe tbody tr th:only-of-type {\n",
       "        vertical-align: middle;\n",
       "    }\n",
       "\n",
       "    .dataframe tbody tr th {\n",
       "        vertical-align: top;\n",
       "    }\n",
       "\n",
       "    .dataframe thead th {\n",
       "        text-align: right;\n",
       "    }\n",
       "</style>\n",
       "<table border=\"1\" class=\"dataframe\">\n",
       "  <thead>\n",
       "    <tr style=\"text-align: right;\">\n",
       "      <th></th>\n",
       "      <th>Term</th>\n",
       "      <th>Score</th>\n",
       "    </tr>\n",
       "  </thead>\n",
       "  <tbody>\n",
       "    <tr>\n",
       "      <td>0</td>\n",
       "      <td>abandon</td>\n",
       "      <td>-2</td>\n",
       "    </tr>\n",
       "    <tr>\n",
       "      <td>1</td>\n",
       "      <td>abandoned</td>\n",
       "      <td>-2</td>\n",
       "    </tr>\n",
       "    <tr>\n",
       "      <td>2</td>\n",
       "      <td>abandons</td>\n",
       "      <td>-2</td>\n",
       "    </tr>\n",
       "    <tr>\n",
       "      <td>3</td>\n",
       "      <td>abducted</td>\n",
       "      <td>-2</td>\n",
       "    </tr>\n",
       "    <tr>\n",
       "      <td>4</td>\n",
       "      <td>abduction</td>\n",
       "      <td>-2</td>\n",
       "    </tr>\n",
       "  </tbody>\n",
       "</table>\n",
       "</div>"
      ],
      "text/plain": [
       "        Term  Score\n",
       "0    abandon     -2\n",
       "1  abandoned     -2\n",
       "2   abandons     -2\n",
       "3   abducted     -2\n",
       "4  abduction     -2"
      ]
     },
     "execution_count": 253,
     "metadata": {},
     "output_type": "execute_result"
    }
   ],
   "source": [
    "afinn.columns = ['Term','Score']\n",
    "afinn.head()"
   ]
  },
  {
   "cell_type": "code",
   "execution_count": 254,
   "metadata": {},
   "outputs": [],
   "source": [
    "term_scores=dict(afinn.values)"
   ]
  },
  {
   "cell_type": "code",
   "execution_count": 255,
   "metadata": {},
   "outputs": [],
   "source": [
    "#UDF:\n",
    "def get_sentiment1(text):\n",
    "    score1=0\n",
    "    tokens1=wordpunct_tokenize(text.lower())\n",
    "    for term1 in tokens1:\n",
    "        score1+=term_scores.get(term1,0)\n",
    "    return score1"
   ]
  },
  {
   "cell_type": "code",
   "execution_count": 256,
   "metadata": {},
   "outputs": [
    {
     "name": "stderr",
     "output_type": "stream",
     "text": [
      "C:\\Users\\Srishti\\AppData\\Local\\Continuum\\anaconda3\\lib\\site-packages\\ipykernel_launcher.py:1: SettingWithCopyWarning: \n",
      "A value is trying to be set on a copy of a slice from a DataFrame.\n",
      "Try using .loc[row_indexer,col_indexer] = value instead\n",
      "\n",
      "See the caveats in the documentation: http://pandas.pydata.org/pandas-docs/stable/user_guide/indexing.html#returning-a-view-versus-a-copy\n",
      "  \"\"\"Entry point for launching an IPython kernel.\n"
     ]
    },
    {
     "data": {
      "text/html": [
       "<div>\n",
       "<style scoped>\n",
       "    .dataframe tbody tr th:only-of-type {\n",
       "        vertical-align: middle;\n",
       "    }\n",
       "\n",
       "    .dataframe tbody tr th {\n",
       "        vertical-align: top;\n",
       "    }\n",
       "\n",
       "    .dataframe thead th {\n",
       "        text-align: right;\n",
       "    }\n",
       "</style>\n",
       "<table border=\"1\" class=\"dataframe\">\n",
       "  <thead>\n",
       "    <tr style=\"text-align: right;\">\n",
       "      <th></th>\n",
       "      <th>text</th>\n",
       "      <th>sentiment</th>\n",
       "      <th>sentiment_score</th>\n",
       "      <th>clean_review1</th>\n",
       "      <th>sent_score1</th>\n",
       "    </tr>\n",
       "  </thead>\n",
       "  <tbody>\n",
       "    <tr>\n",
       "      <td>0</td>\n",
       "      <td>Now, I won't deny that when I purchased this o...</td>\n",
       "      <td>neg</td>\n",
       "      <td>0</td>\n",
       "      <td>deny purchased ebay high expectation incredibl...</td>\n",
       "      <td>9</td>\n",
       "    </tr>\n",
       "    <tr>\n",
       "      <td>1</td>\n",
       "      <td>The saddest thing about this \"tribute\" is that...</td>\n",
       "      <td>neg</td>\n",
       "      <td>0</td>\n",
       "      <td>saddest thing tribute almost singer including ...</td>\n",
       "      <td>-19</td>\n",
       "    </tr>\n",
       "    <tr>\n",
       "      <td>2</td>\n",
       "      <td>Last night I decided to watch the prequel or s...</td>\n",
       "      <td>neg</td>\n",
       "      <td>0</td>\n",
       "      <td>last night decided watch prequel shall say cal...</td>\n",
       "      <td>0</td>\n",
       "    </tr>\n",
       "    <tr>\n",
       "      <td>3</td>\n",
       "      <td>I have to admit that i liked the first half of...</td>\n",
       "      <td>neg</td>\n",
       "      <td>0</td>\n",
       "      <td>admit liked first half sleeper looked good act...</td>\n",
       "      <td>-8</td>\n",
       "    </tr>\n",
       "    <tr>\n",
       "      <td>4</td>\n",
       "      <td>I was not impressed about this film especially...</td>\n",
       "      <td>neg</td>\n",
       "      <td>0</td>\n",
       "      <td>impressed film especially fact went cinema fam...</td>\n",
       "      <td>14</td>\n",
       "    </tr>\n",
       "  </tbody>\n",
       "</table>\n",
       "</div>"
      ],
      "text/plain": [
       "                                                text sentiment  \\\n",
       "0  Now, I won't deny that when I purchased this o...       neg   \n",
       "1  The saddest thing about this \"tribute\" is that...       neg   \n",
       "2  Last night I decided to watch the prequel or s...       neg   \n",
       "3  I have to admit that i liked the first half of...       neg   \n",
       "4  I was not impressed about this film especially...       neg   \n",
       "\n",
       "   sentiment_score                                      clean_review1  \\\n",
       "0                0  deny purchased ebay high expectation incredibl...   \n",
       "1                0  saddest thing tribute almost singer including ...   \n",
       "2                0  last night decided watch prequel shall say cal...   \n",
       "3                0  admit liked first half sleeper looked good act...   \n",
       "4                0  impressed film especially fact went cinema fam...   \n",
       "\n",
       "   sent_score1  \n",
       "0            9  \n",
       "1          -19  \n",
       "2            0  \n",
       "3           -8  \n",
       "4           14  "
      ]
     },
     "execution_count": 256,
     "metadata": {},
     "output_type": "execute_result"
    }
   ],
   "source": [
    "final_data['sent_score1']=final_data['clean_review1'].apply(get_sentiment1)\n",
    "final_data.head()"
   ]
  },
  {
   "cell_type": "code",
   "execution_count": 257,
   "metadata": {},
   "outputs": [
    {
     "name": "stderr",
     "output_type": "stream",
     "text": [
      "C:\\Users\\Srishti\\AppData\\Local\\Continuum\\anaconda3\\lib\\site-packages\\ipykernel_launcher.py:1: SettingWithCopyWarning: \n",
      "A value is trying to be set on a copy of a slice from a DataFrame.\n",
      "Try using .loc[row_indexer,col_indexer] = value instead\n",
      "\n",
      "See the caveats in the documentation: http://pandas.pydata.org/pandas-docs/stable/user_guide/indexing.html#returning-a-view-versus-a-copy\n",
      "  \"\"\"Entry point for launching an IPython kernel.\n"
     ]
    },
    {
     "data": {
      "text/html": [
       "<div>\n",
       "<style scoped>\n",
       "    .dataframe tbody tr th:only-of-type {\n",
       "        vertical-align: middle;\n",
       "    }\n",
       "\n",
       "    .dataframe tbody tr th {\n",
       "        vertical-align: top;\n",
       "    }\n",
       "\n",
       "    .dataframe thead th {\n",
       "        text-align: right;\n",
       "    }\n",
       "</style>\n",
       "<table border=\"1\" class=\"dataframe\">\n",
       "  <thead>\n",
       "    <tr style=\"text-align: right;\">\n",
       "      <th></th>\n",
       "      <th>text</th>\n",
       "      <th>sentiment</th>\n",
       "      <th>sentiment_score</th>\n",
       "      <th>clean_review1</th>\n",
       "      <th>sent_score1</th>\n",
       "      <th>sent_prediction1</th>\n",
       "    </tr>\n",
       "  </thead>\n",
       "  <tbody>\n",
       "    <tr>\n",
       "      <td>0</td>\n",
       "      <td>Now, I won't deny that when I purchased this o...</td>\n",
       "      <td>neg</td>\n",
       "      <td>0</td>\n",
       "      <td>deny purchased ebay high expectation incredibl...</td>\n",
       "      <td>9</td>\n",
       "      <td>1</td>\n",
       "    </tr>\n",
       "    <tr>\n",
       "      <td>1</td>\n",
       "      <td>The saddest thing about this \"tribute\" is that...</td>\n",
       "      <td>neg</td>\n",
       "      <td>0</td>\n",
       "      <td>saddest thing tribute almost singer including ...</td>\n",
       "      <td>-19</td>\n",
       "      <td>0</td>\n",
       "    </tr>\n",
       "    <tr>\n",
       "      <td>2</td>\n",
       "      <td>Last night I decided to watch the prequel or s...</td>\n",
       "      <td>neg</td>\n",
       "      <td>0</td>\n",
       "      <td>last night decided watch prequel shall say cal...</td>\n",
       "      <td>0</td>\n",
       "      <td>0</td>\n",
       "    </tr>\n",
       "    <tr>\n",
       "      <td>3</td>\n",
       "      <td>I have to admit that i liked the first half of...</td>\n",
       "      <td>neg</td>\n",
       "      <td>0</td>\n",
       "      <td>admit liked first half sleeper looked good act...</td>\n",
       "      <td>-8</td>\n",
       "      <td>0</td>\n",
       "    </tr>\n",
       "    <tr>\n",
       "      <td>4</td>\n",
       "      <td>I was not impressed about this film especially...</td>\n",
       "      <td>neg</td>\n",
       "      <td>0</td>\n",
       "      <td>impressed film especially fact went cinema fam...</td>\n",
       "      <td>14</td>\n",
       "      <td>1</td>\n",
       "    </tr>\n",
       "  </tbody>\n",
       "</table>\n",
       "</div>"
      ],
      "text/plain": [
       "                                                text sentiment  \\\n",
       "0  Now, I won't deny that when I purchased this o...       neg   \n",
       "1  The saddest thing about this \"tribute\" is that...       neg   \n",
       "2  Last night I decided to watch the prequel or s...       neg   \n",
       "3  I have to admit that i liked the first half of...       neg   \n",
       "4  I was not impressed about this film especially...       neg   \n",
       "\n",
       "   sentiment_score                                      clean_review1  \\\n",
       "0                0  deny purchased ebay high expectation incredibl...   \n",
       "1                0  saddest thing tribute almost singer including ...   \n",
       "2                0  last night decided watch prequel shall say cal...   \n",
       "3                0  admit liked first half sleeper looked good act...   \n",
       "4                0  impressed film especially fact went cinema fam...   \n",
       "\n",
       "   sent_score1  sent_prediction1  \n",
       "0            9                 1  \n",
       "1          -19                 0  \n",
       "2            0                 0  \n",
       "3           -8                 0  \n",
       "4           14                 1  "
      ]
     },
     "execution_count": 257,
     "metadata": {},
     "output_type": "execute_result"
    }
   ],
   "source": [
    "final_data['sent_prediction1']=final_data['sent_score1'].apply(lambda x:1 if x>0 else 0)\n",
    "final_data.head()"
   ]
  },
  {
   "cell_type": "markdown",
   "metadata": {},
   "source": [
    "##### Accuracy for 1st sentimental score:"
   ]
  },
  {
   "cell_type": "code",
   "execution_count": 258,
   "metadata": {},
   "outputs": [
    {
     "data": {
      "text/plain": [
       "0.6934371344439514"
      ]
     },
     "execution_count": 258,
     "metadata": {},
     "output_type": "execute_result"
    }
   ],
   "source": [
    "from sklearn.metrics import accuracy_score\n",
    "accuracy_score(final_data.sentiment_score,final_data.sent_prediction1)"
   ]
  },
  {
   "cell_type": "markdown",
   "metadata": {},
   "source": [
    "###### Without using lemmatizer, create one more reviews segment to calculate the sentimental score and its improved accuracy:"
   ]
  },
  {
   "cell_type": "code",
   "execution_count": 259,
   "metadata": {},
   "outputs": [],
   "source": [
    "def clean_txt1(text):\n",
    "    \n",
    "    tokens2=wordpunct_tokenize(text.lower())\n",
    "    without_lemma=[word for word in tokens2 if word not in stop_updated and word not in list(punctuation)\n",
    "                 and len(word)>2]\n",
    "    res=\" \".join(without_lemma)\n",
    "    return res"
   ]
  },
  {
   "cell_type": "code",
   "execution_count": 260,
   "metadata": {},
   "outputs": [
    {
     "name": "stderr",
     "output_type": "stream",
     "text": [
      "C:\\Users\\Srishti\\AppData\\Local\\Continuum\\anaconda3\\lib\\site-packages\\ipykernel_launcher.py:1: SettingWithCopyWarning: \n",
      "A value is trying to be set on a copy of a slice from a DataFrame.\n",
      "Try using .loc[row_indexer,col_indexer] = value instead\n",
      "\n",
      "See the caveats in the documentation: http://pandas.pydata.org/pandas-docs/stable/user_guide/indexing.html#returning-a-view-versus-a-copy\n",
      "  \"\"\"Entry point for launching an IPython kernel.\n"
     ]
    },
    {
     "data": {
      "text/html": [
       "<div>\n",
       "<style scoped>\n",
       "    .dataframe tbody tr th:only-of-type {\n",
       "        vertical-align: middle;\n",
       "    }\n",
       "\n",
       "    .dataframe tbody tr th {\n",
       "        vertical-align: top;\n",
       "    }\n",
       "\n",
       "    .dataframe thead th {\n",
       "        text-align: right;\n",
       "    }\n",
       "</style>\n",
       "<table border=\"1\" class=\"dataframe\">\n",
       "  <thead>\n",
       "    <tr style=\"text-align: right;\">\n",
       "      <th></th>\n",
       "      <th>text</th>\n",
       "      <th>sentiment</th>\n",
       "      <th>sentiment_score</th>\n",
       "      <th>clean_review1</th>\n",
       "      <th>sent_score1</th>\n",
       "      <th>sent_prediction1</th>\n",
       "      <th>clean_review_w/o_lem</th>\n",
       "    </tr>\n",
       "  </thead>\n",
       "  <tbody>\n",
       "    <tr>\n",
       "      <td>0</td>\n",
       "      <td>Now, I won't deny that when I purchased this o...</td>\n",
       "      <td>neg</td>\n",
       "      <td>0</td>\n",
       "      <td>deny purchased ebay high expectation incredibl...</td>\n",
       "      <td>9</td>\n",
       "      <td>1</td>\n",
       "      <td>deny purchased ebay high expectations incredib...</td>\n",
       "    </tr>\n",
       "    <tr>\n",
       "      <td>1</td>\n",
       "      <td>The saddest thing about this \"tribute\" is that...</td>\n",
       "      <td>neg</td>\n",
       "      <td>0</td>\n",
       "      <td>saddest thing tribute almost singer including ...</td>\n",
       "      <td>-19</td>\n",
       "      <td>0</td>\n",
       "      <td>saddest thing tribute almost singers including...</td>\n",
       "    </tr>\n",
       "    <tr>\n",
       "      <td>2</td>\n",
       "      <td>Last night I decided to watch the prequel or s...</td>\n",
       "      <td>neg</td>\n",
       "      <td>0</td>\n",
       "      <td>last night decided watch prequel shall say cal...</td>\n",
       "      <td>0</td>\n",
       "      <td>0</td>\n",
       "      <td>last night decided watch prequel shall say cal...</td>\n",
       "    </tr>\n",
       "    <tr>\n",
       "      <td>3</td>\n",
       "      <td>I have to admit that i liked the first half of...</td>\n",
       "      <td>neg</td>\n",
       "      <td>0</td>\n",
       "      <td>admit liked first half sleeper looked good act...</td>\n",
       "      <td>-8</td>\n",
       "      <td>0</td>\n",
       "      <td>admit liked first half sleepers looked good ac...</td>\n",
       "    </tr>\n",
       "    <tr>\n",
       "      <td>4</td>\n",
       "      <td>I was not impressed about this film especially...</td>\n",
       "      <td>neg</td>\n",
       "      <td>0</td>\n",
       "      <td>impressed film especially fact went cinema fam...</td>\n",
       "      <td>14</td>\n",
       "      <td>1</td>\n",
       "      <td>impressed film especially fact went cinema fam...</td>\n",
       "    </tr>\n",
       "  </tbody>\n",
       "</table>\n",
       "</div>"
      ],
      "text/plain": [
       "                                                text sentiment  \\\n",
       "0  Now, I won't deny that when I purchased this o...       neg   \n",
       "1  The saddest thing about this \"tribute\" is that...       neg   \n",
       "2  Last night I decided to watch the prequel or s...       neg   \n",
       "3  I have to admit that i liked the first half of...       neg   \n",
       "4  I was not impressed about this film especially...       neg   \n",
       "\n",
       "   sentiment_score                                      clean_review1  \\\n",
       "0                0  deny purchased ebay high expectation incredibl...   \n",
       "1                0  saddest thing tribute almost singer including ...   \n",
       "2                0  last night decided watch prequel shall say cal...   \n",
       "3                0  admit liked first half sleeper looked good act...   \n",
       "4                0  impressed film especially fact went cinema fam...   \n",
       "\n",
       "   sent_score1  sent_prediction1  \\\n",
       "0            9                 1   \n",
       "1          -19                 0   \n",
       "2            0                 0   \n",
       "3           -8                 0   \n",
       "4           14                 1   \n",
       "\n",
       "                                clean_review_w/o_lem  \n",
       "0  deny purchased ebay high expectations incredib...  \n",
       "1  saddest thing tribute almost singers including...  \n",
       "2  last night decided watch prequel shall say cal...  \n",
       "3  admit liked first half sleepers looked good ac...  \n",
       "4  impressed film especially fact went cinema fam...  "
      ]
     },
     "execution_count": 260,
     "metadata": {},
     "output_type": "execute_result"
    }
   ],
   "source": [
    "final_data['clean_review_w/o_lem']=final_data.text.apply(clean_txt1)\n",
    "final_data.head()"
   ]
  },
  {
   "cell_type": "code",
   "execution_count": 261,
   "metadata": {},
   "outputs": [],
   "source": [
    "#UDF:\n",
    "def get_sentiment2(text):\n",
    "    score2=0\n",
    "    tokens2=wordpunct_tokenize(text.lower())\n",
    "    for term2 in tokens2:\n",
    "        score2+=term_scores.get(term2,0)\n",
    "    return score2"
   ]
  },
  {
   "cell_type": "code",
   "execution_count": 262,
   "metadata": {},
   "outputs": [
    {
     "name": "stderr",
     "output_type": "stream",
     "text": [
      "C:\\Users\\Srishti\\AppData\\Local\\Continuum\\anaconda3\\lib\\site-packages\\ipykernel_launcher.py:1: SettingWithCopyWarning: \n",
      "A value is trying to be set on a copy of a slice from a DataFrame.\n",
      "Try using .loc[row_indexer,col_indexer] = value instead\n",
      "\n",
      "See the caveats in the documentation: http://pandas.pydata.org/pandas-docs/stable/user_guide/indexing.html#returning-a-view-versus-a-copy\n",
      "  \"\"\"Entry point for launching an IPython kernel.\n"
     ]
    },
    {
     "data": {
      "text/html": [
       "<div>\n",
       "<style scoped>\n",
       "    .dataframe tbody tr th:only-of-type {\n",
       "        vertical-align: middle;\n",
       "    }\n",
       "\n",
       "    .dataframe tbody tr th {\n",
       "        vertical-align: top;\n",
       "    }\n",
       "\n",
       "    .dataframe thead th {\n",
       "        text-align: right;\n",
       "    }\n",
       "</style>\n",
       "<table border=\"1\" class=\"dataframe\">\n",
       "  <thead>\n",
       "    <tr style=\"text-align: right;\">\n",
       "      <th></th>\n",
       "      <th>text</th>\n",
       "      <th>sentiment</th>\n",
       "      <th>sentiment_score</th>\n",
       "      <th>clean_review1</th>\n",
       "      <th>sent_score1</th>\n",
       "      <th>sent_prediction1</th>\n",
       "      <th>clean_review_w/o_lem</th>\n",
       "      <th>sent_score_w/o_lem</th>\n",
       "    </tr>\n",
       "  </thead>\n",
       "  <tbody>\n",
       "    <tr>\n",
       "      <td>0</td>\n",
       "      <td>Now, I won't deny that when I purchased this o...</td>\n",
       "      <td>neg</td>\n",
       "      <td>0</td>\n",
       "      <td>deny purchased ebay high expectation incredibl...</td>\n",
       "      <td>9</td>\n",
       "      <td>1</td>\n",
       "      <td>deny purchased ebay high expectations incredib...</td>\n",
       "      <td>10</td>\n",
       "    </tr>\n",
       "    <tr>\n",
       "      <td>1</td>\n",
       "      <td>The saddest thing about this \"tribute\" is that...</td>\n",
       "      <td>neg</td>\n",
       "      <td>0</td>\n",
       "      <td>saddest thing tribute almost singer including ...</td>\n",
       "      <td>-19</td>\n",
       "      <td>0</td>\n",
       "      <td>saddest thing tribute almost singers including...</td>\n",
       "      <td>-21</td>\n",
       "    </tr>\n",
       "    <tr>\n",
       "      <td>2</td>\n",
       "      <td>Last night I decided to watch the prequel or s...</td>\n",
       "      <td>neg</td>\n",
       "      <td>0</td>\n",
       "      <td>last night decided watch prequel shall say cal...</td>\n",
       "      <td>0</td>\n",
       "      <td>0</td>\n",
       "      <td>last night decided watch prequel shall say cal...</td>\n",
       "      <td>0</td>\n",
       "    </tr>\n",
       "    <tr>\n",
       "      <td>3</td>\n",
       "      <td>I have to admit that i liked the first half of...</td>\n",
       "      <td>neg</td>\n",
       "      <td>0</td>\n",
       "      <td>admit liked first half sleeper looked good act...</td>\n",
       "      <td>-8</td>\n",
       "      <td>0</td>\n",
       "      <td>admit liked first half sleepers looked good ac...</td>\n",
       "      <td>-6</td>\n",
       "    </tr>\n",
       "    <tr>\n",
       "      <td>4</td>\n",
       "      <td>I was not impressed about this film especially...</td>\n",
       "      <td>neg</td>\n",
       "      <td>0</td>\n",
       "      <td>impressed film especially fact went cinema fam...</td>\n",
       "      <td>14</td>\n",
       "      <td>1</td>\n",
       "      <td>impressed film especially fact went cinema fam...</td>\n",
       "      <td>14</td>\n",
       "    </tr>\n",
       "  </tbody>\n",
       "</table>\n",
       "</div>"
      ],
      "text/plain": [
       "                                                text sentiment  \\\n",
       "0  Now, I won't deny that when I purchased this o...       neg   \n",
       "1  The saddest thing about this \"tribute\" is that...       neg   \n",
       "2  Last night I decided to watch the prequel or s...       neg   \n",
       "3  I have to admit that i liked the first half of...       neg   \n",
       "4  I was not impressed about this film especially...       neg   \n",
       "\n",
       "   sentiment_score                                      clean_review1  \\\n",
       "0                0  deny purchased ebay high expectation incredibl...   \n",
       "1                0  saddest thing tribute almost singer including ...   \n",
       "2                0  last night decided watch prequel shall say cal...   \n",
       "3                0  admit liked first half sleeper looked good act...   \n",
       "4                0  impressed film especially fact went cinema fam...   \n",
       "\n",
       "   sent_score1  sent_prediction1  \\\n",
       "0            9                 1   \n",
       "1          -19                 0   \n",
       "2            0                 0   \n",
       "3           -8                 0   \n",
       "4           14                 1   \n",
       "\n",
       "                                clean_review_w/o_lem  sent_score_w/o_lem  \n",
       "0  deny purchased ebay high expectations incredib...                  10  \n",
       "1  saddest thing tribute almost singers including...                 -21  \n",
       "2  last night decided watch prequel shall say cal...                   0  \n",
       "3  admit liked first half sleepers looked good ac...                  -6  \n",
       "4  impressed film especially fact went cinema fam...                  14  "
      ]
     },
     "execution_count": 262,
     "metadata": {},
     "output_type": "execute_result"
    }
   ],
   "source": [
    "final_data['sent_score_w/o_lem']=final_data['clean_review_w/o_lem'].apply(get_sentiment2)\n",
    "final_data.head()"
   ]
  },
  {
   "cell_type": "code",
   "execution_count": 263,
   "metadata": {},
   "outputs": [
    {
     "name": "stderr",
     "output_type": "stream",
     "text": [
      "C:\\Users\\Srishti\\AppData\\Local\\Continuum\\anaconda3\\lib\\site-packages\\ipykernel_launcher.py:1: SettingWithCopyWarning: \n",
      "A value is trying to be set on a copy of a slice from a DataFrame.\n",
      "Try using .loc[row_indexer,col_indexer] = value instead\n",
      "\n",
      "See the caveats in the documentation: http://pandas.pydata.org/pandas-docs/stable/user_guide/indexing.html#returning-a-view-versus-a-copy\n",
      "  \"\"\"Entry point for launching an IPython kernel.\n"
     ]
    },
    {
     "data": {
      "text/html": [
       "<div>\n",
       "<style scoped>\n",
       "    .dataframe tbody tr th:only-of-type {\n",
       "        vertical-align: middle;\n",
       "    }\n",
       "\n",
       "    .dataframe tbody tr th {\n",
       "        vertical-align: top;\n",
       "    }\n",
       "\n",
       "    .dataframe thead th {\n",
       "        text-align: right;\n",
       "    }\n",
       "</style>\n",
       "<table border=\"1\" class=\"dataframe\">\n",
       "  <thead>\n",
       "    <tr style=\"text-align: right;\">\n",
       "      <th></th>\n",
       "      <th>text</th>\n",
       "      <th>sentiment</th>\n",
       "      <th>sentiment_score</th>\n",
       "      <th>clean_review1</th>\n",
       "      <th>sent_score1</th>\n",
       "      <th>sent_prediction1</th>\n",
       "      <th>clean_review_w/o_lem</th>\n",
       "      <th>sent_score_w/o_lem</th>\n",
       "      <th>sent_prediction_w/o_lem</th>\n",
       "    </tr>\n",
       "  </thead>\n",
       "  <tbody>\n",
       "    <tr>\n",
       "      <td>0</td>\n",
       "      <td>Now, I won't deny that when I purchased this o...</td>\n",
       "      <td>neg</td>\n",
       "      <td>0</td>\n",
       "      <td>deny purchased ebay high expectation incredibl...</td>\n",
       "      <td>9</td>\n",
       "      <td>1</td>\n",
       "      <td>deny purchased ebay high expectations incredib...</td>\n",
       "      <td>10</td>\n",
       "      <td>1</td>\n",
       "    </tr>\n",
       "    <tr>\n",
       "      <td>1</td>\n",
       "      <td>The saddest thing about this \"tribute\" is that...</td>\n",
       "      <td>neg</td>\n",
       "      <td>0</td>\n",
       "      <td>saddest thing tribute almost singer including ...</td>\n",
       "      <td>-19</td>\n",
       "      <td>0</td>\n",
       "      <td>saddest thing tribute almost singers including...</td>\n",
       "      <td>-21</td>\n",
       "      <td>0</td>\n",
       "    </tr>\n",
       "    <tr>\n",
       "      <td>2</td>\n",
       "      <td>Last night I decided to watch the prequel or s...</td>\n",
       "      <td>neg</td>\n",
       "      <td>0</td>\n",
       "      <td>last night decided watch prequel shall say cal...</td>\n",
       "      <td>0</td>\n",
       "      <td>0</td>\n",
       "      <td>last night decided watch prequel shall say cal...</td>\n",
       "      <td>0</td>\n",
       "      <td>0</td>\n",
       "    </tr>\n",
       "    <tr>\n",
       "      <td>3</td>\n",
       "      <td>I have to admit that i liked the first half of...</td>\n",
       "      <td>neg</td>\n",
       "      <td>0</td>\n",
       "      <td>admit liked first half sleeper looked good act...</td>\n",
       "      <td>-8</td>\n",
       "      <td>0</td>\n",
       "      <td>admit liked first half sleepers looked good ac...</td>\n",
       "      <td>-6</td>\n",
       "      <td>0</td>\n",
       "    </tr>\n",
       "    <tr>\n",
       "      <td>4</td>\n",
       "      <td>I was not impressed about this film especially...</td>\n",
       "      <td>neg</td>\n",
       "      <td>0</td>\n",
       "      <td>impressed film especially fact went cinema fam...</td>\n",
       "      <td>14</td>\n",
       "      <td>1</td>\n",
       "      <td>impressed film especially fact went cinema fam...</td>\n",
       "      <td>14</td>\n",
       "      <td>1</td>\n",
       "    </tr>\n",
       "  </tbody>\n",
       "</table>\n",
       "</div>"
      ],
      "text/plain": [
       "                                                text sentiment  \\\n",
       "0  Now, I won't deny that when I purchased this o...       neg   \n",
       "1  The saddest thing about this \"tribute\" is that...       neg   \n",
       "2  Last night I decided to watch the prequel or s...       neg   \n",
       "3  I have to admit that i liked the first half of...       neg   \n",
       "4  I was not impressed about this film especially...       neg   \n",
       "\n",
       "   sentiment_score                                      clean_review1  \\\n",
       "0                0  deny purchased ebay high expectation incredibl...   \n",
       "1                0  saddest thing tribute almost singer including ...   \n",
       "2                0  last night decided watch prequel shall say cal...   \n",
       "3                0  admit liked first half sleeper looked good act...   \n",
       "4                0  impressed film especially fact went cinema fam...   \n",
       "\n",
       "   sent_score1  sent_prediction1  \\\n",
       "0            9                 1   \n",
       "1          -19                 0   \n",
       "2            0                 0   \n",
       "3           -8                 0   \n",
       "4           14                 1   \n",
       "\n",
       "                                clean_review_w/o_lem  sent_score_w/o_lem  \\\n",
       "0  deny purchased ebay high expectations incredib...                  10   \n",
       "1  saddest thing tribute almost singers including...                 -21   \n",
       "2  last night decided watch prequel shall say cal...                   0   \n",
       "3  admit liked first half sleepers looked good ac...                  -6   \n",
       "4  impressed film especially fact went cinema fam...                  14   \n",
       "\n",
       "   sent_prediction_w/o_lem  \n",
       "0                        1  \n",
       "1                        0  \n",
       "2                        0  \n",
       "3                        0  \n",
       "4                        1  "
      ]
     },
     "execution_count": 263,
     "metadata": {},
     "output_type": "execute_result"
    }
   ],
   "source": [
    "final_data['sent_prediction_w/o_lem']=final_data['sent_score_w/o_lem'].apply(lambda x:1 if x>0 else 0)\n",
    "final_data.head()"
   ]
  },
  {
   "cell_type": "markdown",
   "metadata": {},
   "source": [
    "##### Accuracy for sentimental score without lemmatizing:"
   ]
  },
  {
   "cell_type": "code",
   "execution_count": 264,
   "metadata": {},
   "outputs": [
    {
     "data": {
      "text/plain": [
       "0.6936186519301359"
      ]
     },
     "execution_count": 264,
     "metadata": {},
     "output_type": "execute_result"
    }
   ],
   "source": [
    "accuracy_score(final_data.sentiment_score,final_data['sent_prediction_w/o_lem'])"
   ]
  },
  {
   "cell_type": "markdown",
   "metadata": {},
   "source": [
    "#### Sentiment Prediction Strategy 2: Vader"
   ]
  },
  {
   "cell_type": "code",
   "execution_count": 265,
   "metadata": {},
   "outputs": [],
   "source": [
    "from nltk.sentiment.vader import SentimentIntensityAnalyzer\n",
    "analyser=SentimentIntensityAnalyzer()"
   ]
  },
  {
   "cell_type": "code",
   "execution_count": 266,
   "metadata": {},
   "outputs": [],
   "source": [
    "##UDF\n",
    "def get_vader_sentiment(text):\n",
    "    return analyser.polarity_scores(text)['compound']"
   ]
  },
  {
   "cell_type": "code",
   "execution_count": 267,
   "metadata": {},
   "outputs": [
    {
     "name": "stderr",
     "output_type": "stream",
     "text": [
      "C:\\Users\\Srishti\\AppData\\Local\\Continuum\\anaconda3\\lib\\site-packages\\ipykernel_launcher.py:1: SettingWithCopyWarning: \n",
      "A value is trying to be set on a copy of a slice from a DataFrame.\n",
      "Try using .loc[row_indexer,col_indexer] = value instead\n",
      "\n",
      "See the caveats in the documentation: http://pandas.pydata.org/pandas-docs/stable/user_guide/indexing.html#returning-a-view-versus-a-copy\n",
      "  \"\"\"Entry point for launching an IPython kernel.\n"
     ]
    },
    {
     "data": {
      "text/html": [
       "<div>\n",
       "<style scoped>\n",
       "    .dataframe tbody tr th:only-of-type {\n",
       "        vertical-align: middle;\n",
       "    }\n",
       "\n",
       "    .dataframe tbody tr th {\n",
       "        vertical-align: top;\n",
       "    }\n",
       "\n",
       "    .dataframe thead th {\n",
       "        text-align: right;\n",
       "    }\n",
       "</style>\n",
       "<table border=\"1\" class=\"dataframe\">\n",
       "  <thead>\n",
       "    <tr style=\"text-align: right;\">\n",
       "      <th></th>\n",
       "      <th>text</th>\n",
       "      <th>sentiment</th>\n",
       "      <th>sentiment_score</th>\n",
       "      <th>clean_review1</th>\n",
       "      <th>sent_score1</th>\n",
       "      <th>sent_prediction1</th>\n",
       "      <th>clean_review_w/o_lem</th>\n",
       "      <th>sent_score_w/o_lem</th>\n",
       "      <th>sent_prediction_w/o_lem</th>\n",
       "      <th>vader_sent</th>\n",
       "    </tr>\n",
       "  </thead>\n",
       "  <tbody>\n",
       "    <tr>\n",
       "      <td>0</td>\n",
       "      <td>Now, I won't deny that when I purchased this o...</td>\n",
       "      <td>neg</td>\n",
       "      <td>0</td>\n",
       "      <td>deny purchased ebay high expectation incredibl...</td>\n",
       "      <td>9</td>\n",
       "      <td>1</td>\n",
       "      <td>deny purchased ebay high expectations incredib...</td>\n",
       "      <td>10</td>\n",
       "      <td>1</td>\n",
       "      <td>0.9410</td>\n",
       "    </tr>\n",
       "    <tr>\n",
       "      <td>1</td>\n",
       "      <td>The saddest thing about this \"tribute\" is that...</td>\n",
       "      <td>neg</td>\n",
       "      <td>0</td>\n",
       "      <td>saddest thing tribute almost singer including ...</td>\n",
       "      <td>-19</td>\n",
       "      <td>0</td>\n",
       "      <td>saddest thing tribute almost singers including...</td>\n",
       "      <td>-21</td>\n",
       "      <td>0</td>\n",
       "      <td>-0.9226</td>\n",
       "    </tr>\n",
       "    <tr>\n",
       "      <td>2</td>\n",
       "      <td>Last night I decided to watch the prequel or s...</td>\n",
       "      <td>neg</td>\n",
       "      <td>0</td>\n",
       "      <td>last night decided watch prequel shall say cal...</td>\n",
       "      <td>0</td>\n",
       "      <td>0</td>\n",
       "      <td>last night decided watch prequel shall say cal...</td>\n",
       "      <td>0</td>\n",
       "      <td>0</td>\n",
       "      <td>0.8002</td>\n",
       "    </tr>\n",
       "    <tr>\n",
       "      <td>3</td>\n",
       "      <td>I have to admit that i liked the first half of...</td>\n",
       "      <td>neg</td>\n",
       "      <td>0</td>\n",
       "      <td>admit liked first half sleeper looked good act...</td>\n",
       "      <td>-8</td>\n",
       "      <td>0</td>\n",
       "      <td>admit liked first half sleepers looked good ac...</td>\n",
       "      <td>-6</td>\n",
       "      <td>0</td>\n",
       "      <td>-0.4825</td>\n",
       "    </tr>\n",
       "    <tr>\n",
       "      <td>4</td>\n",
       "      <td>I was not impressed about this film especially...</td>\n",
       "      <td>neg</td>\n",
       "      <td>0</td>\n",
       "      <td>impressed film especially fact went cinema fam...</td>\n",
       "      <td>14</td>\n",
       "      <td>1</td>\n",
       "      <td>impressed film especially fact went cinema fam...</td>\n",
       "      <td>14</td>\n",
       "      <td>1</td>\n",
       "      <td>0.6718</td>\n",
       "    </tr>\n",
       "  </tbody>\n",
       "</table>\n",
       "</div>"
      ],
      "text/plain": [
       "                                                text sentiment  \\\n",
       "0  Now, I won't deny that when I purchased this o...       neg   \n",
       "1  The saddest thing about this \"tribute\" is that...       neg   \n",
       "2  Last night I decided to watch the prequel or s...       neg   \n",
       "3  I have to admit that i liked the first half of...       neg   \n",
       "4  I was not impressed about this film especially...       neg   \n",
       "\n",
       "   sentiment_score                                      clean_review1  \\\n",
       "0                0  deny purchased ebay high expectation incredibl...   \n",
       "1                0  saddest thing tribute almost singer including ...   \n",
       "2                0  last night decided watch prequel shall say cal...   \n",
       "3                0  admit liked first half sleeper looked good act...   \n",
       "4                0  impressed film especially fact went cinema fam...   \n",
       "\n",
       "   sent_score1  sent_prediction1  \\\n",
       "0            9                 1   \n",
       "1          -19                 0   \n",
       "2            0                 0   \n",
       "3           -8                 0   \n",
       "4           14                 1   \n",
       "\n",
       "                                clean_review_w/o_lem  sent_score_w/o_lem  \\\n",
       "0  deny purchased ebay high expectations incredib...                  10   \n",
       "1  saddest thing tribute almost singers including...                 -21   \n",
       "2  last night decided watch prequel shall say cal...                   0   \n",
       "3  admit liked first half sleepers looked good ac...                  -6   \n",
       "4  impressed film especially fact went cinema fam...                  14   \n",
       "\n",
       "   sent_prediction_w/o_lem  vader_sent  \n",
       "0                        1      0.9410  \n",
       "1                        0     -0.9226  \n",
       "2                        0      0.8002  \n",
       "3                        0     -0.4825  \n",
       "4                        1      0.6718  "
      ]
     },
     "execution_count": 267,
     "metadata": {},
     "output_type": "execute_result"
    }
   ],
   "source": [
    "final_data['vader_sent']=final_data['text'].apply(get_vader_sentiment)\n",
    "final_data.head()"
   ]
  },
  {
   "cell_type": "code",
   "execution_count": 268,
   "metadata": {},
   "outputs": [
    {
     "name": "stderr",
     "output_type": "stream",
     "text": [
      "C:\\Users\\Srishti\\AppData\\Local\\Continuum\\anaconda3\\lib\\site-packages\\ipykernel_launcher.py:1: SettingWithCopyWarning: \n",
      "A value is trying to be set on a copy of a slice from a DataFrame.\n",
      "Try using .loc[row_indexer,col_indexer] = value instead\n",
      "\n",
      "See the caveats in the documentation: http://pandas.pydata.org/pandas-docs/stable/user_guide/indexing.html#returning-a-view-versus-a-copy\n",
      "  \"\"\"Entry point for launching an IPython kernel.\n"
     ]
    },
    {
     "data": {
      "text/html": [
       "<div>\n",
       "<style scoped>\n",
       "    .dataframe tbody tr th:only-of-type {\n",
       "        vertical-align: middle;\n",
       "    }\n",
       "\n",
       "    .dataframe tbody tr th {\n",
       "        vertical-align: top;\n",
       "    }\n",
       "\n",
       "    .dataframe thead th {\n",
       "        text-align: right;\n",
       "    }\n",
       "</style>\n",
       "<table border=\"1\" class=\"dataframe\">\n",
       "  <thead>\n",
       "    <tr style=\"text-align: right;\">\n",
       "      <th></th>\n",
       "      <th>text</th>\n",
       "      <th>sentiment</th>\n",
       "      <th>sentiment_score</th>\n",
       "      <th>clean_review1</th>\n",
       "      <th>sent_score1</th>\n",
       "      <th>sent_prediction1</th>\n",
       "      <th>clean_review_w/o_lem</th>\n",
       "      <th>sent_score_w/o_lem</th>\n",
       "      <th>sent_prediction_w/o_lem</th>\n",
       "      <th>vader_sent</th>\n",
       "      <th>vader_prediction</th>\n",
       "    </tr>\n",
       "  </thead>\n",
       "  <tbody>\n",
       "    <tr>\n",
       "      <td>0</td>\n",
       "      <td>Now, I won't deny that when I purchased this o...</td>\n",
       "      <td>neg</td>\n",
       "      <td>0</td>\n",
       "      <td>deny purchased ebay high expectation incredibl...</td>\n",
       "      <td>9</td>\n",
       "      <td>1</td>\n",
       "      <td>deny purchased ebay high expectations incredib...</td>\n",
       "      <td>10</td>\n",
       "      <td>1</td>\n",
       "      <td>0.9410</td>\n",
       "      <td>1</td>\n",
       "    </tr>\n",
       "    <tr>\n",
       "      <td>1</td>\n",
       "      <td>The saddest thing about this \"tribute\" is that...</td>\n",
       "      <td>neg</td>\n",
       "      <td>0</td>\n",
       "      <td>saddest thing tribute almost singer including ...</td>\n",
       "      <td>-19</td>\n",
       "      <td>0</td>\n",
       "      <td>saddest thing tribute almost singers including...</td>\n",
       "      <td>-21</td>\n",
       "      <td>0</td>\n",
       "      <td>-0.9226</td>\n",
       "      <td>0</td>\n",
       "    </tr>\n",
       "    <tr>\n",
       "      <td>2</td>\n",
       "      <td>Last night I decided to watch the prequel or s...</td>\n",
       "      <td>neg</td>\n",
       "      <td>0</td>\n",
       "      <td>last night decided watch prequel shall say cal...</td>\n",
       "      <td>0</td>\n",
       "      <td>0</td>\n",
       "      <td>last night decided watch prequel shall say cal...</td>\n",
       "      <td>0</td>\n",
       "      <td>0</td>\n",
       "      <td>0.8002</td>\n",
       "      <td>1</td>\n",
       "    </tr>\n",
       "    <tr>\n",
       "      <td>3</td>\n",
       "      <td>I have to admit that i liked the first half of...</td>\n",
       "      <td>neg</td>\n",
       "      <td>0</td>\n",
       "      <td>admit liked first half sleeper looked good act...</td>\n",
       "      <td>-8</td>\n",
       "      <td>0</td>\n",
       "      <td>admit liked first half sleepers looked good ac...</td>\n",
       "      <td>-6</td>\n",
       "      <td>0</td>\n",
       "      <td>-0.4825</td>\n",
       "      <td>0</td>\n",
       "    </tr>\n",
       "    <tr>\n",
       "      <td>4</td>\n",
       "      <td>I was not impressed about this film especially...</td>\n",
       "      <td>neg</td>\n",
       "      <td>0</td>\n",
       "      <td>impressed film especially fact went cinema fam...</td>\n",
       "      <td>14</td>\n",
       "      <td>1</td>\n",
       "      <td>impressed film especially fact went cinema fam...</td>\n",
       "      <td>14</td>\n",
       "      <td>1</td>\n",
       "      <td>0.6718</td>\n",
       "      <td>1</td>\n",
       "    </tr>\n",
       "  </tbody>\n",
       "</table>\n",
       "</div>"
      ],
      "text/plain": [
       "                                                text sentiment  \\\n",
       "0  Now, I won't deny that when I purchased this o...       neg   \n",
       "1  The saddest thing about this \"tribute\" is that...       neg   \n",
       "2  Last night I decided to watch the prequel or s...       neg   \n",
       "3  I have to admit that i liked the first half of...       neg   \n",
       "4  I was not impressed about this film especially...       neg   \n",
       "\n",
       "   sentiment_score                                      clean_review1  \\\n",
       "0                0  deny purchased ebay high expectation incredibl...   \n",
       "1                0  saddest thing tribute almost singer including ...   \n",
       "2                0  last night decided watch prequel shall say cal...   \n",
       "3                0  admit liked first half sleeper looked good act...   \n",
       "4                0  impressed film especially fact went cinema fam...   \n",
       "\n",
       "   sent_score1  sent_prediction1  \\\n",
       "0            9                 1   \n",
       "1          -19                 0   \n",
       "2            0                 0   \n",
       "3           -8                 0   \n",
       "4           14                 1   \n",
       "\n",
       "                                clean_review_w/o_lem  sent_score_w/o_lem  \\\n",
       "0  deny purchased ebay high expectations incredib...                  10   \n",
       "1  saddest thing tribute almost singers including...                 -21   \n",
       "2  last night decided watch prequel shall say cal...                   0   \n",
       "3  admit liked first half sleepers looked good ac...                  -6   \n",
       "4  impressed film especially fact went cinema fam...                  14   \n",
       "\n",
       "   sent_prediction_w/o_lem  vader_sent  vader_prediction  \n",
       "0                        1      0.9410                 1  \n",
       "1                        0     -0.9226                 0  \n",
       "2                        0      0.8002                 1  \n",
       "3                        0     -0.4825                 0  \n",
       "4                        1      0.6718                 1  "
      ]
     },
     "execution_count": 268,
     "metadata": {},
     "output_type": "execute_result"
    }
   ],
   "source": [
    "final_data['vader_prediction']=final_data['vader_sent'].apply(lambda x:1 if x>0.3 else 0)\n",
    "final_data.head()"
   ]
  },
  {
   "cell_type": "markdown",
   "metadata": {},
   "source": [
    "##### Accuracy for sentimental score:"
   ]
  },
  {
   "cell_type": "code",
   "execution_count": 269,
   "metadata": {},
   "outputs": [
    {
     "data": {
      "text/plain": [
       "0.7056794804566173"
      ]
     },
     "execution_count": 269,
     "metadata": {},
     "output_type": "execute_result"
    }
   ],
   "source": [
    "accuracy_score(final_data.sentiment_score,final_data['vader_prediction'])"
   ]
  },
  {
   "cell_type": "markdown",
   "metadata": {},
   "source": [
    "#### Sentiment Prediction Strategy 3: Building our own model"
   ]
  },
  {
   "cell_type": "code",
   "execution_count": 270,
   "metadata": {},
   "outputs": [],
   "source": [
    "X=final_data.clean_review1\n",
    "y=final_data.sentiment_score"
   ]
  },
  {
   "cell_type": "code",
   "execution_count": 271,
   "metadata": {},
   "outputs": [],
   "source": [
    "from sklearn.model_selection import train_test_split\n",
    "X_train,X_test,y_train,y_test=train_test_split(X,y,test_size=0.2,random_state=31)"
   ]
  },
  {
   "cell_type": "markdown",
   "metadata": {},
   "source": [
    "#### Using CountVectorizer"
   ]
  },
  {
   "cell_type": "code",
   "execution_count": 272,
   "metadata": {},
   "outputs": [],
   "source": [
    "from sklearn.feature_extraction.text import CountVectorizer\n",
    "count_vect=CountVectorizer()"
   ]
  },
  {
   "cell_type": "code",
   "execution_count": 273,
   "metadata": {},
   "outputs": [],
   "source": [
    "X_train_bow=count_vect.fit_transform(X_train)\n",
    "X_test_bow=count_vect.transform(X_test)"
   ]
  },
  {
   "cell_type": "code",
   "execution_count": 274,
   "metadata": {},
   "outputs": [
    {
     "name": "stdout",
     "output_type": "stream",
     "text": [
      "(39665, 83023) (9917, 83023)\n"
     ]
    }
   ],
   "source": [
    "print(X_train_bow.shape,X_test_bow.shape)"
   ]
  },
  {
   "cell_type": "markdown",
   "metadata": {},
   "source": [
    "##### Model building using logistic regression"
   ]
  },
  {
   "cell_type": "code",
   "execution_count": 275,
   "metadata": {},
   "outputs": [],
   "source": [
    "from sklearn.linear_model import LogisticRegression\n",
    "from sklearn.metrics import accuracy_score, confusion_matrix"
   ]
  },
  {
   "cell_type": "code",
   "execution_count": 276,
   "metadata": {},
   "outputs": [
    {
     "name": "stderr",
     "output_type": "stream",
     "text": [
      "C:\\Users\\Srishti\\AppData\\Local\\Continuum\\anaconda3\\lib\\site-packages\\sklearn\\linear_model\\logistic.py:432: FutureWarning: Default solver will be changed to 'lbfgs' in 0.22. Specify a solver to silence this warning.\n",
      "  FutureWarning)\n"
     ]
    },
    {
     "data": {
      "text/plain": [
       "LogisticRegression(C=1.0, class_weight=None, dual=False, fit_intercept=True,\n",
       "                   intercept_scaling=1, l1_ratio=None, max_iter=100,\n",
       "                   multi_class='warn', n_jobs=None, penalty='l2',\n",
       "                   random_state=None, solver='warn', tol=0.0001, verbose=0,\n",
       "                   warm_start=False)"
      ]
     },
     "execution_count": 276,
     "metadata": {},
     "output_type": "execute_result"
    }
   ],
   "source": [
    "log_reg=LogisticRegression()\n",
    "log_reg.fit(X_train_bow,y_train)"
   ]
  },
  {
   "cell_type": "code",
   "execution_count": 277,
   "metadata": {},
   "outputs": [],
   "source": [
    "y_test_pred=log_reg.predict(X_test_bow)"
   ]
  },
  {
   "cell_type": "code",
   "execution_count": 278,
   "metadata": {},
   "outputs": [
    {
     "data": {
      "text/plain": [
       "0.8820207724110114"
      ]
     },
     "execution_count": 278,
     "metadata": {},
     "output_type": "execute_result"
    }
   ],
   "source": [
    "accuracy_score(y_test,y_test_pred) "
   ]
  },
  {
   "cell_type": "code",
   "execution_count": 279,
   "metadata": {},
   "outputs": [
    {
     "data": {
      "text/plain": [
       "array([[4260,  615],\n",
       "       [ 555, 4487]], dtype=int64)"
      ]
     },
     "execution_count": 279,
     "metadata": {},
     "output_type": "execute_result"
    }
   ],
   "source": [
    "confusion_matrix(y_test,y_test_pred)"
   ]
  },
  {
   "cell_type": "markdown",
   "metadata": {},
   "source": [
    "#### Using TfidfVectorizer"
   ]
  },
  {
   "cell_type": "code",
   "execution_count": 280,
   "metadata": {},
   "outputs": [],
   "source": [
    "from sklearn.feature_extraction.text import TfidfVectorizer\n",
    "tfidf_vect=TfidfVectorizer()"
   ]
  },
  {
   "cell_type": "code",
   "execution_count": 281,
   "metadata": {},
   "outputs": [],
   "source": [
    "X_train_bow1=tfidf_vect.fit_transform(X_train)\n",
    "X_test_bow1=tfidf_vect.transform(X_test)"
   ]
  },
  {
   "cell_type": "code",
   "execution_count": 282,
   "metadata": {},
   "outputs": [
    {
     "name": "stdout",
     "output_type": "stream",
     "text": [
      "(39665, 83023) (9917, 83023)\n"
     ]
    }
   ],
   "source": [
    "print(X_train_bow1.shape,X_test_bow1.shape)"
   ]
  },
  {
   "cell_type": "markdown",
   "metadata": {},
   "source": [
    "##### Model building using logistic regression"
   ]
  },
  {
   "cell_type": "code",
   "execution_count": 283,
   "metadata": {},
   "outputs": [
    {
     "name": "stderr",
     "output_type": "stream",
     "text": [
      "C:\\Users\\Srishti\\AppData\\Local\\Continuum\\anaconda3\\lib\\site-packages\\sklearn\\linear_model\\logistic.py:432: FutureWarning: Default solver will be changed to 'lbfgs' in 0.22. Specify a solver to silence this warning.\n",
      "  FutureWarning)\n"
     ]
    },
    {
     "data": {
      "text/plain": [
       "LogisticRegression(C=1.0, class_weight=None, dual=False, fit_intercept=True,\n",
       "                   intercept_scaling=1, l1_ratio=None, max_iter=100,\n",
       "                   multi_class='warn', n_jobs=None, penalty='l2',\n",
       "                   random_state=None, solver='warn', tol=0.0001, verbose=0,\n",
       "                   warm_start=False)"
      ]
     },
     "execution_count": 283,
     "metadata": {},
     "output_type": "execute_result"
    }
   ],
   "source": [
    "log_reg1=LogisticRegression()\n",
    "log_reg1.fit(X_train_bow1,y_train)"
   ]
  },
  {
   "cell_type": "code",
   "execution_count": 284,
   "metadata": {},
   "outputs": [],
   "source": [
    "y_test_pred1=log_reg1.predict(X_test_bow1)"
   ]
  },
  {
   "cell_type": "code",
   "execution_count": 285,
   "metadata": {},
   "outputs": [
    {
     "data": {
      "text/plain": [
       "0.8951295754764546"
      ]
     },
     "execution_count": 285,
     "metadata": {},
     "output_type": "execute_result"
    }
   ],
   "source": [
    "accuracy_score(y_test,y_test_pred1) "
   ]
  },
  {
   "cell_type": "code",
   "execution_count": 286,
   "metadata": {},
   "outputs": [
    {
     "data": {
      "text/plain": [
       "array([[4292,  583],\n",
       "       [ 457, 4585]], dtype=int64)"
      ]
     },
     "execution_count": 286,
     "metadata": {},
     "output_type": "execute_result"
    }
   ],
   "source": [
    "confusion_matrix(y_test,y_test_pred1)#here FN is also the least"
   ]
  },
  {
   "cell_type": "markdown",
   "metadata": {},
   "source": [
    "##### If I pick the adjectives from the reviews, it will help me to get the idea about the quality(i.e., bad, good, impressed) of the review depending on the type of concerned areas which can be understood by the nouns(like movie genre,music,character). \n",
    "##### Being able to understand about the following parts of speech we can understand how the audience's behaviour is depending on these words. And finally, we would be able to get the concerned areas hopefully by tracing those words relevancy."
   ]
  },
  {
   "cell_type": "markdown",
   "metadata": {},
   "source": [
    "### Customer Concern Areas:"
   ]
  },
  {
   "cell_type": "code",
   "execution_count": 297,
   "metadata": {},
   "outputs": [],
   "source": [
    "###How to extract nouns or adjectives from a review by using spacy\n",
    "import spacy"
   ]
  },
  {
   "cell_type": "code",
   "execution_count": 298,
   "metadata": {},
   "outputs": [],
   "source": [
    "##Parts Of Speech(POS)\n",
    "nlp=spacy.load(\"en_core_web_sm\") ##pos tagging"
   ]
  },
  {
   "cell_type": "code",
   "execution_count": 299,
   "metadata": {},
   "outputs": [
    {
     "data": {
      "text/plain": [
       "Now, I won't deny that when I purchased this off eBay, I had high expectations. This was an incredible out-of-print work from the master of comedy that I so enjoy. However, I was soon to be disappointed. Apologies to those who enjoyed it, but I just found the Compleat Al to be very difficult to watch. I got a few smiles, sure, but the majority of the funny came from the music videos (which I've got on DVD) and the rest was basically filler. You could tell that this was not Al's greatest video achievement (that honor goes to UHF). Honestly, I doubt if this will ever make the jump to DVD, so if you're an ultra-hardcore Al fan and just HAVE to own everything, buy the tape off eBay. Just don't pay too much for it."
      ]
     },
     "execution_count": 299,
     "metadata": {},
     "output_type": "execute_result"
    }
   ],
   "source": [
    "doc1=nlp(final_data.text[0]) ### model.predict(text)\n",
    "doc1"
   ]
  },
  {
   "cell_type": "raw",
   "metadata": {},
   "source": [
    "for token in doc1:\n",
    "    print(token.pos_,token.text)"
   ]
  },
  {
   "cell_type": "code",
   "execution_count": 300,
   "metadata": {},
   "outputs": [],
   "source": [
    "#### all the cleaned and lemmatized reviews have been stored as list in the variable review_list\n",
    "review_list=list(final_data.clean_review1) "
   ]
  },
  {
   "cell_type": "code",
   "execution_count": 301,
   "metadata": {},
   "outputs": [
    {
     "data": {
      "text/plain": [
       "'deny purchased ebay high expectation incredible print work master comedy enjoy however soon disappointed apology enjoyed found compleat difficult watch got smile sure majority funny came music video got dvd rest basically filler could tell greatest video achievement honor go uhf honestly doubt ever make jump dvd ultra hardcore fan everything buy tape ebay pay much'"
      ]
     },
     "execution_count": 301,
     "metadata": {},
     "output_type": "execute_result"
    }
   ],
   "source": [
    "review_list[0]"
   ]
  },
  {
   "cell_type": "markdown",
   "metadata": {},
   "source": [
    "#### Extract nouns for all reviews"
   ]
  },
  {
   "cell_type": "code",
   "execution_count": 302,
   "metadata": {},
   "outputs": [
    {
     "name": "stderr",
     "output_type": "stream",
     "text": [
      "100%|████████████████████████████████████████████████████████████████████████████| 49582/49582 [22:49<00:00, 36.21it/s]\n"
     ]
    }
   ],
   "source": [
    "from tqdm import tqdm\n",
    "nouns=[]\n",
    "for review in tqdm(review_list):\n",
    "    doc=nlp(review)\n",
    "    for token in doc:\n",
    "        if token.pos_=='NOUN':\n",
    "            nouns.append(token.text)"
   ]
  },
  {
   "cell_type": "code",
   "execution_count": 303,
   "metadata": {},
   "outputs": [
    {
     "data": {
      "text/plain": [
       "movie        94821\n",
       "film         82844\n",
       "time         29888\n",
       "character    24037\n",
       "story        23202\n",
       "scene        19206\n",
       "people       18121\n",
       "thing        15600\n",
       "way          14250\n",
       "life         13450\n",
       "dtype: int64"
      ]
     },
     "execution_count": 303,
     "metadata": {},
     "output_type": "execute_result"
    }
   ],
   "source": [
    "pd.Series(nouns).value_counts().head(10)"
   ]
  },
  {
   "cell_type": "code",
   "execution_count": 304,
   "metadata": {},
   "outputs": [],
   "source": [
    "###Make our code multithreaded\n",
    "###Make sure we are not doing any extra processing\n",
    "\n",
    "###Using the below model along with the pipeline will help us to process large set of data with minimum time as we can see in \n",
    "###the above case, i.e., while extracting Nouns it took me more time where i didn't use any pipeline and model while extracting\n",
    "###Adjectives it took some minutes only to get the words\n",
    "\n",
    "### the model of english language in spacy is \"en_core_web_sm\"\n",
    "\n",
    "### tagger : Assign part-of-speech tags. (Tagger)\n",
    "### parser : Assign dependency labels. (Dependency Parser)\n",
    "### ner : Detect and label named entities. (Entity Recognizer)\n",
    "\n",
    "### The pipeline used by the default models consists of a tagger, a parser and an entity recognizer. \n",
    "### Each pipeline component returns the processed Doc, which is then passed on to the next component.\n",
    "\n",
    "nlp1=spacy.load('en_core_web_sm',disable=['parser','ner'])"
   ]
  },
  {
   "cell_type": "markdown",
   "metadata": {},
   "source": [
    "#### Pipeline uasges:\n",
    "- Process the texts as a stream using nlp.pipe and buffer them in batches, instead of one-by-one. This is usually much more efficient.\n",
    "- Only apply the pipeline components you need. Getting predictions from the model that you don’t actually need adds up and becomes very inefficient at scale. To prevent this, use the disable keyword argument to disable components you don’t need – either when loading a model, or during processing with nlp.pipe."
   ]
  },
  {
   "cell_type": "markdown",
   "metadata": {},
   "source": [
    "#### Extract adjectives for all reviews"
   ]
  },
  {
   "cell_type": "code",
   "execution_count": 305,
   "metadata": {},
   "outputs": [
    {
     "name": "stderr",
     "output_type": "stream",
     "text": [
      "100%|███████████████████████████████████████████████████████████████████████████| 49582/49582 [05:01<00:00, 164.29it/s]\n"
     ]
    }
   ],
   "source": [
    "from tqdm import tqdm\n",
    "adjectives=[]\n",
    "for doc in tqdm(nlp1.pipe(review_list,batch_size=1,n_process=-1),total=len(review_list)):\n",
    "    for token in doc:\n",
    "        if token.pos_=='ADJ':\n",
    "            adjectives.append(token.text)"
   ]
  },
  {
   "cell_type": "code",
   "execution_count": 306,
   "metadata": {},
   "outputs": [
    {
     "data": {
      "text/plain": [
       "good      26897\n",
       "bad       17931\n",
       "great     15868\n",
       "many      13353\n",
       "little    11424\n",
       "much      11413\n",
       "best       9812\n",
       "first      9218\n",
       "real       8256\n",
       "old        8220\n",
       "dtype: int64"
      ]
     },
     "execution_count": 306,
     "metadata": {},
     "output_type": "execute_result"
    }
   ],
   "source": [
    "pd.Series(adjectives).value_counts().head(10)"
   ]
  },
  {
   "cell_type": "code",
   "execution_count": 309,
   "metadata": {},
   "outputs": [
    {
     "data": {
      "text/html": [
       "<span class=\"tex2jax_ignore\"><div class=\"entities\" style=\"line-height: 2.5; direction: ltr\">deny purchased \n",
       "<mark class=\"entity\" style=\"background: #7aecec; padding: 0.45em 0.6em; margin: 0 0.25em; line-height: 1; border-radius: 0.35em;\">\n",
       "    ebay\n",
       "    <span style=\"font-size: 0.8em; font-weight: bold; line-height: 1; border-radius: 0.35em; text-transform: uppercase; vertical-align: middle; margin-left: 0.5rem\">ORG</span>\n",
       "</mark>\n",
       " high expectation incredible print work master comedy enjoy however soon disappointed apology enjoyed found compleat difficult watch got smile sure majority funny came music video got \n",
       "<mark class=\"entity\" style=\"background: #bfeeb7; padding: 0.45em 0.6em; margin: 0 0.25em; line-height: 1; border-radius: 0.35em;\">\n",
       "    dvd\n",
       "    <span style=\"font-size: 0.8em; font-weight: bold; line-height: 1; border-radius: 0.35em; text-transform: uppercase; vertical-align: middle; margin-left: 0.5rem\">PRODUCT</span>\n",
       "</mark>\n",
       " rest basically filler could tell greatest video achievement honor go uhf honestly doubt ever make jump dvd ultra hardcore fan everything buy tape ebay pay much</div></span>"
      ],
      "text/plain": [
       "<IPython.core.display.HTML object>"
      ]
     },
     "metadata": {},
     "output_type": "display_data"
    },
    {
     "data": {
      "text/plain": [
       "[('ebay', 'ORG'), ('dvd', 'PRODUCT')]"
      ]
     },
     "execution_count": 309,
     "metadata": {},
     "output_type": "execute_result"
    }
   ],
   "source": [
    "####Visualizing using spacy the 1st text:\n",
    "\n",
    "from spacy import displacy\n",
    "final_datax = nlp(final_data['clean_review1'][0])\n",
    "displacy.render(final_datax, style=\"ent\")  ## It will highlight the named entities(entity recognition) as person or Org, etc.\n",
    "[(ent.text, ent.label_) for ent in final_datax.ents] ##Mentions the ner (person,product,etc) from the statements"
   ]
  },
  {
   "cell_type": "raw",
   "metadata": {},
   "source": [
    "docw = nlp(\"This is a sentence\")\n",
    "displacy.render(docw, style=\"dep\") ##Mentions the dependencies"
   ]
  },
  {
   "cell_type": "code",
   "execution_count": 310,
   "metadata": {},
   "outputs": [],
   "source": [
    "### film, story, character:\n",
    "### About \"film\" keyword what are they talking?\n",
    "### what is \"best\" according to them that they are talking about?\n",
    "### so we will find words_preceeded by film to get an idea\n",
    "### and we will also find words_succeeded by film"
   ]
  },
  {
   "cell_type": "code",
   "execution_count": 311,
   "metadata": {},
   "outputs": [],
   "source": [
    "### regex for word preceeding and succeeding 'any keyword'? "
   ]
  },
  {
   "cell_type": "code",
   "execution_count": 312,
   "metadata": {},
   "outputs": [],
   "source": [
    "import re"
   ]
  },
  {
   "cell_type": "code",
   "execution_count": 313,
   "metadata": {},
   "outputs": [],
   "source": [
    "def gen_results(kw,reviews_data):\n",
    "    pattern=re.compile(r\"\\w+\\s{}\\s\\w+\".format(kw))\n",
    "    prefix_suffix=(re.findall(pattern,reviews_data))\n",
    "    prefixes=[x.split()[0].lower() for x in prefix_suffix]\n",
    "    suffixes=[x.split()[-1].lower() for x in prefix_suffix]\n",
    "    prefixes_wo_stpwrds=[word for word in prefixes if not word in stop_updated]\n",
    "    suffixes_wo_stpwrds=[word for word in suffixes if not word in stop_updated]\n",
    "    top_pre=pd.Series(prefixes_wo_stpwrds).value_counts().head(5).index\n",
    "    top_suff=pd.Series(suffixes_wo_stpwrds).value_counts().head(5).index\n",
    "    table=pd.DataFrame({'before':top_pre,'after':top_suff})\n",
    "    table['keyword']=kw\n",
    "    return table[['before','keyword','after']]"
   ]
  },
  {
   "cell_type": "code",
   "execution_count": 314,
   "metadata": {},
   "outputs": [
    {
     "name": "stdout",
     "output_type": "stream",
     "text": [
      "deny purchased ebay high expectation incredible print work master comedy enjoy however soon disappointed apology enjoyed found compleat difficult watch got smile sure majority funny came music video got dvd rest basically filler could tell greatest video achievement honor go uhf honestly doubt ever make jump dvd ultra hardcore fan everything buy tape ebay pay much\n",
      " saddest thing tribute almost singer including otherwise incredibly talented nick cave seem missed whole point cohen intensity lie delivering line almost tuneless poise cohen transmits full extent poetry irony round humanity laughter tear one see singer upstart make convoluted suffering face launch pathetic squeal patent effort scream singer true pain feeling many probably listening horrendous operatic version simple song lennon imagine nothing simply nothing get close simplicity directness original form art need embellishment cohen art embellishment cast street looking like tasteless make sex sale cohen tribute found suffering suffering pitiful tribute awful reinterpretation entirely lacking original irony master truth told several singer sounded recruited asylum talent show cohen tribute letting sing material really way around may friend daughter could become tender hearted mood gift bad stay family fortunately end cohen performed majestic tower song even flower spoiled totally incongruous background carrying expression bored kid visit poor grandpa nursing home sad show really sadder truly love cohen\n",
      " last night decided watch prequel shall say called prequel carlito way carlito way rise power 2005 went straight dvd wonder completely mean completely waist time watching think pure waist time writing understand palma agreed producing fest movie except one fact tip hat jay hernandez play young brigante reminded niro got shoe brando portray young corleone godfather difference niro amazing even got oscar jay hernandez well gut trying young pacino bad think playing film anymore way watched #$% movie sat watched\n"
     ]
    }
   ],
   "source": [
    "# Join all the strings in list to form a complete string type document\n",
    "normal_text=list(final_data['clean_review1'])\n",
    "seperator = '\\n '\n",
    "final_str = seperator.join(normal_text)\n",
    "print(final_str[0:2000])"
   ]
  },
  {
   "cell_type": "code",
   "execution_count": 315,
   "metadata": {},
   "outputs": [
    {
     "data": {
      "text/html": [
       "<div>\n",
       "<style scoped>\n",
       "    .dataframe tbody tr th:only-of-type {\n",
       "        vertical-align: middle;\n",
       "    }\n",
       "\n",
       "    .dataframe tbody tr th {\n",
       "        vertical-align: top;\n",
       "    }\n",
       "\n",
       "    .dataframe thead th {\n",
       "        text-align: right;\n",
       "    }\n",
       "</style>\n",
       "<table border=\"1\" class=\"dataframe\">\n",
       "  <thead>\n",
       "    <tr style=\"text-align: right;\">\n",
       "      <th></th>\n",
       "      <th>before</th>\n",
       "      <th>keyword</th>\n",
       "      <th>after</th>\n",
       "    </tr>\n",
       "  </thead>\n",
       "  <tbody>\n",
       "    <tr>\n",
       "      <td>0</td>\n",
       "      <td>horror</td>\n",
       "      <td>film</td>\n",
       "      <td>like</td>\n",
       "    </tr>\n",
       "    <tr>\n",
       "      <td>1</td>\n",
       "      <td>see</td>\n",
       "      <td>film</td>\n",
       "      <td>ever</td>\n",
       "    </tr>\n",
       "    <tr>\n",
       "      <td>2</td>\n",
       "      <td>make</td>\n",
       "      <td>film</td>\n",
       "      <td>one</td>\n",
       "    </tr>\n",
       "    <tr>\n",
       "      <td>3</td>\n",
       "      <td>good</td>\n",
       "      <td>film</td>\n",
       "      <td>made</td>\n",
       "    </tr>\n",
       "    <tr>\n",
       "      <td>4</td>\n",
       "      <td>great</td>\n",
       "      <td>film</td>\n",
       "      <td>making</td>\n",
       "    </tr>\n",
       "  </tbody>\n",
       "</table>\n",
       "</div>"
      ],
      "text/plain": [
       "   before keyword   after\n",
       "0  horror    film    like\n",
       "1     see    film    ever\n",
       "2    make    film     one\n",
       "3    good    film    made\n",
       "4   great    film  making"
      ]
     },
     "execution_count": 315,
     "metadata": {},
     "output_type": "execute_result"
    }
   ],
   "source": [
    "gen_results(kw='film',reviews_data=final_str)"
   ]
  },
  {
   "cell_type": "code",
   "execution_count": 316,
   "metadata": {},
   "outputs": [
    {
     "data": {
      "text/html": [
       "<div>\n",
       "<style scoped>\n",
       "    .dataframe tbody tr th:only-of-type {\n",
       "        vertical-align: middle;\n",
       "    }\n",
       "\n",
       "    .dataframe tbody tr th {\n",
       "        vertical-align: top;\n",
       "    }\n",
       "\n",
       "    .dataframe thead th {\n",
       "        text-align: right;\n",
       "    }\n",
       "</style>\n",
       "<table border=\"1\" class=\"dataframe\">\n",
       "  <thead>\n",
       "    <tr style=\"text-align: right;\">\n",
       "      <th></th>\n",
       "      <th>before</th>\n",
       "      <th>keyword</th>\n",
       "      <th>after</th>\n",
       "    </tr>\n",
       "  </thead>\n",
       "  <tbody>\n",
       "    <tr>\n",
       "      <td>0</td>\n",
       "      <td>main</td>\n",
       "      <td>character</td>\n",
       "      <td>development</td>\n",
       "    </tr>\n",
       "    <tr>\n",
       "      <td>1</td>\n",
       "      <td>one</td>\n",
       "      <td>character</td>\n",
       "      <td>movie</td>\n",
       "    </tr>\n",
       "    <tr>\n",
       "      <td>2</td>\n",
       "      <td>lead</td>\n",
       "      <td>character</td>\n",
       "      <td>film</td>\n",
       "    </tr>\n",
       "    <tr>\n",
       "      <td>3</td>\n",
       "      <td>movie</td>\n",
       "      <td>character</td>\n",
       "      <td>actor</td>\n",
       "    </tr>\n",
       "    <tr>\n",
       "      <td>4</td>\n",
       "      <td>film</td>\n",
       "      <td>character</td>\n",
       "      <td>well</td>\n",
       "    </tr>\n",
       "  </tbody>\n",
       "</table>\n",
       "</div>"
      ],
      "text/plain": [
       "  before    keyword        after\n",
       "0   main  character  development\n",
       "1    one  character        movie\n",
       "2   lead  character         film\n",
       "3  movie  character        actor\n",
       "4   film  character         well"
      ]
     },
     "execution_count": 316,
     "metadata": {},
     "output_type": "execute_result"
    }
   ],
   "source": [
    "gen_results(kw='character',reviews_data=final_str)"
   ]
  },
  {
   "cell_type": "code",
   "execution_count": 317,
   "metadata": {},
   "outputs": [
    {
     "data": {
      "text/html": [
       "<div>\n",
       "<style scoped>\n",
       "    .dataframe tbody tr th:only-of-type {\n",
       "        vertical-align: middle;\n",
       "    }\n",
       "\n",
       "    .dataframe tbody tr th {\n",
       "        vertical-align: top;\n",
       "    }\n",
       "\n",
       "    .dataframe thead th {\n",
       "        text-align: right;\n",
       "    }\n",
       "</style>\n",
       "<table border=\"1\" class=\"dataframe\">\n",
       "  <thead>\n",
       "    <tr style=\"text-align: right;\">\n",
       "      <th></th>\n",
       "      <th>before</th>\n",
       "      <th>keyword</th>\n",
       "      <th>after</th>\n",
       "    </tr>\n",
       "  </thead>\n",
       "  <tbody>\n",
       "    <tr>\n",
       "      <td>0</td>\n",
       "      <td>love</td>\n",
       "      <td>story</td>\n",
       "      <td>line</td>\n",
       "    </tr>\n",
       "    <tr>\n",
       "      <td>1</td>\n",
       "      <td>tell</td>\n",
       "      <td>story</td>\n",
       "      <td>one</td>\n",
       "    </tr>\n",
       "    <tr>\n",
       "      <td>2</td>\n",
       "      <td>true</td>\n",
       "      <td>story</td>\n",
       "      <td>told</td>\n",
       "    </tr>\n",
       "    <tr>\n",
       "      <td>3</td>\n",
       "      <td>good</td>\n",
       "      <td>story</td>\n",
       "      <td>film</td>\n",
       "    </tr>\n",
       "    <tr>\n",
       "      <td>4</td>\n",
       "      <td>great</td>\n",
       "      <td>story</td>\n",
       "      <td>movie</td>\n",
       "    </tr>\n",
       "  </tbody>\n",
       "</table>\n",
       "</div>"
      ],
      "text/plain": [
       "  before keyword  after\n",
       "0   love   story   line\n",
       "1   tell   story    one\n",
       "2   true   story   told\n",
       "3   good   story   film\n",
       "4  great   story  movie"
      ]
     },
     "execution_count": 317,
     "metadata": {},
     "output_type": "execute_result"
    }
   ],
   "source": [
    "gen_results(kw='story',reviews_data=final_str)"
   ]
  },
  {
   "cell_type": "code",
   "execution_count": 318,
   "metadata": {},
   "outputs": [
    {
     "data": {
      "text/html": [
       "<div>\n",
       "<style scoped>\n",
       "    .dataframe tbody tr th:only-of-type {\n",
       "        vertical-align: middle;\n",
       "    }\n",
       "\n",
       "    .dataframe tbody tr th {\n",
       "        vertical-align: top;\n",
       "    }\n",
       "\n",
       "    .dataframe thead th {\n",
       "        text-align: right;\n",
       "    }\n",
       "</style>\n",
       "<table border=\"1\" class=\"dataframe\">\n",
       "  <thead>\n",
       "    <tr style=\"text-align: right;\">\n",
       "      <th></th>\n",
       "      <th>before</th>\n",
       "      <th>keyword</th>\n",
       "      <th>after</th>\n",
       "    </tr>\n",
       "  </thead>\n",
       "  <tbody>\n",
       "    <tr>\n",
       "      <td>0</td>\n",
       "      <td>one</td>\n",
       "      <td>scene</td>\n",
       "      <td>movie</td>\n",
       "    </tr>\n",
       "    <tr>\n",
       "      <td>1</td>\n",
       "      <td>sex</td>\n",
       "      <td>scene</td>\n",
       "      <td>film</td>\n",
       "    </tr>\n",
       "    <tr>\n",
       "      <td>2</td>\n",
       "      <td>fight</td>\n",
       "      <td>scene</td>\n",
       "      <td>one</td>\n",
       "    </tr>\n",
       "    <tr>\n",
       "      <td>3</td>\n",
       "      <td>action</td>\n",
       "      <td>scene</td>\n",
       "      <td>scene</td>\n",
       "    </tr>\n",
       "    <tr>\n",
       "      <td>4</td>\n",
       "      <td>every</td>\n",
       "      <td>scene</td>\n",
       "      <td>like</td>\n",
       "    </tr>\n",
       "  </tbody>\n",
       "</table>\n",
       "</div>"
      ],
      "text/plain": [
       "   before keyword  after\n",
       "0     one   scene  movie\n",
       "1     sex   scene   film\n",
       "2   fight   scene    one\n",
       "3  action   scene  scene\n",
       "4   every   scene   like"
      ]
     },
     "execution_count": 318,
     "metadata": {},
     "output_type": "execute_result"
    }
   ],
   "source": [
    "gen_results(kw='scene',reviews_data=final_str)"
   ]
  },
  {
   "cell_type": "code",
   "execution_count": 319,
   "metadata": {},
   "outputs": [
    {
     "data": {
      "text/html": [
       "<div>\n",
       "<style scoped>\n",
       "    .dataframe tbody tr th:only-of-type {\n",
       "        vertical-align: middle;\n",
       "    }\n",
       "\n",
       "    .dataframe tbody tr th {\n",
       "        vertical-align: top;\n",
       "    }\n",
       "\n",
       "    .dataframe thead th {\n",
       "        text-align: right;\n",
       "    }\n",
       "</style>\n",
       "<table border=\"1\" class=\"dataframe\">\n",
       "  <thead>\n",
       "    <tr style=\"text-align: right;\">\n",
       "      <th></th>\n",
       "      <th>before</th>\n",
       "      <th>keyword</th>\n",
       "      <th>after</th>\n",
       "    </tr>\n",
       "  </thead>\n",
       "  <tbody>\n",
       "    <tr>\n",
       "      <td>0</td>\n",
       "      <td>one</td>\n",
       "      <td>best</td>\n",
       "      <td>film</td>\n",
       "    </tr>\n",
       "    <tr>\n",
       "      <td>1</td>\n",
       "      <td>probably</td>\n",
       "      <td>best</td>\n",
       "      <td>friend</td>\n",
       "    </tr>\n",
       "    <tr>\n",
       "      <td>2</td>\n",
       "      <td>movie</td>\n",
       "      <td>best</td>\n",
       "      <td>movie</td>\n",
       "    </tr>\n",
       "    <tr>\n",
       "      <td>3</td>\n",
       "      <td>film</td>\n",
       "      <td>best</td>\n",
       "      <td>part</td>\n",
       "    </tr>\n",
       "    <tr>\n",
       "      <td>4</td>\n",
       "      <td>far</td>\n",
       "      <td>best</td>\n",
       "      <td>performance</td>\n",
       "    </tr>\n",
       "  </tbody>\n",
       "</table>\n",
       "</div>"
      ],
      "text/plain": [
       "     before keyword        after\n",
       "0       one    best         film\n",
       "1  probably    best       friend\n",
       "2     movie    best        movie\n",
       "3      film    best         part\n",
       "4       far    best  performance"
      ]
     },
     "execution_count": 319,
     "metadata": {},
     "output_type": "execute_result"
    }
   ],
   "source": [
    "gen_results(kw='best',reviews_data=final_str)"
   ]
  },
  {
   "cell_type": "code",
   "execution_count": 320,
   "metadata": {},
   "outputs": [
    {
     "data": {
      "text/html": [
       "<div>\n",
       "<style scoped>\n",
       "    .dataframe tbody tr th:only-of-type {\n",
       "        vertical-align: middle;\n",
       "    }\n",
       "\n",
       "    .dataframe tbody tr th {\n",
       "        vertical-align: top;\n",
       "    }\n",
       "\n",
       "    .dataframe thead th {\n",
       "        text-align: right;\n",
       "    }\n",
       "</style>\n",
       "<table border=\"1\" class=\"dataframe\">\n",
       "  <thead>\n",
       "    <tr style=\"text-align: right;\">\n",
       "      <th></th>\n",
       "      <th>before</th>\n",
       "      <th>keyword</th>\n",
       "      <th>after</th>\n",
       "    </tr>\n",
       "  </thead>\n",
       "  <tbody>\n",
       "    <tr>\n",
       "      <td>0</td>\n",
       "      <td>movie</td>\n",
       "      <td>bad</td>\n",
       "      <td>movie</td>\n",
       "    </tr>\n",
       "    <tr>\n",
       "      <td>1</td>\n",
       "      <td>really</td>\n",
       "      <td>bad</td>\n",
       "      <td>guy</td>\n",
       "    </tr>\n",
       "    <tr>\n",
       "      <td>2</td>\n",
       "      <td>good</td>\n",
       "      <td>bad</td>\n",
       "      <td>acting</td>\n",
       "    </tr>\n",
       "    <tr>\n",
       "      <td>3</td>\n",
       "      <td>film</td>\n",
       "      <td>bad</td>\n",
       "      <td>film</td>\n",
       "    </tr>\n",
       "    <tr>\n",
       "      <td>4</td>\n",
       "      <td>acting</td>\n",
       "      <td>bad</td>\n",
       "      <td>thing</td>\n",
       "    </tr>\n",
       "  </tbody>\n",
       "</table>\n",
       "</div>"
      ],
      "text/plain": [
       "   before keyword   after\n",
       "0   movie     bad   movie\n",
       "1  really     bad     guy\n",
       "2    good     bad  acting\n",
       "3    film     bad    film\n",
       "4  acting     bad   thing"
      ]
     },
     "execution_count": 320,
     "metadata": {},
     "output_type": "execute_result"
    }
   ],
   "source": [
    "gen_results(kw='bad',reviews_data=final_str)"
   ]
  },
  {
   "cell_type": "code",
   "execution_count": 321,
   "metadata": {},
   "outputs": [
    {
     "data": {
      "text/html": [
       "<div>\n",
       "<style scoped>\n",
       "    .dataframe tbody tr th:only-of-type {\n",
       "        vertical-align: middle;\n",
       "    }\n",
       "\n",
       "    .dataframe tbody tr th {\n",
       "        vertical-align: top;\n",
       "    }\n",
       "\n",
       "    .dataframe thead th {\n",
       "        text-align: right;\n",
       "    }\n",
       "</style>\n",
       "<table border=\"1\" class=\"dataframe\">\n",
       "  <thead>\n",
       "    <tr style=\"text-align: right;\">\n",
       "      <th></th>\n",
       "      <th>before</th>\n",
       "      <th>keyword</th>\n",
       "      <th>after</th>\n",
       "    </tr>\n",
       "  </thead>\n",
       "  <tbody>\n",
       "    <tr>\n",
       "      <td>0</td>\n",
       "      <td>like</td>\n",
       "      <td>real</td>\n",
       "      <td>life</td>\n",
       "    </tr>\n",
       "    <tr>\n",
       "      <td>1</td>\n",
       "      <td>movie</td>\n",
       "      <td>real</td>\n",
       "      <td>world</td>\n",
       "    </tr>\n",
       "    <tr>\n",
       "      <td>2</td>\n",
       "      <td>film</td>\n",
       "      <td>real</td>\n",
       "      <td>people</td>\n",
       "    </tr>\n",
       "    <tr>\n",
       "      <td>3</td>\n",
       "      <td>character</td>\n",
       "      <td>real</td>\n",
       "      <td>story</td>\n",
       "    </tr>\n",
       "    <tr>\n",
       "      <td>4</td>\n",
       "      <td>get</td>\n",
       "      <td>real</td>\n",
       "      <td>reason</td>\n",
       "    </tr>\n",
       "  </tbody>\n",
       "</table>\n",
       "</div>"
      ],
      "text/plain": [
       "      before keyword   after\n",
       "0       like    real    life\n",
       "1      movie    real   world\n",
       "2       film    real  people\n",
       "3  character    real   story\n",
       "4        get    real  reason"
      ]
     },
     "execution_count": 321,
     "metadata": {},
     "output_type": "execute_result"
    }
   ],
   "source": [
    "gen_results(kw='real',reviews_data=final_str)"
   ]
  },
  {
   "cell_type": "code",
   "execution_count": 322,
   "metadata": {},
   "outputs": [
    {
     "data": {
      "text/html": [
       "<div>\n",
       "<style scoped>\n",
       "    .dataframe tbody tr th:only-of-type {\n",
       "        vertical-align: middle;\n",
       "    }\n",
       "\n",
       "    .dataframe tbody tr th {\n",
       "        vertical-align: top;\n",
       "    }\n",
       "\n",
       "    .dataframe thead th {\n",
       "        text-align: right;\n",
       "    }\n",
       "</style>\n",
       "<table border=\"1\" class=\"dataframe\">\n",
       "  <thead>\n",
       "    <tr style=\"text-align: right;\">\n",
       "      <th></th>\n",
       "      <th>before</th>\n",
       "      <th>keyword</th>\n",
       "      <th>after</th>\n",
       "    </tr>\n",
       "  </thead>\n",
       "  <tbody>\n",
       "    <tr>\n",
       "      <td>0</td>\n",
       "      <td>first</td>\n",
       "      <td>time</td>\n",
       "      <td>movie</td>\n",
       "    </tr>\n",
       "    <tr>\n",
       "      <td>1</td>\n",
       "      <td>waste</td>\n",
       "      <td>time</td>\n",
       "      <td>film</td>\n",
       "    </tr>\n",
       "    <tr>\n",
       "      <td>2</td>\n",
       "      <td>long</td>\n",
       "      <td>time</td>\n",
       "      <td>one</td>\n",
       "    </tr>\n",
       "    <tr>\n",
       "      <td>3</td>\n",
       "      <td>every</td>\n",
       "      <td>time</td>\n",
       "      <td>time</td>\n",
       "    </tr>\n",
       "    <tr>\n",
       "      <td>4</td>\n",
       "      <td>many</td>\n",
       "      <td>time</td>\n",
       "      <td>see</td>\n",
       "    </tr>\n",
       "  </tbody>\n",
       "</table>\n",
       "</div>"
      ],
      "text/plain": [
       "  before keyword  after\n",
       "0  first    time  movie\n",
       "1  waste    time   film\n",
       "2   long    time    one\n",
       "3  every    time   time\n",
       "4   many    time    see"
      ]
     },
     "execution_count": 322,
     "metadata": {},
     "output_type": "execute_result"
    }
   ],
   "source": [
    "gen_results(kw='time',reviews_data=final_str)"
   ]
  },
  {
   "cell_type": "code",
   "execution_count": 323,
   "metadata": {},
   "outputs": [
    {
     "data": {
      "text/html": [
       "<div>\n",
       "<style scoped>\n",
       "    .dataframe tbody tr th:only-of-type {\n",
       "        vertical-align: middle;\n",
       "    }\n",
       "\n",
       "    .dataframe tbody tr th {\n",
       "        vertical-align: top;\n",
       "    }\n",
       "\n",
       "    .dataframe thead th {\n",
       "        text-align: right;\n",
       "    }\n",
       "</style>\n",
       "<table border=\"1\" class=\"dataframe\">\n",
       "  <thead>\n",
       "    <tr style=\"text-align: right;\">\n",
       "      <th></th>\n",
       "      <th>before</th>\n",
       "      <th>keyword</th>\n",
       "      <th>after</th>\n",
       "    </tr>\n",
       "  </thead>\n",
       "  <tbody>\n",
       "    <tr>\n",
       "      <td>0</td>\n",
       "      <td>movie</td>\n",
       "      <td>watch</td>\n",
       "      <td>movie</td>\n",
       "    </tr>\n",
       "    <tr>\n",
       "      <td>1</td>\n",
       "      <td>fun</td>\n",
       "      <td>watch</td>\n",
       "      <td>film</td>\n",
       "    </tr>\n",
       "    <tr>\n",
       "      <td>2</td>\n",
       "      <td>want</td>\n",
       "      <td>watch</td>\n",
       "      <td>one</td>\n",
       "    </tr>\n",
       "    <tr>\n",
       "      <td>3</td>\n",
       "      <td>film</td>\n",
       "      <td>watch</td>\n",
       "      <td>show</td>\n",
       "    </tr>\n",
       "    <tr>\n",
       "      <td>4</td>\n",
       "      <td>time</td>\n",
       "      <td>watch</td>\n",
       "      <td>something</td>\n",
       "    </tr>\n",
       "  </tbody>\n",
       "</table>\n",
       "</div>"
      ],
      "text/plain": [
       "  before keyword      after\n",
       "0  movie   watch      movie\n",
       "1    fun   watch       film\n",
       "2   want   watch        one\n",
       "3   film   watch       show\n",
       "4   time   watch  something"
      ]
     },
     "execution_count": 323,
     "metadata": {},
     "output_type": "execute_result"
    }
   ],
   "source": [
    "gen_results(kw='watch',reviews_data=final_str)"
   ]
  },
  {
   "cell_type": "code",
   "execution_count": 324,
   "metadata": {},
   "outputs": [
    {
     "data": {
      "text/html": [
       "<div>\n",
       "<style scoped>\n",
       "    .dataframe tbody tr th:only-of-type {\n",
       "        vertical-align: middle;\n",
       "    }\n",
       "\n",
       "    .dataframe tbody tr th {\n",
       "        vertical-align: top;\n",
       "    }\n",
       "\n",
       "    .dataframe thead th {\n",
       "        text-align: right;\n",
       "    }\n",
       "</style>\n",
       "<table border=\"1\" class=\"dataframe\">\n",
       "  <thead>\n",
       "    <tr style=\"text-align: right;\">\n",
       "      <th></th>\n",
       "      <th>before</th>\n",
       "      <th>keyword</th>\n",
       "      <th>after</th>\n",
       "    </tr>\n",
       "  </thead>\n",
       "  <tbody>\n",
       "    <tr>\n",
       "      <td>0</td>\n",
       "      <td>special</td>\n",
       "      <td>effect</td>\n",
       "      <td>bad</td>\n",
       "    </tr>\n",
       "    <tr>\n",
       "      <td>1</td>\n",
       "      <td>sound</td>\n",
       "      <td>effect</td>\n",
       "      <td>film</td>\n",
       "    </tr>\n",
       "    <tr>\n",
       "      <td>2</td>\n",
       "      <td>visual</td>\n",
       "      <td>effect</td>\n",
       "      <td>movie</td>\n",
       "    </tr>\n",
       "    <tr>\n",
       "      <td>3</td>\n",
       "      <td>make</td>\n",
       "      <td>effect</td>\n",
       "      <td>good</td>\n",
       "    </tr>\n",
       "    <tr>\n",
       "      <td>4</td>\n",
       "      <td>gore</td>\n",
       "      <td>effect</td>\n",
       "      <td>make</td>\n",
       "    </tr>\n",
       "  </tbody>\n",
       "</table>\n",
       "</div>"
      ],
      "text/plain": [
       "    before keyword  after\n",
       "0  special  effect    bad\n",
       "1    sound  effect   film\n",
       "2   visual  effect  movie\n",
       "3     make  effect   good\n",
       "4     gore  effect   make"
      ]
     },
     "execution_count": 324,
     "metadata": {},
     "output_type": "execute_result"
    }
   ],
   "source": [
    "gen_results(kw='effect',reviews_data=final_str)"
   ]
  },
  {
   "cell_type": "code",
   "execution_count": 325,
   "metadata": {},
   "outputs": [
    {
     "data": {
      "text/html": [
       "<div>\n",
       "<style scoped>\n",
       "    .dataframe tbody tr th:only-of-type {\n",
       "        vertical-align: middle;\n",
       "    }\n",
       "\n",
       "    .dataframe tbody tr th {\n",
       "        vertical-align: top;\n",
       "    }\n",
       "\n",
       "    .dataframe thead th {\n",
       "        text-align: right;\n",
       "    }\n",
       "</style>\n",
       "<table border=\"1\" class=\"dataframe\">\n",
       "  <thead>\n",
       "    <tr style=\"text-align: right;\">\n",
       "      <th></th>\n",
       "      <th>before</th>\n",
       "      <th>keyword</th>\n",
       "      <th>after</th>\n",
       "    </tr>\n",
       "  </thead>\n",
       "  <tbody>\n",
       "    <tr>\n",
       "      <td>0</td>\n",
       "      <td>complete</td>\n",
       "      <td>waste</td>\n",
       "      <td>time</td>\n",
       "    </tr>\n",
       "    <tr>\n",
       "      <td>1</td>\n",
       "      <td>movie</td>\n",
       "      <td>waste</td>\n",
       "      <td>money</td>\n",
       "    </tr>\n",
       "    <tr>\n",
       "      <td>2</td>\n",
       "      <td>total</td>\n",
       "      <td>waste</td>\n",
       "      <td>film</td>\n",
       "    </tr>\n",
       "    <tr>\n",
       "      <td>3</td>\n",
       "      <td>film</td>\n",
       "      <td>waste</td>\n",
       "      <td>hour</td>\n",
       "    </tr>\n",
       "    <tr>\n",
       "      <td>4</td>\n",
       "      <td>want</td>\n",
       "      <td>waste</td>\n",
       "      <td>talent</td>\n",
       "    </tr>\n",
       "  </tbody>\n",
       "</table>\n",
       "</div>"
      ],
      "text/plain": [
       "     before keyword   after\n",
       "0  complete   waste    time\n",
       "1     movie   waste   money\n",
       "2     total   waste    film\n",
       "3      film   waste    hour\n",
       "4      want   waste  talent"
      ]
     },
     "execution_count": 325,
     "metadata": {},
     "output_type": "execute_result"
    }
   ],
   "source": [
    "gen_results(kw='waste',reviews_data=final_str)"
   ]
  },
  {
   "cell_type": "markdown",
   "metadata": {},
   "source": [
    "### Topic Modelling"
   ]
  },
  {
   "cell_type": "code",
   "execution_count": 326,
   "metadata": {},
   "outputs": [],
   "source": [
    "#?nlp1.pipe"
   ]
  },
  {
   "cell_type": "code",
   "execution_count": 327,
   "metadata": {},
   "outputs": [],
   "source": [
    "### topic modelling ###\n",
    "### NMF, suppose there is a matrix M of 46000(rows) * 10000(columns), it will divide it into two matrix as \n",
    "### matrix A(Document Topic Matrix) and matrixB(Term Topic Matrix) where the size of matrix A will be 46000(rows)*20(no. of \n",
    "### columns i want) and B matrix will be 20(fewer no. of rows)*10000. Therefore, if we multiply A and B  it will give back M.\n",
    "### i.e., M=A*B."
   ]
  },
  {
   "cell_type": "markdown",
   "metadata": {},
   "source": [
    "### create a tfidf matrix and then apply nmf"
   ]
  },
  {
   "cell_type": "code",
   "execution_count": 328,
   "metadata": {},
   "outputs": [],
   "source": [
    "import sklearn.feature_extraction.text as text"
   ]
  },
  {
   "cell_type": "code",
   "execution_count": 329,
   "metadata": {},
   "outputs": [],
   "source": [
    "tfidf=text.TfidfVectorizer(review_list) ##max_features=10000"
   ]
  },
  {
   "cell_type": "code",
   "execution_count": 330,
   "metadata": {},
   "outputs": [],
   "source": [
    "tfidf_matrix=tfidf.fit_transform(review_list)"
   ]
  },
  {
   "cell_type": "code",
   "execution_count": 331,
   "metadata": {},
   "outputs": [
    {
     "data": {
      "text/plain": [
       "(49582, 91633)"
      ]
     },
     "execution_count": 331,
     "metadata": {},
     "output_type": "execute_result"
    }
   ],
   "source": [
    "tfidf_matrix.shape"
   ]
  },
  {
   "cell_type": "code",
   "execution_count": 332,
   "metadata": {},
   "outputs": [
    {
     "data": {
      "text/plain": [
       "<49582x91633 sparse matrix of type '<class 'numpy.float64'>'\n",
       "\twith 4663944 stored elements in Compressed Sparse Row format>"
      ]
     },
     "execution_count": 332,
     "metadata": {},
     "output_type": "execute_result"
    }
   ],
   "source": [
    "tfidf_matrix"
   ]
  },
  {
   "cell_type": "code",
   "execution_count": 333,
   "metadata": {},
   "outputs": [
    {
     "data": {
      "text/plain": [
       "'1967'"
      ]
     },
     "execution_count": 333,
     "metadata": {},
     "output_type": "execute_result"
    }
   ],
   "source": [
    "tfidf.get_feature_names()[500]"
   ]
  },
  {
   "cell_type": "markdown",
   "metadata": {},
   "source": [
    "#### Try to do NMF"
   ]
  },
  {
   "cell_type": "code",
   "execution_count": 334,
   "metadata": {},
   "outputs": [],
   "source": [
    "import sklearn.decomposition as decomposition"
   ]
  },
  {
   "cell_type": "code",
   "execution_count": 335,
   "metadata": {},
   "outputs": [],
   "source": [
    "nmf_model=decomposition.NMF(n_components=5) ## n_components-->Topics"
   ]
  },
  {
   "cell_type": "code",
   "execution_count": 336,
   "metadata": {},
   "outputs": [],
   "source": [
    "W=nmf_model.fit_transform(tfidf_matrix)"
   ]
  },
  {
   "cell_type": "code",
   "execution_count": 337,
   "metadata": {},
   "outputs": [
    {
     "data": {
      "text/plain": [
       "(49582, 5)"
      ]
     },
     "execution_count": 337,
     "metadata": {},
     "output_type": "execute_result"
    }
   ],
   "source": [
    "W.shape ###which document content majority of what Topic"
   ]
  },
  {
   "cell_type": "code",
   "execution_count": 338,
   "metadata": {},
   "outputs": [],
   "source": [
    "H=nmf_model.components_   ###what each topic means"
   ]
  },
  {
   "cell_type": "code",
   "execution_count": 339,
   "metadata": {},
   "outputs": [
    {
     "data": {
      "text/plain": [
       "(5, 91633)"
      ]
     },
     "execution_count": 339,
     "metadata": {},
     "output_type": "execute_result"
    }
   ],
   "source": [
    "H.shape "
   ]
  },
  {
   "cell_type": "code",
   "execution_count": 340,
   "metadata": {},
   "outputs": [
    {
     "data": {
      "text/plain": [
       "array([77471, 14439, 57884, 47424, 49840], dtype=int64)"
      ]
     },
     "execution_count": 340,
     "metadata": {},
     "output_type": "execute_result"
    }
   ],
   "source": [
    "H[0].argsort()[-5:][::-1]"
   ]
  },
  {
   "cell_type": "code",
   "execution_count": 341,
   "metadata": {},
   "outputs": [],
   "source": [
    "idx=H[0].argsort()[-5:][::-1]"
   ]
  },
  {
   "cell_type": "code",
   "execution_count": 342,
   "metadata": {},
   "outputs": [
    {
     "data": {
      "text/plain": [
       "'story'"
      ]
     },
     "execution_count": 342,
     "metadata": {},
     "output_type": "execute_result"
    }
   ],
   "source": [
    "tfidf.get_feature_names()[77471]"
   ]
  },
  {
   "cell_type": "code",
   "execution_count": 343,
   "metadata": {},
   "outputs": [
    {
     "data": {
      "text/plain": [
       "array(['story', 'character', 'one', 'life', 'man'], dtype='<U72')"
      ]
     },
     "execution_count": 343,
     "metadata": {},
     "output_type": "execute_result"
    }
   ],
   "source": [
    "np.array(tfidf.get_feature_names())[idx]"
   ]
  },
  {
   "cell_type": "code",
   "execution_count": 344,
   "metadata": {},
   "outputs": [],
   "source": [
    "def get_key_words(h,k=5):                ### k-->no. of words i want\n",
    "    idx=h.argsort()[-k:][::-1]\n",
    "    return np.array(tfidf.get_feature_names())[idx]"
   ]
  },
  {
   "cell_type": "code",
   "execution_count": 345,
   "metadata": {},
   "outputs": [
    {
     "data": {
      "text/plain": [
       "[array(['story', 'character', 'one', 'life', 'man'], dtype='<U72'),\n",
       " array(['movie', 'watch', 'see', 'good', 'seen'], dtype='<U72'),\n",
       " array(['show', 'episode', 'series', 'season', 'funny'], dtype='<U72'),\n",
       " array(['bad', 'even', 'acting', 'like', 'worst'], dtype='<U72'),\n",
       " array(['film', 'see', 'great', 'seen', 'made'], dtype='<U72')]"
      ]
     },
     "execution_count": 345,
     "metadata": {},
     "output_type": "execute_result"
    }
   ],
   "source": [
    "[get_key_words(i) for i in H]"
   ]
  },
  {
   "cell_type": "code",
   "execution_count": 346,
   "metadata": {},
   "outputs": [
    {
     "name": "stderr",
     "output_type": "stream",
     "text": [
      "100%|███████████████████████████████████████████████████████████████████████████| 49582/49582 [04:50<00:00, 170.65it/s]\n"
     ]
    }
   ],
   "source": [
    "##Keeping Nouns only:\n",
    "document1=[]\n",
    "for doc in tqdm(nlp1.pipe(review_list,n_threads=-1,batch_size=1),total=len(review_list)):\n",
    "    text_doc=[]\n",
    "    for tok in doc:\n",
    "        if tok.pos_=='NOUN':\n",
    "            text_doc.append(tok.text)\n",
    "    text_doc=\" \".join(text_doc)\n",
    "    document1.append(text_doc)"
   ]
  },
  {
   "cell_type": "code",
   "execution_count": 347,
   "metadata": {},
   "outputs": [
    {
     "data": {
      "text/plain": [
       "'expectation print work master comedy apology compleat watch majority music video dvd rest filler video achievement honor doubt jump fan tape'"
      ]
     },
     "execution_count": 347,
     "metadata": {},
     "output_type": "execute_result"
    }
   ],
   "source": [
    "document1[0]"
   ]
  },
  {
   "cell_type": "code",
   "execution_count": 348,
   "metadata": {},
   "outputs": [],
   "source": [
    "tfidf2=text.TfidfVectorizer(document1) #,max_features=10000"
   ]
  },
  {
   "cell_type": "code",
   "execution_count": 349,
   "metadata": {},
   "outputs": [],
   "source": [
    "tfidf2_matrix=tfidf2.fit_transform(document1)"
   ]
  },
  {
   "cell_type": "code",
   "execution_count": 350,
   "metadata": {},
   "outputs": [],
   "source": [
    "nmf_model2=decomposition.NMF(n_components=5) ## n_components-->Topics\n",
    "W2=nmf_model2.fit_transform(tfidf2_matrix)\n",
    "H2=nmf_model2.components_"
   ]
  },
  {
   "cell_type": "code",
   "execution_count": 351,
   "metadata": {},
   "outputs": [],
   "source": [
    "def get_key_words2(h,k=5):                ### k-->no. of words i want\n",
    "    idx=h.argsort()[-k:][::-1]\n",
    "    return np.array(tfidf2.get_feature_names())[idx]"
   ]
  },
  {
   "cell_type": "code",
   "execution_count": 352,
   "metadata": {},
   "outputs": [
    {
     "data": {
      "text/plain": [
       "[array(['movie', 'time', 'watch', 'plot', 'actor'], dtype='<U58'),\n",
       " array(['film', 'director', 'horror', 'plot', 'actor'], dtype='<U58'),\n",
       " array(['story', 'character', 'actor', 'book', 'performance'], dtype='<U58'),\n",
       " array(['show', 'episode', 'season', 'series', 'television'], dtype='<U58'),\n",
       " array(['time', 'life', 'people', 'scene', 'woman'], dtype='<U58')]"
      ]
     },
     "execution_count": 352,
     "metadata": {},
     "output_type": "execute_result"
    }
   ],
   "source": [
    "[get_key_words2(i) for i in H2]"
   ]
  },
  {
   "cell_type": "code",
   "execution_count": 353,
   "metadata": {},
   "outputs": [],
   "source": [
    "dom_topic=W2.argmax(axis=1)"
   ]
  },
  {
   "cell_type": "code",
   "execution_count": 354,
   "metadata": {},
   "outputs": [
    {
     "data": {
      "text/html": [
       "<div>\n",
       "<style scoped>\n",
       "    .dataframe tbody tr th:only-of-type {\n",
       "        vertical-align: middle;\n",
       "    }\n",
       "\n",
       "    .dataframe tbody tr th {\n",
       "        vertical-align: top;\n",
       "    }\n",
       "\n",
       "    .dataframe thead th {\n",
       "        text-align: right;\n",
       "    }\n",
       "</style>\n",
       "<table border=\"1\" class=\"dataframe\">\n",
       "  <thead>\n",
       "    <tr style=\"text-align: right;\">\n",
       "      <th></th>\n",
       "      <th>reviews</th>\n",
       "      <th>dom_topic</th>\n",
       "    </tr>\n",
       "  </thead>\n",
       "  <tbody>\n",
       "    <tr>\n",
       "      <td>0</td>\n",
       "      <td>deny purchased ebay high expectation incredibl...</td>\n",
       "      <td>4</td>\n",
       "    </tr>\n",
       "    <tr>\n",
       "      <td>1</td>\n",
       "      <td>saddest thing tribute almost singer including ...</td>\n",
       "      <td>4</td>\n",
       "    </tr>\n",
       "    <tr>\n",
       "      <td>2</td>\n",
       "      <td>last night decided watch prequel shall say cal...</td>\n",
       "      <td>0</td>\n",
       "    </tr>\n",
       "    <tr>\n",
       "      <td>3</td>\n",
       "      <td>admit liked first half sleeper looked good act...</td>\n",
       "      <td>2</td>\n",
       "    </tr>\n",
       "    <tr>\n",
       "      <td>4</td>\n",
       "      <td>impressed film especially fact went cinema fam...</td>\n",
       "      <td>1</td>\n",
       "    </tr>\n",
       "  </tbody>\n",
       "</table>\n",
       "</div>"
      ],
      "text/plain": [
       "                                             reviews  dom_topic\n",
       "0  deny purchased ebay high expectation incredibl...          4\n",
       "1  saddest thing tribute almost singer including ...          4\n",
       "2  last night decided watch prequel shall say cal...          0\n",
       "3  admit liked first half sleeper looked good act...          2\n",
       "4  impressed film especially fact went cinema fam...          1"
      ]
     },
     "execution_count": 354,
     "metadata": {},
     "output_type": "execute_result"
    }
   ],
   "source": [
    "results=pd.DataFrame({'reviews':review_list,'dom_topic':dom_topic})\n",
    "results.head()"
   ]
  },
  {
   "cell_type": "code",
   "execution_count": 355,
   "metadata": {},
   "outputs": [
    {
     "data": {
      "text/plain": [
       "array([4, 0, 2, 1, 3], dtype=int64)"
      ]
     },
     "execution_count": 355,
     "metadata": {},
     "output_type": "execute_result"
    }
   ],
   "source": [
    "results['dom_topic'].unique()"
   ]
  },
  {
   "cell_type": "code",
   "execution_count": 356,
   "metadata": {},
   "outputs": [
    {
     "data": {
      "text/plain": [
       "'admit liked first half sleeper looked good acting even better story childhood pain revenge interesting moving superior hollywood film one mentioned far least latest comment came courtroom scene brat pitt character followed plan rescue two friend rightly accused murder felt cheated movie insulted intelligence warning spoiler anyone accept false alibi witnessed priest two guy tell investigation amnesia judge member jury believe wise give motif murderer away sorry end story weak anger movie great potential'"
      ]
     },
     "execution_count": 356,
     "metadata": {},
     "output_type": "execute_result"
    }
   ],
   "source": [
    "results['reviews'][3]"
   ]
  },
  {
   "cell_type": "code",
   "execution_count": 357,
   "metadata": {},
   "outputs": [],
   "source": [
    "topic_2_desc={0:'structure',1:'plot',2:'factors',3:'type',4:'visuals'}"
   ]
  },
  {
   "cell_type": "code",
   "execution_count": 358,
   "metadata": {},
   "outputs": [
    {
     "data": {
      "text/html": [
       "<div>\n",
       "<style scoped>\n",
       "    .dataframe tbody tr th:only-of-type {\n",
       "        vertical-align: middle;\n",
       "    }\n",
       "\n",
       "    .dataframe tbody tr th {\n",
       "        vertical-align: top;\n",
       "    }\n",
       "\n",
       "    .dataframe thead th {\n",
       "        text-align: right;\n",
       "    }\n",
       "</style>\n",
       "<table border=\"1\" class=\"dataframe\">\n",
       "  <thead>\n",
       "    <tr style=\"text-align: right;\">\n",
       "      <th></th>\n",
       "      <th>reviews</th>\n",
       "      <th>dom_topic</th>\n",
       "      <th>topic_desc</th>\n",
       "    </tr>\n",
       "  </thead>\n",
       "  <tbody>\n",
       "    <tr>\n",
       "      <td>0</td>\n",
       "      <td>deny purchased ebay high expectation incredibl...</td>\n",
       "      <td>4</td>\n",
       "      <td>visuals</td>\n",
       "    </tr>\n",
       "    <tr>\n",
       "      <td>1</td>\n",
       "      <td>saddest thing tribute almost singer including ...</td>\n",
       "      <td>4</td>\n",
       "      <td>visuals</td>\n",
       "    </tr>\n",
       "    <tr>\n",
       "      <td>2</td>\n",
       "      <td>last night decided watch prequel shall say cal...</td>\n",
       "      <td>0</td>\n",
       "      <td>structure</td>\n",
       "    </tr>\n",
       "    <tr>\n",
       "      <td>3</td>\n",
       "      <td>admit liked first half sleeper looked good act...</td>\n",
       "      <td>2</td>\n",
       "      <td>factors</td>\n",
       "    </tr>\n",
       "    <tr>\n",
       "      <td>4</td>\n",
       "      <td>impressed film especially fact went cinema fam...</td>\n",
       "      <td>1</td>\n",
       "      <td>plot</td>\n",
       "    </tr>\n",
       "  </tbody>\n",
       "</table>\n",
       "</div>"
      ],
      "text/plain": [
       "                                             reviews  dom_topic topic_desc\n",
       "0  deny purchased ebay high expectation incredibl...          4    visuals\n",
       "1  saddest thing tribute almost singer including ...          4    visuals\n",
       "2  last night decided watch prequel shall say cal...          0  structure\n",
       "3  admit liked first half sleeper looked good act...          2    factors\n",
       "4  impressed film especially fact went cinema fam...          1       plot"
      ]
     },
     "execution_count": 358,
     "metadata": {},
     "output_type": "execute_result"
    }
   ],
   "source": [
    "results['topic_desc']=results['dom_topic'].map(topic_2_desc)\n",
    "results.head()"
   ]
  },
  {
   "cell_type": "code",
   "execution_count": 359,
   "metadata": {},
   "outputs": [
    {
     "data": {
      "text/plain": [
       "visuals      14739\n",
       "plot         13429\n",
       "structure    12336\n",
       "factors       6039\n",
       "type          3039\n",
       "Name: topic_desc, dtype: int64"
      ]
     },
     "execution_count": 359,
     "metadata": {},
     "output_type": "execute_result"
    }
   ],
   "source": [
    "results['topic_desc'].value_counts()"
   ]
  },
  {
   "cell_type": "markdown",
   "metadata": {},
   "source": [
    "### k-means Clustering for Unigrams:"
   ]
  },
  {
   "cell_type": "code",
   "execution_count": 360,
   "metadata": {},
   "outputs": [],
   "source": [
    "num_clusters=5\n",
    "tfidf_vect_unigrams=TfidfVectorizer() #giving memory error in case max_features is not used ,max_features=50000"
   ]
  },
  {
   "cell_type": "code",
   "execution_count": 361,
   "metadata": {},
   "outputs": [],
   "source": [
    "X_unigrams=tfidf_vect_unigrams.fit_transform(final_data['clean_review1'])\n",
    "unigram_words=tfidf_vect_unigrams.get_feature_names()"
   ]
  },
  {
   "cell_type": "code",
   "execution_count": 362,
   "metadata": {},
   "outputs": [
    {
     "data": {
      "text/plain": [
       "KMeans(algorithm='auto', copy_x=True, init='k-means++', max_iter=300,\n",
       "       n_clusters=5, n_init=10, n_jobs=None, precompute_distances='auto',\n",
       "       random_state=0, tol=0.0001, verbose=0)"
      ]
     },
     "execution_count": 362,
     "metadata": {},
     "output_type": "execute_result"
    }
   ],
   "source": [
    "from sklearn.cluster import KMeans\n",
    "kmeans=KMeans(n_clusters=num_clusters, random_state=0)\n",
    "kmeans.fit(X_unigrams)"
   ]
  },
  {
   "cell_type": "code",
   "execution_count": 363,
   "metadata": {},
   "outputs": [
    {
     "name": "stderr",
     "output_type": "stream",
     "text": [
      "C:\\Users\\Srishti\\AppData\\Local\\Continuum\\anaconda3\\lib\\site-packages\\ipykernel_launcher.py:2: SettingWithCopyWarning: \n",
      "A value is trying to be set on a copy of a slice from a DataFrame.\n",
      "Try using .loc[row_indexer,col_indexer] = value instead\n",
      "\n",
      "See the caveats in the documentation: http://pandas.pydata.org/pandas-docs/stable/user_guide/indexing.html#returning-a-view-versus-a-copy\n",
      "  \n"
     ]
    },
    {
     "data": {
      "text/plain": [
       "4    21375\n",
       "3     8832\n",
       "1     8730\n",
       "0     8354\n",
       "2     2291\n",
       "Name: cluster_predicted, dtype: int64"
      ]
     },
     "execution_count": 363,
     "metadata": {},
     "output_type": "execute_result"
    }
   ],
   "source": [
    "pred_cluster = kmeans.predict(X_unigrams)\n",
    "final_data['cluster_predicted'] = pred_cluster\n",
    "final_data['cluster_predicted'].value_counts()"
   ]
  },
  {
   "cell_type": "code",
   "execution_count": 364,
   "metadata": {},
   "outputs": [
    {
     "data": {
      "text/plain": [
       "(49582,)"
      ]
     },
     "execution_count": 364,
     "metadata": {},
     "output_type": "execute_result"
    }
   ],
   "source": [
    "pred_cluster.shape"
   ]
  },
  {
   "cell_type": "code",
   "execution_count": 365,
   "metadata": {},
   "outputs": [
    {
     "data": {
      "text/plain": [
       "(5, 91633)"
      ]
     },
     "execution_count": 365,
     "metadata": {},
     "output_type": "execute_result"
    }
   ],
   "source": [
    "kmeans.cluster_centers_.shape"
   ]
  },
  {
   "cell_type": "code",
   "execution_count": 366,
   "metadata": {},
   "outputs": [
    {
     "name": "stdout",
     "output_type": "stream",
     "text": [
      "Top term per clusters\n",
      "Cluster :  0\n",
      "movie\n",
      "one\n",
      "like\n",
      "good\n",
      "really\n",
      "Cluster :  1\n",
      "film\n",
      "one\n",
      "like\n",
      "character\n",
      "movie\n",
      "Cluster :  2\n",
      "show\n",
      "episode\n",
      "series\n",
      "season\n",
      "like\n",
      "Cluster :  3\n",
      "movie\n",
      "bad\n",
      "one\n",
      "like\n",
      "film\n",
      "Cluster :  4\n",
      "film\n",
      "movie\n",
      "one\n",
      "story\n",
      "time\n"
     ]
    }
   ],
   "source": [
    "print('Top term per clusters')\n",
    "#Get the index of the cluster centers in reverse order for every cluster\n",
    "#Step 1:\n",
    "order_centroids_arg=kmeans.cluster_centers_.argsort()[:,::-1]\n",
    "#Step 2:\n",
    "for i in range(num_clusters):\n",
    "    print('Cluster : ',i)\n",
    "    for ind in order_centroids_arg[i,:5]:\n",
    "        #To print the dominating term per cluster\n",
    "        print(unigram_words[ind])"
   ]
  },
  {
   "cell_type": "code",
   "execution_count": 367,
   "metadata": {
    "scrolled": true
   },
   "outputs": [
    {
     "data": {
      "text/html": [
       "<div>\n",
       "<style scoped>\n",
       "    .dataframe tbody tr th:only-of-type {\n",
       "        vertical-align: middle;\n",
       "    }\n",
       "\n",
       "    .dataframe tbody tr th {\n",
       "        vertical-align: top;\n",
       "    }\n",
       "\n",
       "    .dataframe thead th {\n",
       "        text-align: right;\n",
       "    }\n",
       "</style>\n",
       "<table border=\"1\" class=\"dataframe\">\n",
       "  <thead>\n",
       "    <tr style=\"text-align: right;\">\n",
       "      <th></th>\n",
       "      <th>text</th>\n",
       "      <th>sentiment</th>\n",
       "      <th>sentiment_score</th>\n",
       "      <th>clean_review1</th>\n",
       "      <th>sent_score1</th>\n",
       "      <th>sent_prediction1</th>\n",
       "      <th>clean_review_w/o_lem</th>\n",
       "      <th>sent_score_w/o_lem</th>\n",
       "      <th>sent_prediction_w/o_lem</th>\n",
       "      <th>vader_sent</th>\n",
       "      <th>vader_prediction</th>\n",
       "      <th>cluster_predicted</th>\n",
       "    </tr>\n",
       "  </thead>\n",
       "  <tbody>\n",
       "    <tr>\n",
       "      <td>0</td>\n",
       "      <td>Now, I won't deny that when I purchased this o...</td>\n",
       "      <td>neg</td>\n",
       "      <td>0</td>\n",
       "      <td>deny purchased ebay high expectation incredibl...</td>\n",
       "      <td>9</td>\n",
       "      <td>1</td>\n",
       "      <td>deny purchased ebay high expectations incredib...</td>\n",
       "      <td>10</td>\n",
       "      <td>1</td>\n",
       "      <td>0.9410</td>\n",
       "      <td>1</td>\n",
       "      <td>4</td>\n",
       "    </tr>\n",
       "    <tr>\n",
       "      <td>1</td>\n",
       "      <td>The saddest thing about this \"tribute\" is that...</td>\n",
       "      <td>neg</td>\n",
       "      <td>0</td>\n",
       "      <td>saddest thing tribute almost singer including ...</td>\n",
       "      <td>-19</td>\n",
       "      <td>0</td>\n",
       "      <td>saddest thing tribute almost singers including...</td>\n",
       "      <td>-21</td>\n",
       "      <td>0</td>\n",
       "      <td>-0.9226</td>\n",
       "      <td>0</td>\n",
       "      <td>4</td>\n",
       "    </tr>\n",
       "    <tr>\n",
       "      <td>2</td>\n",
       "      <td>Last night I decided to watch the prequel or s...</td>\n",
       "      <td>neg</td>\n",
       "      <td>0</td>\n",
       "      <td>last night decided watch prequel shall say cal...</td>\n",
       "      <td>0</td>\n",
       "      <td>0</td>\n",
       "      <td>last night decided watch prequel shall say cal...</td>\n",
       "      <td>0</td>\n",
       "      <td>0</td>\n",
       "      <td>0.8002</td>\n",
       "      <td>1</td>\n",
       "      <td>3</td>\n",
       "    </tr>\n",
       "    <tr>\n",
       "      <td>3</td>\n",
       "      <td>I have to admit that i liked the first half of...</td>\n",
       "      <td>neg</td>\n",
       "      <td>0</td>\n",
       "      <td>admit liked first half sleeper looked good act...</td>\n",
       "      <td>-8</td>\n",
       "      <td>0</td>\n",
       "      <td>admit liked first half sleepers looked good ac...</td>\n",
       "      <td>-6</td>\n",
       "      <td>0</td>\n",
       "      <td>-0.4825</td>\n",
       "      <td>0</td>\n",
       "      <td>3</td>\n",
       "    </tr>\n",
       "    <tr>\n",
       "      <td>4</td>\n",
       "      <td>I was not impressed about this film especially...</td>\n",
       "      <td>neg</td>\n",
       "      <td>0</td>\n",
       "      <td>impressed film especially fact went cinema fam...</td>\n",
       "      <td>14</td>\n",
       "      <td>1</td>\n",
       "      <td>impressed film especially fact went cinema fam...</td>\n",
       "      <td>14</td>\n",
       "      <td>1</td>\n",
       "      <td>0.6718</td>\n",
       "      <td>1</td>\n",
       "      <td>1</td>\n",
       "    </tr>\n",
       "  </tbody>\n",
       "</table>\n",
       "</div>"
      ],
      "text/plain": [
       "                                                text sentiment  \\\n",
       "0  Now, I won't deny that when I purchased this o...       neg   \n",
       "1  The saddest thing about this \"tribute\" is that...       neg   \n",
       "2  Last night I decided to watch the prequel or s...       neg   \n",
       "3  I have to admit that i liked the first half of...       neg   \n",
       "4  I was not impressed about this film especially...       neg   \n",
       "\n",
       "   sentiment_score                                      clean_review1  \\\n",
       "0                0  deny purchased ebay high expectation incredibl...   \n",
       "1                0  saddest thing tribute almost singer including ...   \n",
       "2                0  last night decided watch prequel shall say cal...   \n",
       "3                0  admit liked first half sleeper looked good act...   \n",
       "4                0  impressed film especially fact went cinema fam...   \n",
       "\n",
       "   sent_score1  sent_prediction1  \\\n",
       "0            9                 1   \n",
       "1          -19                 0   \n",
       "2            0                 0   \n",
       "3           -8                 0   \n",
       "4           14                 1   \n",
       "\n",
       "                                clean_review_w/o_lem  sent_score_w/o_lem  \\\n",
       "0  deny purchased ebay high expectations incredib...                  10   \n",
       "1  saddest thing tribute almost singers including...                 -21   \n",
       "2  last night decided watch prequel shall say cal...                   0   \n",
       "3  admit liked first half sleepers looked good ac...                  -6   \n",
       "4  impressed film especially fact went cinema fam...                  14   \n",
       "\n",
       "   sent_prediction_w/o_lem  vader_sent  vader_prediction  cluster_predicted  \n",
       "0                        1      0.9410                 1                  4  \n",
       "1                        0     -0.9226                 0                  4  \n",
       "2                        0      0.8002                 1                  3  \n",
       "3                        0     -0.4825                 0                  3  \n",
       "4                        1      0.6718                 1                  1  "
      ]
     },
     "execution_count": 367,
     "metadata": {},
     "output_type": "execute_result"
    }
   ],
   "source": [
    "final_data.head()"
   ]
  },
  {
   "cell_type": "markdown",
   "metadata": {},
   "source": [
    "### Visualization of the unigrams clustering:"
   ]
  },
  {
   "cell_type": "code",
   "execution_count": 368,
   "metadata": {},
   "outputs": [
    {
     "data": {
      "text/plain": [
       "<matplotlib.image.AxesImage at 0x1806a3ae488>"
      ]
     },
     "execution_count": 368,
     "metadata": {},
     "output_type": "execute_result"
    },
    {
     "data": {
      "image/png": "[encoded data removed]",
      "text/plain": [
       "<Figure size 432x288 with 1 Axes>"
      ]
     },
     "metadata": {
      "needs_background": "light"
     },
     "output_type": "display_data"
    }
   ],
   "source": [
    "group = final_data[final_data['cluster_predicted'] == 4]\n",
    "text = ' '.join(final_data['clean_review1'])\n",
    "wc = WordCloud(background_color='white').generate(text)\n",
    "plt.imshow(wc)"
   ]
  },
  {
   "cell_type": "markdown",
   "metadata": {},
   "source": [
    "### Document Similarity:"
   ]
  },
  {
   "cell_type": "code",
   "execution_count": 369,
   "metadata": {},
   "outputs": [],
   "source": [
    "from sklearn.metrics.pairwise import cosine_similarity"
   ]
  },
  {
   "cell_type": "code",
   "execution_count": 372,
   "metadata": {},
   "outputs": [],
   "source": [
    "from sklearn.feature_extraction.text import TfidfVectorizer\n",
    "count_vect_doc1=TfidfVectorizer(max_features=10000)\n",
    "X_doc1=count_vect_doc1.fit_transform(final_data['clean_review1'])"
   ]
  },
  {
   "cell_type": "code",
   "execution_count": 373,
   "metadata": {},
   "outputs": [],
   "source": [
    "df_doc1=pd.DataFrame(X_doc1.toarray(),columns=count_vect_doc1.get_feature_names())"
   ]
  },
  {
   "cell_type": "markdown",
   "metadata": {},
   "source": [
    "##### for the 13th review, get the top 5 similar reviews"
   ]
  },
  {
   "cell_type": "code",
   "execution_count": 374,
   "metadata": {},
   "outputs": [],
   "source": [
    "cs = cosine_similarity(df_doc1.T) #best way to find the cosine_similarity"
   ]
  },
  {
   "cell_type": "code",
   "execution_count": 375,
   "metadata": {},
   "outputs": [
    {
     "data": {
      "text/plain": [
       "array([9190, 3997, 9662, 9740,   14], dtype=int64)"
      ]
     },
     "execution_count": 375,
     "metadata": {},
     "output_type": "execute_result"
    }
   ],
   "source": [
    "#correct logic for randomly picking any index from inbetween the data\n",
    "cs[12].argsort()[::-1][1:6]"
   ]
  },
  {
   "cell_type": "code",
   "execution_count": 376,
   "metadata": {},
   "outputs": [
    {
     "data": {
      "text/plain": [
       "'kid picked video store great hear liza dorothy cause sound like mom many bad song animation pretty crude compared cartoon time'"
      ]
     },
     "execution_count": 376,
     "metadata": {},
     "output_type": "execute_result"
    }
   ],
   "source": [
    "final_data['clean_review1'][12]"
   ]
  },
  {
   "cell_type": "code",
   "execution_count": 379,
   "metadata": {},
   "outputs": [
    {
     "data": {
      "text/plain": [
       "'well thoroughly enjoyed movie funny sad yes guy andie macdowell shagged hot interesting realistic character plot well beautiful scenery think mum like still think allowed call sad kers club though'"
      ]
     },
     "execution_count": 379,
     "metadata": {},
     "output_type": "execute_result"
    }
   ],
   "source": [
    "#Check for the different indices\n",
    "final_data['clean_review1'][3997]"
   ]
  },
  {
   "cell_type": "code",
   "execution_count": 380,
   "metadata": {},
   "outputs": [
    {
     "data": {
      "text/plain": [
       "'saw virtually redeeming quality movie thing see quentin tarantino seeming insane obsession attractive woman movie perhaps one decent quality overall however found movie surrealistic ridiculous hand held film making coupled slow motion cinematic gimmick found clumsy dizzying even sickening overall music throughout horrible repetitive extreme well reminding psychological warfare military various malcontent various vignette made movie haphazard placement unfulfilling unresolved content conclusion depressing movie true _film_ term reserve true art left bad feeling believe various people try spin romantic comedy though certainly isolated element movie repudiates content form conclusion association genre suggest staying far away notwithstanding seemingly overwhelming positive view imdb rating source'"
      ]
     },
     "execution_count": 380,
     "metadata": {},
     "output_type": "execute_result"
    }
   ],
   "source": [
    "final_data['clean_review1'][9662]"
   ]
  },
  {
   "cell_type": "code",
   "execution_count": 381,
   "metadata": {},
   "outputs": [],
   "source": [
    "def get_similar_words(text,sim_mat):\n",
    "    cos_vals=sim_mat[text].sort_values(ascending=False)\n",
    "    similar_words=cos_vals.drop(text).head(5)\n",
    "    return similar_words"
   ]
  },
  {
   "cell_type": "code",
   "execution_count": 385,
   "metadata": {},
   "outputs": [
    {
     "data": {
      "text/plain": [
       "movie     0.359575\n",
       "acting    0.321227\n",
       "good      0.278299\n",
       "even      0.275313\n",
       "like      0.274725\n",
       "Name: bad, dtype: float64"
      ]
     },
     "execution_count": 385,
     "metadata": {},
     "output_type": "execute_result"
    }
   ],
   "source": [
    "sim_mat=cosine_similarity(df_doc1.T)\n",
    "sim_mat=pd.DataFrame(sim_mat,columns=df_doc1.columns,index=df_doc1.columns)\n",
    "get_similar_words('bad',sim_mat)"
   ]
  },
  {
   "cell_type": "code",
   "execution_count": 386,
   "metadata": {},
   "outputs": [
    {
     "data": {
      "text/plain": [
       "movie    0.298209\n",
       "much     0.293479\n",
       "one      0.262086\n",
       "could    0.250659\n",
       "like     0.246254\n",
       "Name: better, dtype: float64"
      ]
     },
     "execution_count": 386,
     "metadata": {},
     "output_type": "execute_result"
    }
   ],
   "source": [
    "#Understanding how the function works\n",
    "sim_mat['better'].sort_values(ascending=False).drop('better').head(5)"
   ]
  },
  {
   "cell_type": "code",
   "execution_count": null,
   "metadata": {},
   "outputs": [],
   "source": []
  }
 ],
 "metadata": {
  "kernelspec": {
   "display_name": "Python 3",
   "language": "python",
   "name": "python3"
  },
  "language_info": {
   "codemirror_mode": {
    "name": "ipython",
    "version": 3
   },
   "file_extension": ".py",
   "mimetype": "text/x-python",
   "name": "python",
   "nbconvert_exporter": "python",
   "pygments_lexer": "ipython3",
   "version": "3.7.4"
  }
 },
 "nbformat": 4,
 "nbformat_minor": 2
}
